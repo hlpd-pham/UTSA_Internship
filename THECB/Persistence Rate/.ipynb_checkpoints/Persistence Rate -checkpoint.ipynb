{
 "cells": [
  {
   "cell_type": "code",
   "execution_count": 1,
   "metadata": {},
   "outputs": [],
   "source": [
    "import pandas as pd\n",
    "import numpy as np"
   ]
  },
  {
   "cell_type": "code",
   "execution_count": 2,
   "metadata": {},
   "outputs": [],
   "source": [
    "persistence_14 = pd.read_excel('Persistence Count.xlsx',sheet_name='2014')"
   ]
  },
  {
   "cell_type": "code",
   "execution_count": 3,
   "metadata": {},
   "outputs": [],
   "source": [
    "persistence_15 = pd.read_excel('Persistence Count.xlsx',sheet_name='2015')"
   ]
  },
  {
   "cell_type": "code",
   "execution_count": 4,
   "metadata": {},
   "outputs": [],
   "source": [
    "persistence_16 = pd.read_excel('Persistence Count.xlsx',sheet_name='2016')"
   ]
  },
  {
   "cell_type": "code",
   "execution_count": 5,
   "metadata": {},
   "outputs": [],
   "source": [
    "persistence_df = pd.merge(persistence_14, persistence_15,how='outer',on='Institution')"
   ]
  },
  {
   "cell_type": "code",
   "execution_count": 6,
   "metadata": {},
   "outputs": [],
   "source": [
    "persistence_df = pd.merge(persistence_df, persistence_16,how='outer',on='Institution')"
   ]
  },
  {
   "cell_type": "code",
   "execution_count": 7,
   "metadata": {},
   "outputs": [],
   "source": [
    "persistence_df.columns = ['Institution', 'persist 2014', 'persist 2015', 'persist 2016']"
   ]
  },
  {
   "cell_type": "code",
   "execution_count": 17,
   "metadata": {},
   "outputs": [
    {
     "data": {
      "text/html": [
       "<div>\n",
       "<style scoped>\n",
       "    .dataframe tbody tr th:only-of-type {\n",
       "        vertical-align: middle;\n",
       "    }\n",
       "\n",
       "    .dataframe tbody tr th {\n",
       "        vertical-align: top;\n",
       "    }\n",
       "\n",
       "    .dataframe thead th {\n",
       "        text-align: right;\n",
       "    }\n",
       "</style>\n",
       "<table border=\"1\" class=\"dataframe\">\n",
       "  <thead>\n",
       "    <tr style=\"text-align: right;\">\n",
       "      <th></th>\n",
       "      <th>Institution</th>\n",
       "      <th>persist 2014</th>\n",
       "      <th>persist 2015</th>\n",
       "      <th>persist 2016</th>\n",
       "    </tr>\n",
       "  </thead>\n",
       "  <tbody>\n",
       "    <tr>\n",
       "      <th>0</th>\n",
       "      <td>Angelo State University</td>\n",
       "      <td>798.0</td>\n",
       "      <td>889.0</td>\n",
       "      <td>949</td>\n",
       "    </tr>\n",
       "    <tr>\n",
       "      <th>1</th>\n",
       "      <td>Lamar University</td>\n",
       "      <td>828.0</td>\n",
       "      <td>963.0</td>\n",
       "      <td>931</td>\n",
       "    </tr>\n",
       "    <tr>\n",
       "      <th>2</th>\n",
       "      <td>Midwestern State University</td>\n",
       "      <td>573.0</td>\n",
       "      <td>571.0</td>\n",
       "      <td>477</td>\n",
       "    </tr>\n",
       "    <tr>\n",
       "      <th>3</th>\n",
       "      <td>Prairie View A&amp;M University</td>\n",
       "      <td>1060.0</td>\n",
       "      <td>1118.0</td>\n",
       "      <td>1296</td>\n",
       "    </tr>\n",
       "    <tr>\n",
       "      <th>4</th>\n",
       "      <td>Sam Houston State University</td>\n",
       "      <td>1940.0</td>\n",
       "      <td>1917.0</td>\n",
       "      <td>2036</td>\n",
       "    </tr>\n",
       "  </tbody>\n",
       "</table>\n",
       "</div>"
      ],
      "text/plain": [
       "                    Institution  persist 2014  persist 2015  persist 2016\n",
       "0       Angelo State University         798.0         889.0           949\n",
       "1              Lamar University         828.0         963.0           931\n",
       "2   Midwestern State University         573.0         571.0           477\n",
       "3   Prairie View A&M University        1060.0        1118.0          1296\n",
       "4  Sam Houston State University        1940.0        1917.0          2036"
      ]
     },
     "execution_count": 17,
     "metadata": {},
     "output_type": "execute_result"
    }
   ],
   "source": [
    "persistence_df.head()"
   ]
  },
  {
   "cell_type": "code",
   "execution_count": 8,
   "metadata": {},
   "outputs": [],
   "source": [
    "cohort_df = pd.read_excel('Cohort Count.xlsx',sheet_name='Univ.Persist1yr')"
   ]
  },
  {
   "cell_type": "code",
   "execution_count": 15,
   "metadata": {
    "scrolled": true
   },
   "outputs": [
    {
     "data": {
      "text/html": [
       "<div>\n",
       "<style scoped>\n",
       "    .dataframe tbody tr th:only-of-type {\n",
       "        vertical-align: middle;\n",
       "    }\n",
       "\n",
       "    .dataframe tbody tr th {\n",
       "        vertical-align: top;\n",
       "    }\n",
       "\n",
       "    .dataframe thead th {\n",
       "        text-align: right;\n",
       "    }\n",
       "</style>\n",
       "<table border=\"1\" class=\"dataframe\">\n",
       "  <thead>\n",
       "    <tr style=\"text-align: right;\">\n",
       "      <th></th>\n",
       "      <th>Institution</th>\n",
       "      <th>Cohort 2014</th>\n",
       "      <th>Cohort 2015</th>\n",
       "      <th>Cohort 2016</th>\n",
       "    </tr>\n",
       "  </thead>\n",
       "  <tbody>\n",
       "    <tr>\n",
       "      <th>0</th>\n",
       "      <td>Angelo State University</td>\n",
       "      <td>1285.0</td>\n",
       "      <td>1336.0</td>\n",
       "      <td>1452.0</td>\n",
       "    </tr>\n",
       "    <tr>\n",
       "      <th>1</th>\n",
       "      <td>Lamar University</td>\n",
       "      <td>1411.0</td>\n",
       "      <td>1505.0</td>\n",
       "      <td>1457.0</td>\n",
       "    </tr>\n",
       "    <tr>\n",
       "      <th>2</th>\n",
       "      <td>Midwestern State University</td>\n",
       "      <td>834.0</td>\n",
       "      <td>818.0</td>\n",
       "      <td>728.0</td>\n",
       "    </tr>\n",
       "    <tr>\n",
       "      <th>3</th>\n",
       "      <td>Prairie View A&amp;M University</td>\n",
       "      <td>1602.0</td>\n",
       "      <td>1614.0</td>\n",
       "      <td>1834.0</td>\n",
       "    </tr>\n",
       "    <tr>\n",
       "      <th>4</th>\n",
       "      <td>Sam Houston State University</td>\n",
       "      <td>2449.0</td>\n",
       "      <td>2514.0</td>\n",
       "      <td>2667.0</td>\n",
       "    </tr>\n",
       "  </tbody>\n",
       "</table>\n",
       "</div>"
      ],
      "text/plain": [
       "                    Institution  Cohort 2014  Cohort 2015  Cohort 2016\n",
       "0       Angelo State University       1285.0       1336.0       1452.0\n",
       "1              Lamar University       1411.0       1505.0       1457.0\n",
       "2   Midwestern State University        834.0        818.0        728.0\n",
       "3   Prairie View A&M University       1602.0       1614.0       1834.0\n",
       "4  Sam Houston State University       2449.0       2514.0       2667.0"
      ]
     },
     "execution_count": 15,
     "metadata": {},
     "output_type": "execute_result"
    }
   ],
   "source": [
    "cohort_df.head()"
   ]
  },
  {
   "cell_type": "code",
   "execution_count": 13,
   "metadata": {},
   "outputs": [],
   "source": [
    "df = pd.merge(persistence_df, cohort_df, how='outer',on='Institution').fillna(0)"
   ]
  },
  {
   "cell_type": "code",
   "execution_count": 22,
   "metadata": {},
   "outputs": [
    {
     "name": "stdout",
     "output_type": "stream",
     "text": [
      "<class 'pandas.core.frame.DataFrame'>\n",
      "Int64Index: 37 entries, 0 to 36\n",
      "Data columns (total 7 columns):\n",
      "Institution     37 non-null object\n",
      "persist 2014    37 non-null float64\n",
      "persist 2015    37 non-null float64\n",
      "persist 2016    37 non-null float64\n",
      "Cohort 2014     37 non-null float64\n",
      "Cohort 2015     37 non-null float64\n",
      "Cohort 2016     37 non-null float64\n",
      "dtypes: float64(6), object(1)\n",
      "memory usage: 2.3+ KB\n"
     ]
    }
   ],
   "source": [
    "df.info()"
   ]
  },
  {
   "cell_type": "code",
   "execution_count": 26,
   "metadata": {},
   "outputs": [],
   "source": [
    "df['rate 2014'] = np.zeros(37); df['rate 2015'] = np.zeros(37); df['rate 2016'] = np.zeros(37)"
   ]
  },
  {
   "cell_type": "code",
   "execution_count": 27,
   "metadata": {},
   "outputs": [
    {
     "data": {
      "text/html": [
       "<div>\n",
       "<style scoped>\n",
       "    .dataframe tbody tr th:only-of-type {\n",
       "        vertical-align: middle;\n",
       "    }\n",
       "\n",
       "    .dataframe tbody tr th {\n",
       "        vertical-align: top;\n",
       "    }\n",
       "\n",
       "    .dataframe thead th {\n",
       "        text-align: right;\n",
       "    }\n",
       "</style>\n",
       "<table border=\"1\" class=\"dataframe\">\n",
       "  <thead>\n",
       "    <tr style=\"text-align: right;\">\n",
       "      <th></th>\n",
       "      <th>Institution</th>\n",
       "      <th>persist 2014</th>\n",
       "      <th>persist 2015</th>\n",
       "      <th>persist 2016</th>\n",
       "      <th>Cohort 2014</th>\n",
       "      <th>Cohort 2015</th>\n",
       "      <th>Cohort 2016</th>\n",
       "      <th>rate 2014</th>\n",
       "      <th>rate 2015</th>\n",
       "      <th>rate 2016</th>\n",
       "    </tr>\n",
       "  </thead>\n",
       "  <tbody>\n",
       "    <tr>\n",
       "      <th>0</th>\n",
       "      <td>Angelo State University</td>\n",
       "      <td>798.0</td>\n",
       "      <td>889.0</td>\n",
       "      <td>949.0</td>\n",
       "      <td>1285.0</td>\n",
       "      <td>1336.0</td>\n",
       "      <td>1452.0</td>\n",
       "      <td>0.0</td>\n",
       "      <td>0.0</td>\n",
       "      <td>0.0</td>\n",
       "    </tr>\n",
       "    <tr>\n",
       "      <th>1</th>\n",
       "      <td>Lamar University</td>\n",
       "      <td>828.0</td>\n",
       "      <td>963.0</td>\n",
       "      <td>931.0</td>\n",
       "      <td>1411.0</td>\n",
       "      <td>1505.0</td>\n",
       "      <td>1457.0</td>\n",
       "      <td>0.0</td>\n",
       "      <td>0.0</td>\n",
       "      <td>0.0</td>\n",
       "    </tr>\n",
       "    <tr>\n",
       "      <th>2</th>\n",
       "      <td>Midwestern State University</td>\n",
       "      <td>573.0</td>\n",
       "      <td>571.0</td>\n",
       "      <td>477.0</td>\n",
       "      <td>834.0</td>\n",
       "      <td>818.0</td>\n",
       "      <td>728.0</td>\n",
       "      <td>0.0</td>\n",
       "      <td>0.0</td>\n",
       "      <td>0.0</td>\n",
       "    </tr>\n",
       "    <tr>\n",
       "      <th>3</th>\n",
       "      <td>Prairie View A&amp;M University</td>\n",
       "      <td>1060.0</td>\n",
       "      <td>1118.0</td>\n",
       "      <td>1296.0</td>\n",
       "      <td>1602.0</td>\n",
       "      <td>1614.0</td>\n",
       "      <td>1834.0</td>\n",
       "      <td>0.0</td>\n",
       "      <td>0.0</td>\n",
       "      <td>0.0</td>\n",
       "    </tr>\n",
       "    <tr>\n",
       "      <th>4</th>\n",
       "      <td>Sam Houston State University</td>\n",
       "      <td>1940.0</td>\n",
       "      <td>1917.0</td>\n",
       "      <td>2036.0</td>\n",
       "      <td>2449.0</td>\n",
       "      <td>2514.0</td>\n",
       "      <td>2667.0</td>\n",
       "      <td>0.0</td>\n",
       "      <td>0.0</td>\n",
       "      <td>0.0</td>\n",
       "    </tr>\n",
       "  </tbody>\n",
       "</table>\n",
       "</div>"
      ],
      "text/plain": [
       "                    Institution  persist 2014  persist 2015  persist 2016  \\\n",
       "0       Angelo State University         798.0         889.0         949.0   \n",
       "1              Lamar University         828.0         963.0         931.0   \n",
       "2   Midwestern State University         573.0         571.0         477.0   \n",
       "3   Prairie View A&M University        1060.0        1118.0        1296.0   \n",
       "4  Sam Houston State University        1940.0        1917.0        2036.0   \n",
       "\n",
       "   Cohort 2014  Cohort 2015  Cohort 2016  rate 2014  rate 2015  rate 2016  \n",
       "0       1285.0       1336.0       1452.0        0.0        0.0        0.0  \n",
       "1       1411.0       1505.0       1457.0        0.0        0.0        0.0  \n",
       "2        834.0        818.0        728.0        0.0        0.0        0.0  \n",
       "3       1602.0       1614.0       1834.0        0.0        0.0        0.0  \n",
       "4       2449.0       2514.0       2667.0        0.0        0.0        0.0  "
      ]
     },
     "execution_count": 27,
     "metadata": {},
     "output_type": "execute_result"
    }
   ],
   "source": [
    "df.head()"
   ]
  },
  {
   "cell_type": "code",
   "execution_count": 33,
   "metadata": {},
   "outputs": [],
   "source": [
    "for index, row in df.iterrows():\n",
    "    if row['persist 2014'] != 0 and row['Cohort 2014'] != 0:\n",
    "        df.at[index, 'rate 2014'] = row['persist 2014'] / row['Cohort 2014']\n",
    "    \n",
    "    if row['persist 2015'] != 0 and row['Cohort 2015'] != 0:\n",
    "        df.at[index, 'rate 2015'] = row['persist 2015'] / row['Cohort 2015']\n",
    "    \n",
    "    if row['persist 2016'] != 0 and row['Cohort 2016'] != 0:\n",
    "        df.at[index, 'rate 2016'] = row['persist 2016'] / row['Cohort 2016']"
   ]
  },
  {
   "cell_type": "code",
   "execution_count": 34,
   "metadata": {},
   "outputs": [
    {
     "data": {
      "text/html": [
       "<div>\n",
       "<style scoped>\n",
       "    .dataframe tbody tr th:only-of-type {\n",
       "        vertical-align: middle;\n",
       "    }\n",
       "\n",
       "    .dataframe tbody tr th {\n",
       "        vertical-align: top;\n",
       "    }\n",
       "\n",
       "    .dataframe thead th {\n",
       "        text-align: right;\n",
       "    }\n",
       "</style>\n",
       "<table border=\"1\" class=\"dataframe\">\n",
       "  <thead>\n",
       "    <tr style=\"text-align: right;\">\n",
       "      <th></th>\n",
       "      <th>Institution</th>\n",
       "      <th>persist 2014</th>\n",
       "      <th>persist 2015</th>\n",
       "      <th>persist 2016</th>\n",
       "      <th>Cohort 2014</th>\n",
       "      <th>Cohort 2015</th>\n",
       "      <th>Cohort 2016</th>\n",
       "      <th>rate 2014</th>\n",
       "      <th>rate 2015</th>\n",
       "      <th>rate 2016</th>\n",
       "    </tr>\n",
       "  </thead>\n",
       "  <tbody>\n",
       "    <tr>\n",
       "      <th>0</th>\n",
       "      <td>Angelo State University</td>\n",
       "      <td>798.0</td>\n",
       "      <td>889.0</td>\n",
       "      <td>949.0</td>\n",
       "      <td>1285.0</td>\n",
       "      <td>1336.0</td>\n",
       "      <td>1452.0</td>\n",
       "      <td>0.621012</td>\n",
       "      <td>0.665419</td>\n",
       "      <td>0.653581</td>\n",
       "    </tr>\n",
       "    <tr>\n",
       "      <th>1</th>\n",
       "      <td>Lamar University</td>\n",
       "      <td>828.0</td>\n",
       "      <td>963.0</td>\n",
       "      <td>931.0</td>\n",
       "      <td>1411.0</td>\n",
       "      <td>1505.0</td>\n",
       "      <td>1457.0</td>\n",
       "      <td>0.586818</td>\n",
       "      <td>0.639867</td>\n",
       "      <td>0.638984</td>\n",
       "    </tr>\n",
       "    <tr>\n",
       "      <th>2</th>\n",
       "      <td>Midwestern State University</td>\n",
       "      <td>573.0</td>\n",
       "      <td>571.0</td>\n",
       "      <td>477.0</td>\n",
       "      <td>834.0</td>\n",
       "      <td>818.0</td>\n",
       "      <td>728.0</td>\n",
       "      <td>0.687050</td>\n",
       "      <td>0.698044</td>\n",
       "      <td>0.655220</td>\n",
       "    </tr>\n",
       "    <tr>\n",
       "      <th>3</th>\n",
       "      <td>Prairie View A&amp;M University</td>\n",
       "      <td>1060.0</td>\n",
       "      <td>1118.0</td>\n",
       "      <td>1296.0</td>\n",
       "      <td>1602.0</td>\n",
       "      <td>1614.0</td>\n",
       "      <td>1834.0</td>\n",
       "      <td>0.661673</td>\n",
       "      <td>0.692689</td>\n",
       "      <td>0.706652</td>\n",
       "    </tr>\n",
       "    <tr>\n",
       "      <th>4</th>\n",
       "      <td>Sam Houston State University</td>\n",
       "      <td>1940.0</td>\n",
       "      <td>1917.0</td>\n",
       "      <td>2036.0</td>\n",
       "      <td>2449.0</td>\n",
       "      <td>2514.0</td>\n",
       "      <td>2667.0</td>\n",
       "      <td>0.792160</td>\n",
       "      <td>0.762530</td>\n",
       "      <td>0.763405</td>\n",
       "    </tr>\n",
       "  </tbody>\n",
       "</table>\n",
       "</div>"
      ],
      "text/plain": [
       "                    Institution  persist 2014  persist 2015  persist 2016  \\\n",
       "0       Angelo State University         798.0         889.0         949.0   \n",
       "1              Lamar University         828.0         963.0         931.0   \n",
       "2   Midwestern State University         573.0         571.0         477.0   \n",
       "3   Prairie View A&M University        1060.0        1118.0        1296.0   \n",
       "4  Sam Houston State University        1940.0        1917.0        2036.0   \n",
       "\n",
       "   Cohort 2014  Cohort 2015  Cohort 2016  rate 2014  rate 2015  rate 2016  \n",
       "0       1285.0       1336.0       1452.0   0.621012   0.665419   0.653581  \n",
       "1       1411.0       1505.0       1457.0   0.586818   0.639867   0.638984  \n",
       "2        834.0        818.0        728.0   0.687050   0.698044   0.655220  \n",
       "3       1602.0       1614.0       1834.0   0.661673   0.692689   0.706652  \n",
       "4       2449.0       2514.0       2667.0   0.792160   0.762530   0.763405  "
      ]
     },
     "execution_count": 34,
     "metadata": {},
     "output_type": "execute_result"
    }
   ],
   "source": [
    "df.head()"
   ]
  },
  {
   "cell_type": "code",
   "execution_count": 35,
   "metadata": {},
   "outputs": [],
   "source": [
    "rate_200_214 = pd.read_excel('rate200-214.xlsx')"
   ]
  },
  {
   "cell_type": "code",
   "execution_count": 38,
   "metadata": {},
   "outputs": [],
   "source": [
    "rate_12_14 = rate_200_214[['Institution','(Fall 2012)','(Fall 2013)','(Fall 2014)']]"
   ]
  },
  {
   "cell_type": "code",
   "execution_count": 39,
   "metadata": {},
   "outputs": [
    {
     "data": {
      "text/html": [
       "<div>\n",
       "<style scoped>\n",
       "    .dataframe tbody tr th:only-of-type {\n",
       "        vertical-align: middle;\n",
       "    }\n",
       "\n",
       "    .dataframe tbody tr th {\n",
       "        vertical-align: top;\n",
       "    }\n",
       "\n",
       "    .dataframe thead th {\n",
       "        text-align: right;\n",
       "    }\n",
       "</style>\n",
       "<table border=\"1\" class=\"dataframe\">\n",
       "  <thead>\n",
       "    <tr style=\"text-align: right;\">\n",
       "      <th></th>\n",
       "      <th>Institution</th>\n",
       "      <th>(Fall 2012)</th>\n",
       "      <th>(Fall 2013)</th>\n",
       "      <th>(Fall 2014)</th>\n",
       "    </tr>\n",
       "  </thead>\n",
       "  <tbody>\n",
       "    <tr>\n",
       "      <th>0</th>\n",
       "      <td>The University of Texas at Arlington</td>\n",
       "      <td>0.702</td>\n",
       "      <td>0.680</td>\n",
       "      <td>0.702</td>\n",
       "    </tr>\n",
       "    <tr>\n",
       "      <th>1</th>\n",
       "      <td>The University of Texas at Austin</td>\n",
       "      <td>0.935</td>\n",
       "      <td>0.930</td>\n",
       "      <td>0.935</td>\n",
       "    </tr>\n",
       "    <tr>\n",
       "      <th>2</th>\n",
       "      <td>The University of Texas at Brownsville</td>\n",
       "      <td>0.651</td>\n",
       "      <td>0.711</td>\n",
       "      <td>0.000</td>\n",
       "    </tr>\n",
       "    <tr>\n",
       "      <th>3</th>\n",
       "      <td>The University of Texas at Dallas</td>\n",
       "      <td>0.880</td>\n",
       "      <td>0.864</td>\n",
       "      <td>0.826</td>\n",
       "    </tr>\n",
       "    <tr>\n",
       "      <th>4</th>\n",
       "      <td>The University of Texas at El Paso</td>\n",
       "      <td>0.699</td>\n",
       "      <td>0.676</td>\n",
       "      <td>0.718</td>\n",
       "    </tr>\n",
       "  </tbody>\n",
       "</table>\n",
       "</div>"
      ],
      "text/plain": [
       "                              Institution  (Fall 2012)  (Fall 2013)  \\\n",
       "0    The University of Texas at Arlington        0.702        0.680   \n",
       "1       The University of Texas at Austin        0.935        0.930   \n",
       "2  The University of Texas at Brownsville        0.651        0.711   \n",
       "3       The University of Texas at Dallas        0.880        0.864   \n",
       "4      The University of Texas at El Paso        0.699        0.676   \n",
       "\n",
       "   (Fall 2014)  \n",
       "0        0.702  \n",
       "1        0.935  \n",
       "2        0.000  \n",
       "3        0.826  \n",
       "4        0.718  "
      ]
     },
     "execution_count": 39,
     "metadata": {},
     "output_type": "execute_result"
    }
   ],
   "source": [
    "rate_12_14.head()"
   ]
  },
  {
   "cell_type": "code",
   "execution_count": 40,
   "metadata": {},
   "outputs": [],
   "source": [
    "rate_15_16 = df[['Institution', 'rate 2015', 'rate 2016']]"
   ]
  },
  {
   "cell_type": "code",
   "execution_count": 43,
   "metadata": {},
   "outputs": [],
   "source": [
    "rate_12_16 = pd.merge(rate_12_14,rate_15_16,how='outer',on='Institution')"
   ]
  },
  {
   "cell_type": "code",
   "execution_count": 44,
   "metadata": {},
   "outputs": [
    {
     "data": {
      "text/html": [
       "<div>\n",
       "<style scoped>\n",
       "    .dataframe tbody tr th:only-of-type {\n",
       "        vertical-align: middle;\n",
       "    }\n",
       "\n",
       "    .dataframe tbody tr th {\n",
       "        vertical-align: top;\n",
       "    }\n",
       "\n",
       "    .dataframe thead th {\n",
       "        text-align: right;\n",
       "    }\n",
       "</style>\n",
       "<table border=\"1\" class=\"dataframe\">\n",
       "  <thead>\n",
       "    <tr style=\"text-align: right;\">\n",
       "      <th></th>\n",
       "      <th>Institution</th>\n",
       "      <th>(Fall 2012)</th>\n",
       "      <th>(Fall 2013)</th>\n",
       "      <th>(Fall 2014)</th>\n",
       "      <th>rate 2015</th>\n",
       "      <th>rate 2016</th>\n",
       "    </tr>\n",
       "  </thead>\n",
       "  <tbody>\n",
       "    <tr>\n",
       "      <th>0</th>\n",
       "      <td>The University of Texas at Arlington</td>\n",
       "      <td>0.702</td>\n",
       "      <td>0.680</td>\n",
       "      <td>0.702</td>\n",
       "      <td>0.691003</td>\n",
       "      <td>0.705314</td>\n",
       "    </tr>\n",
       "    <tr>\n",
       "      <th>1</th>\n",
       "      <td>The University of Texas at Austin</td>\n",
       "      <td>0.935</td>\n",
       "      <td>0.930</td>\n",
       "      <td>0.935</td>\n",
       "      <td>0.930706</td>\n",
       "      <td>0.943381</td>\n",
       "    </tr>\n",
       "    <tr>\n",
       "      <th>2</th>\n",
       "      <td>The University of Texas at Brownsville</td>\n",
       "      <td>0.651</td>\n",
       "      <td>0.711</td>\n",
       "      <td>0.000</td>\n",
       "      <td>0.000000</td>\n",
       "      <td>0.000000</td>\n",
       "    </tr>\n",
       "    <tr>\n",
       "      <th>3</th>\n",
       "      <td>The University of Texas at Dallas</td>\n",
       "      <td>0.880</td>\n",
       "      <td>0.864</td>\n",
       "      <td>0.826</td>\n",
       "      <td>0.865964</td>\n",
       "      <td>0.865795</td>\n",
       "    </tr>\n",
       "    <tr>\n",
       "      <th>4</th>\n",
       "      <td>The University of Texas at El Paso</td>\n",
       "      <td>0.699</td>\n",
       "      <td>0.676</td>\n",
       "      <td>0.718</td>\n",
       "      <td>0.742373</td>\n",
       "      <td>0.739348</td>\n",
       "    </tr>\n",
       "  </tbody>\n",
       "</table>\n",
       "</div>"
      ],
      "text/plain": [
       "                              Institution  (Fall 2012)  (Fall 2013)  \\\n",
       "0    The University of Texas at Arlington        0.702        0.680   \n",
       "1       The University of Texas at Austin        0.935        0.930   \n",
       "2  The University of Texas at Brownsville        0.651        0.711   \n",
       "3       The University of Texas at Dallas        0.880        0.864   \n",
       "4      The University of Texas at El Paso        0.699        0.676   \n",
       "\n",
       "   (Fall 2014)  rate 2015  rate 2016  \n",
       "0        0.702   0.691003   0.705314  \n",
       "1        0.935   0.930706   0.943381  \n",
       "2        0.000   0.000000   0.000000  \n",
       "3        0.826   0.865964   0.865795  \n",
       "4        0.718   0.742373   0.739348  "
      ]
     },
     "execution_count": 44,
     "metadata": {},
     "output_type": "execute_result"
    }
   ],
   "source": [
    "rate_12_16.head()"
   ]
  },
  {
   "cell_type": "code",
   "execution_count": 45,
   "metadata": {},
   "outputs": [],
   "source": [
    "rate_12_16.columns = ['Institution', \"Fall 2012\",'Fall 2013','Fall 2014', 'Fall 2015', 'Fall 2016']"
   ]
  },
  {
   "cell_type": "code",
   "execution_count": 46,
   "metadata": {},
   "outputs": [],
   "source": [
    "state_avg_dict = {'Instituttion': 'Avg TX Public','Fall 2012':0,\n",
    "                  'Fall 2013':0, 'Fall 2014':0, 'Fall 2015':0,\n",
    "                  'Fall 2016':0\n",
    "                 }"
   ]
  },
  {
   "cell_type": "code",
   "execution_count": null,
   "metadata": {},
   "outputs": [],
   "source": [
    "state_avg_dict['Fall 2012'] = "
   ]
  }
 ],
 "metadata": {
  "kernelspec": {
   "display_name": "Python 3",
   "language": "python",
   "name": "python3"
  },
  "language_info": {
   "codemirror_mode": {
    "name": "ipython",
    "version": 3
   },
   "file_extension": ".py",
   "mimetype": "text/x-python",
   "name": "python",
   "nbconvert_exporter": "python",
   "pygments_lexer": "ipython3",
   "version": "3.6.5"
  }
 },
 "nbformat": 4,
 "nbformat_minor": 2
}
