{
 "cells": [
  {
   "cell_type": "code",
   "execution_count": 1,
   "metadata": {},
   "outputs": [],
   "source": [
    "import pandas as pd\n",
    "import numpy as np"
   ]
  },
  {
   "cell_type": "code",
   "execution_count": 2,
   "metadata": {},
   "outputs": [],
   "source": [
    "df = pd.read_csv('FallEnrollment.csv')"
   ]
  },
  {
   "cell_type": "code",
   "execution_count": 3,
   "metadata": {},
   "outputs": [
    {
     "data": {
      "text/html": [
       "<div>\n",
       "<style scoped>\n",
       "    .dataframe tbody tr th:only-of-type {\n",
       "        vertical-align: middle;\n",
       "    }\n",
       "\n",
       "    .dataframe tbody tr th {\n",
       "        vertical-align: top;\n",
       "    }\n",
       "\n",
       "    .dataframe thead th {\n",
       "        text-align: right;\n",
       "    }\n",
       "</style>\n",
       "<table border=\"1\" class=\"dataframe\">\n",
       "  <thead>\n",
       "    <tr style=\"text-align: right;\">\n",
       "      <th></th>\n",
       "      <th>DimYear</th>\n",
       "      <th>InstList</th>\n",
       "      <th>GenderDesc</th>\n",
       "      <th>EthnicityDesc</th>\n",
       "      <th>SemesterDesc</th>\n",
       "      <th>UGStatusDesc</th>\n",
       "      <th>Count</th>\n",
       "    </tr>\n",
       "  </thead>\n",
       "  <tbody>\n",
       "    <tr>\n",
       "      <th>0</th>\n",
       "      <td>2014</td>\n",
       "      <td>Statewide</td>\n",
       "      <td>Female</td>\n",
       "      <td>African American</td>\n",
       "      <td>Fall</td>\n",
       "      <td>First-Time Transfer</td>\n",
       "      <td>4,442</td>\n",
       "    </tr>\n",
       "    <tr>\n",
       "      <th>1</th>\n",
       "      <td>2014</td>\n",
       "      <td>Statewide</td>\n",
       "      <td>Female</td>\n",
       "      <td>African American</td>\n",
       "      <td>Fall</td>\n",
       "      <td>First-time Undergraduate</td>\n",
       "      <td>6,144</td>\n",
       "    </tr>\n",
       "    <tr>\n",
       "      <th>2</th>\n",
       "      <td>2014</td>\n",
       "      <td>Statewide</td>\n",
       "      <td>Female</td>\n",
       "      <td>African American</td>\n",
       "      <td>Fall</td>\n",
       "      <td>Other Undergraduate</td>\n",
       "      <td>25,260</td>\n",
       "    </tr>\n",
       "    <tr>\n",
       "      <th>3</th>\n",
       "      <td>2014</td>\n",
       "      <td>Statewide</td>\n",
       "      <td>Female</td>\n",
       "      <td>Asian</td>\n",
       "      <td>Fall</td>\n",
       "      <td>First-Time Transfer</td>\n",
       "      <td>1,506</td>\n",
       "    </tr>\n",
       "    <tr>\n",
       "      <th>4</th>\n",
       "      <td>2014</td>\n",
       "      <td>Statewide</td>\n",
       "      <td>Female</td>\n",
       "      <td>Asian</td>\n",
       "      <td>Fall</td>\n",
       "      <td>First-time Undergraduate</td>\n",
       "      <td>3,310</td>\n",
       "    </tr>\n",
       "  </tbody>\n",
       "</table>\n",
       "</div>"
      ],
      "text/plain": [
       "   DimYear   InstList GenderDesc     EthnicityDesc SemesterDesc  \\\n",
       "0     2014  Statewide     Female  African American         Fall   \n",
       "1     2014  Statewide     Female  African American         Fall   \n",
       "2     2014  Statewide     Female  African American         Fall   \n",
       "3     2014  Statewide     Female             Asian         Fall   \n",
       "4     2014  Statewide     Female             Asian         Fall   \n",
       "\n",
       "               UGStatusDesc   Count  \n",
       "0       First-Time Transfer   4,442  \n",
       "1  First-time Undergraduate   6,144  \n",
       "2       Other Undergraduate  25,260  \n",
       "3       First-Time Transfer   1,506  \n",
       "4  First-time Undergraduate   3,310  "
      ]
     },
     "execution_count": 3,
     "metadata": {},
     "output_type": "execute_result"
    }
   ],
   "source": [
    "df.head()"
   ]
  },
  {
   "cell_type": "code",
   "execution_count": 4,
   "metadata": {},
   "outputs": [
    {
     "data": {
      "text/plain": [
       "array(['Statewide', 'The University of Texas at San Antonio'],\n",
       "      dtype=object)"
      ]
     },
     "execution_count": 4,
     "metadata": {},
     "output_type": "execute_result"
    }
   ],
   "source": [
    "df['InstList'].unique()"
   ]
  },
  {
   "cell_type": "code",
   "execution_count": 5,
   "metadata": {},
   "outputs": [],
   "source": [
    "UTSA = df[df['InstList'] == 'The University of Texas at San Antonio']"
   ]
  },
  {
   "cell_type": "code",
   "execution_count": 6,
   "metadata": {},
   "outputs": [
    {
     "data": {
      "text/html": [
       "<div>\n",
       "<style scoped>\n",
       "    .dataframe tbody tr th:only-of-type {\n",
       "        vertical-align: middle;\n",
       "    }\n",
       "\n",
       "    .dataframe tbody tr th {\n",
       "        vertical-align: top;\n",
       "    }\n",
       "\n",
       "    .dataframe thead th {\n",
       "        text-align: right;\n",
       "    }\n",
       "</style>\n",
       "<table border=\"1\" class=\"dataframe\">\n",
       "  <thead>\n",
       "    <tr style=\"text-align: right;\">\n",
       "      <th></th>\n",
       "      <th>DimYear</th>\n",
       "      <th>InstList</th>\n",
       "      <th>GenderDesc</th>\n",
       "      <th>EthnicityDesc</th>\n",
       "      <th>SemesterDesc</th>\n",
       "      <th>UGStatusDesc</th>\n",
       "      <th>Count</th>\n",
       "    </tr>\n",
       "  </thead>\n",
       "  <tbody>\n",
       "    <tr>\n",
       "      <th>36</th>\n",
       "      <td>2014</td>\n",
       "      <td>The University of Texas at San Antonio</td>\n",
       "      <td>Female</td>\n",
       "      <td>African American</td>\n",
       "      <td>Fall</td>\n",
       "      <td>First-Time Transfer</td>\n",
       "      <td>65</td>\n",
       "    </tr>\n",
       "    <tr>\n",
       "      <th>37</th>\n",
       "      <td>2014</td>\n",
       "      <td>The University of Texas at San Antonio</td>\n",
       "      <td>Female</td>\n",
       "      <td>African American</td>\n",
       "      <td>Fall</td>\n",
       "      <td>First-time Undergraduate</td>\n",
       "      <td>364</td>\n",
       "    </tr>\n",
       "    <tr>\n",
       "      <th>38</th>\n",
       "      <td>2014</td>\n",
       "      <td>The University of Texas at San Antonio</td>\n",
       "      <td>Female</td>\n",
       "      <td>African American</td>\n",
       "      <td>Fall</td>\n",
       "      <td>Other Undergraduate</td>\n",
       "      <td>958</td>\n",
       "    </tr>\n",
       "    <tr>\n",
       "      <th>39</th>\n",
       "      <td>2014</td>\n",
       "      <td>The University of Texas at San Antonio</td>\n",
       "      <td>Female</td>\n",
       "      <td>Asian</td>\n",
       "      <td>Fall</td>\n",
       "      <td>First-Time Transfer</td>\n",
       "      <td>42</td>\n",
       "    </tr>\n",
       "    <tr>\n",
       "      <th>40</th>\n",
       "      <td>2014</td>\n",
       "      <td>The University of Texas at San Antonio</td>\n",
       "      <td>Female</td>\n",
       "      <td>Asian</td>\n",
       "      <td>Fall</td>\n",
       "      <td>First-time Undergraduate</td>\n",
       "      <td>211</td>\n",
       "    </tr>\n",
       "  </tbody>\n",
       "</table>\n",
       "</div>"
      ],
      "text/plain": [
       "    DimYear                                InstList GenderDesc  \\\n",
       "36     2014  The University of Texas at San Antonio     Female   \n",
       "37     2014  The University of Texas at San Antonio     Female   \n",
       "38     2014  The University of Texas at San Antonio     Female   \n",
       "39     2014  The University of Texas at San Antonio     Female   \n",
       "40     2014  The University of Texas at San Antonio     Female   \n",
       "\n",
       "       EthnicityDesc SemesterDesc              UGStatusDesc Count  \n",
       "36  African American         Fall       First-Time Transfer    65  \n",
       "37  African American         Fall  First-time Undergraduate   364  \n",
       "38  African American         Fall       Other Undergraduate   958  \n",
       "39             Asian         Fall       First-Time Transfer    42  \n",
       "40             Asian         Fall  First-time Undergraduate   211  "
      ]
     },
     "execution_count": 6,
     "metadata": {},
     "output_type": "execute_result"
    }
   ],
   "source": [
    "UTSA.head()"
   ]
  },
  {
   "cell_type": "code",
   "execution_count": 7,
   "metadata": {},
   "outputs": [],
   "source": [
    "year = { '2014':0, '2015':0, '2016':0, '2017': 0}"
   ]
  },
  {
   "cell_type": "code",
   "execution_count": 8,
   "metadata": {},
   "outputs": [],
   "source": [
    "for index, item in UTSA.iterrows():\n",
    "    year[str(item['DimYear'])] += int(item['Count'].replace(',',''))"
   ]
  },
  {
   "cell_type": "code",
   "execution_count": 9,
   "metadata": {},
   "outputs": [
    {
     "data": {
      "text/plain": [
       "{'2014': 24285, '2015': 24462, '2016': 24423, '2017': 26011}"
      ]
     },
     "execution_count": 9,
     "metadata": {},
     "output_type": "execute_result"
    }
   ],
   "source": [
    "year"
   ]
  },
  {
   "cell_type": "code",
   "execution_count": null,
   "metadata": {},
   "outputs": [],
   "source": []
  }
 ],
 "metadata": {
  "kernelspec": {
   "display_name": "Python 3",
   "language": "python",
   "name": "python3"
  },
  "language_info": {
   "codemirror_mode": {
    "name": "ipython",
    "version": 3
   },
   "file_extension": ".py",
   "mimetype": "text/x-python",
   "name": "python",
   "nbconvert_exporter": "python",
   "pygments_lexer": "ipython3",
   "version": "3.6.5"
  }
 },
 "nbformat": 4,
 "nbformat_minor": 2
}
