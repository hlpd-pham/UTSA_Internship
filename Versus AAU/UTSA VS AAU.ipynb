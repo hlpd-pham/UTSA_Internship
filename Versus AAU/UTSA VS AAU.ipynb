{
 "cells": [
  {
   "cell_type": "code",
   "execution_count": 1,
   "metadata": {},
   "outputs": [],
   "source": [
    "import numpy as np\n",
    "import pandas as pd\n",
    "import matplotlib.pyplot as plt\n",
    "import seaborn as sns"
   ]
  },
  {
   "cell_type": "code",
   "execution_count": 2,
   "metadata": {},
   "outputs": [],
   "source": [
    "total_research = pd.read_excel('total_research.xlsx')\n",
    "federal_research = pd.read_excel('federal_research.xlsx')\n",
    "endowment_asserts = pd.read_excel('endowment_assets.xlsx')\n",
    "annual_giving = pd.read_excel('annual_giving.xlsx')\n",
    "natl_academy = pd.read_excel('natl_academy.xlsx')\n",
    "faculty_awards = pd.read_excel('faculty_awards.xlsx')\n",
    "dr_awards = pd.read_excel('doctorates.xlsx')\n",
    "postdocs = pd.read_excel('postdocs.xlsx')"
   ]
  },
  {
   "cell_type": "code",
   "execution_count": 3,
   "metadata": {},
   "outputs": [],
   "source": [
    "data = [endowment_asserts, annual_giving, natl_academy, faculty_awards, dr_awards,\n",
    "        total_research, federal_research, postdocs]\n",
    "data_2015 = [endowment_asserts, annual_giving,\n",
    "       natl_academy, faculty_awards, dr_awards]\n",
    "data_2014 = [total_research, federal_research, postdocs]"
   ]
  },
  {
   "cell_type": "code",
   "execution_count": 4,
   "metadata": {},
   "outputs": [],
   "source": [
    "for dataset in data_2015:\n",
    "    dataset.columns = dataset.iloc[0]\n",
    "    dataset = dataset.reindex(dataset.index.drop(0))\n",
    "for dataset in data_2014:\n",
    "    dataset.columns = dataset.iloc[0]\n",
    "    dataset = dataset.reindex(dataset.index.drop(0))"
   ]
  },
  {
   "cell_type": "code",
   "execution_count": 5,
   "metadata": {},
   "outputs": [
    {
     "data": {
      "text/html": [
       "<div>\n",
       "<style scoped>\n",
       "    .dataframe tbody tr th:only-of-type {\n",
       "        vertical-align: middle;\n",
       "    }\n",
       "\n",
       "    .dataframe tbody tr th {\n",
       "        vertical-align: top;\n",
       "    }\n",
       "\n",
       "    .dataframe thead th {\n",
       "        text-align: right;\n",
       "    }\n",
       "</style>\n",
       "<table border=\"1\" class=\"dataframe\">\n",
       "  <thead>\n",
       "    <tr style=\"text-align: right;\">\n",
       "      <th></th>\n",
       "      <th>nan</th>\n",
       "      <th>Research Group</th>\n",
       "      <th>Control</th>\n",
       "      <th>Institutions Reporting Any\n",
       "Federal Research in Past Five Years\n",
       "(in Alphabetical Order)</th>\n",
       "      <th>2014\n",
       "***\n",
       "Total Research \n",
       " x $1000</th>\n",
       "      <th>2014\n",
       "***\n",
       "National Rank</th>\n",
       "      <th>2014\n",
       "***\n",
       "Control Rank</th>\n",
       "      <th>2013\n",
       "***\n",
       "Total Research \n",
       " x $1000</th>\n",
       "      <th>2013\n",
       "***\n",
       "National Rank</th>\n",
       "      <th>2013\n",
       "***\n",
       "Control Rank</th>\n",
       "      <th>...</th>\n",
       "      <th>1993\n",
       "***\n",
       "Control Rank</th>\n",
       "      <th>1992\n",
       "***\n",
       "Total Research \n",
       " x $1000</th>\n",
       "      <th>1992\n",
       "***\n",
       "National Rank</th>\n",
       "      <th>1992\n",
       "***\n",
       "Control Rank</th>\n",
       "      <th>1991\n",
       "***\n",
       "Total Research \n",
       " x $1000</th>\n",
       "      <th>1991\n",
       "***\n",
       "National Rank</th>\n",
       "      <th>1991\n",
       "***\n",
       "Control Rank</th>\n",
       "      <th>1990\n",
       "***\n",
       "Total Research \n",
       " x $1000</th>\n",
       "      <th>1990\n",
       "***\n",
       "National Rank</th>\n",
       "      <th>1990\n",
       "***\n",
       "Control Rank</th>\n",
       "    </tr>\n",
       "  </thead>\n",
       "  <tbody>\n",
       "    <tr>\n",
       "      <th>0</th>\n",
       "      <td>NaN</td>\n",
       "      <td>Research Group</td>\n",
       "      <td>Control</td>\n",
       "      <td>Institutions Reporting Any\\nFederal Research i...</td>\n",
       "      <td>2014\\n***\\nTotal Research \\n x $1000</td>\n",
       "      <td>2014\\n***\\nNational Rank</td>\n",
       "      <td>2014\\n***\\nControl Rank</td>\n",
       "      <td>2013\\n***\\nTotal Research \\n x $1000</td>\n",
       "      <td>2013\\n***\\nNational Rank</td>\n",
       "      <td>2013\\n***\\nControl Rank</td>\n",
       "      <td>...</td>\n",
       "      <td>1993\\n***\\nControl Rank</td>\n",
       "      <td>1992\\n***\\nTotal Research \\n x $1000</td>\n",
       "      <td>1992\\n***\\nNational Rank</td>\n",
       "      <td>1992\\n***\\nControl Rank</td>\n",
       "      <td>1991\\n***\\nTotal Research \\n x $1000</td>\n",
       "      <td>1991\\n***\\nNational Rank</td>\n",
       "      <td>1991\\n***\\nControl Rank</td>\n",
       "      <td>1990\\n***\\nTotal Research \\n x $1000</td>\n",
       "      <td>1990\\n***\\nNational Rank</td>\n",
       "      <td>1990\\n***\\nControl Rank</td>\n",
       "    </tr>\n",
       "    <tr>\n",
       "      <th>1</th>\n",
       "      <td>NaN</td>\n",
       "      <td>Under $1M</td>\n",
       "      <td>Private</td>\n",
       "      <td>A.T. Still University of Health Sciences</td>\n",
       "      <td>926</td>\n",
       "      <td>603</td>\n",
       "      <td>221</td>\n",
       "      <td>744</td>\n",
       "      <td>632</td>\n",
       "      <td>235</td>\n",
       "      <td>...</td>\n",
       "      <td>137</td>\n",
       "      <td>856</td>\n",
       "      <td>395</td>\n",
       "      <td>128</td>\n",
       "      <td>624</td>\n",
       "      <td>408</td>\n",
       "      <td>133</td>\n",
       "      <td>539</td>\n",
       "      <td>423</td>\n",
       "      <td>144</td>\n",
       "    </tr>\n",
       "  </tbody>\n",
       "</table>\n",
       "<p>2 rows × 79 columns</p>\n",
       "</div>"
      ],
      "text/plain": [
       "0  NaN  Research Group  Control  \\\n",
       "0  NaN  Research Group  Control   \n",
       "1  NaN       Under $1M  Private   \n",
       "\n",
       "0 Institutions Reporting Any\\nFederal Research in Past Five Years\\n(in Alphabetical Order)  \\\n",
       "0  Institutions Reporting Any\\nFederal Research i...                                         \n",
       "1           A.T. Still University of Health Sciences                                         \n",
       "\n",
       "0  2014\\n***\\nTotal Research \\n x $1000  2014\\n***\\nNational Rank   \\\n",
       "0  2014\\n***\\nTotal Research \\n x $1000  2014\\n***\\nNational Rank    \n",
       "1                                   926                        603   \n",
       "\n",
       "0  2014\\n***\\nControl Rank   2013\\n***\\nTotal Research \\n x $1000  \\\n",
       "0  2014\\n***\\nControl Rank   2013\\n***\\nTotal Research \\n x $1000   \n",
       "1                       221                                   744   \n",
       "\n",
       "0  2013\\n***\\nNational Rank   2013\\n***\\nControl Rank   \\\n",
       "0  2013\\n***\\nNational Rank   2013\\n***\\nControl Rank    \n",
       "1                        632                       235   \n",
       "\n",
       "0            ...             1993\\n***\\nControl Rank   \\\n",
       "0            ...             1993\\n***\\nControl Rank    \n",
       "1            ...                                  137   \n",
       "\n",
       "0  1992\\n***\\nTotal Research \\n x $1000  1992\\n***\\nNational Rank   \\\n",
       "0  1992\\n***\\nTotal Research \\n x $1000  1992\\n***\\nNational Rank    \n",
       "1                                   856                        395   \n",
       "\n",
       "0  1992\\n***\\nControl Rank   1991\\n***\\nTotal Research \\n x $1000  \\\n",
       "0  1992\\n***\\nControl Rank   1991\\n***\\nTotal Research \\n x $1000   \n",
       "1                       128                                   624   \n",
       "\n",
       "0  1991\\n***\\nNational Rank   1991\\n***\\nControl Rank   \\\n",
       "0  1991\\n***\\nNational Rank   1991\\n***\\nControl Rank    \n",
       "1                        408                       133   \n",
       "\n",
       "0  1990\\n***\\nTotal Research \\n x $1000  1990\\n***\\nNational Rank   \\\n",
       "0  1990\\n***\\nTotal Research \\n x $1000  1990\\n***\\nNational Rank    \n",
       "1                                   539                        423   \n",
       "\n",
       "0  1990\\n***\\nControl Rank   \n",
       "0  1990\\n***\\nControl Rank   \n",
       "1                       144  \n",
       "\n",
       "[2 rows x 79 columns]"
      ]
     },
     "execution_count": 5,
     "metadata": {},
     "output_type": "execute_result"
    }
   ],
   "source": [
    "total_research.head(2)"
   ]
  },
  {
   "cell_type": "code",
   "execution_count": 6,
   "metadata": {},
   "outputs": [],
   "source": [
    "utsa = total_research[\"Institutions Reporting Any\\nFederal Research in Past Five Years\\n(in Alphabetical Order)\"] == 'University of Texas - San Antonio'"
   ]
  },
  {
   "cell_type": "code",
   "execution_count": 7,
   "metadata": {},
   "outputs": [
    {
     "data": {
      "text/html": [
       "<div>\n",
       "<style scoped>\n",
       "    .dataframe tbody tr th:only-of-type {\n",
       "        vertical-align: middle;\n",
       "    }\n",
       "\n",
       "    .dataframe tbody tr th {\n",
       "        vertical-align: top;\n",
       "    }\n",
       "\n",
       "    .dataframe thead th {\n",
       "        text-align: right;\n",
       "    }\n",
       "</style>\n",
       "<table border=\"1\" class=\"dataframe\">\n",
       "  <thead>\n",
       "    <tr style=\"text-align: right;\">\n",
       "      <th></th>\n",
       "      <th>nan</th>\n",
       "      <th>Research Group</th>\n",
       "      <th>Control</th>\n",
       "      <th>Institutions Reporting Any\n",
       "Federal Research in Past Five Years\n",
       "(in Alphabetical Order)</th>\n",
       "      <th>2014\n",
       "***\n",
       "Total Research \n",
       " x $1000</th>\n",
       "      <th>2014\n",
       "***\n",
       "National Rank</th>\n",
       "      <th>2014\n",
       "***\n",
       "Control Rank</th>\n",
       "      <th>2013\n",
       "***\n",
       "Total Research \n",
       " x $1000</th>\n",
       "      <th>2013\n",
       "***\n",
       "National Rank</th>\n",
       "      <th>2013\n",
       "***\n",
       "Control Rank</th>\n",
       "      <th>...</th>\n",
       "      <th>1993\n",
       "***\n",
       "Control Rank</th>\n",
       "      <th>1992\n",
       "***\n",
       "Total Research \n",
       " x $1000</th>\n",
       "      <th>1992\n",
       "***\n",
       "National Rank</th>\n",
       "      <th>1992\n",
       "***\n",
       "Control Rank</th>\n",
       "      <th>1991\n",
       "***\n",
       "Total Research \n",
       " x $1000</th>\n",
       "      <th>1991\n",
       "***\n",
       "National Rank</th>\n",
       "      <th>1991\n",
       "***\n",
       "Control Rank</th>\n",
       "      <th>1990\n",
       "***\n",
       "Total Research \n",
       " x $1000</th>\n",
       "      <th>1990\n",
       "***\n",
       "National Rank</th>\n",
       "      <th>1990\n",
       "***\n",
       "Control Rank</th>\n",
       "    </tr>\n",
       "  </thead>\n",
       "  <tbody>\n",
       "    <tr>\n",
       "      <th>862</th>\n",
       "      <td>NaN</td>\n",
       "      <td>$20-$40M</td>\n",
       "      <td>Public</td>\n",
       "      <td>University of Texas - San Antonio</td>\n",
       "      <td>42318</td>\n",
       "      <td>203</td>\n",
       "      <td>153</td>\n",
       "      <td>48599</td>\n",
       "      <td>196</td>\n",
       "      <td>147</td>\n",
       "      <td>...</td>\n",
       "      <td>212</td>\n",
       "      <td>0</td>\n",
       "      <td>571</td>\n",
       "      <td>349</td>\n",
       "      <td>0</td>\n",
       "      <td>567</td>\n",
       "      <td>349</td>\n",
       "      <td>0</td>\n",
       "      <td>570</td>\n",
       "      <td>351</td>\n",
       "    </tr>\n",
       "  </tbody>\n",
       "</table>\n",
       "<p>1 rows × 79 columns</p>\n",
       "</div>"
      ],
      "text/plain": [
       "0    NaN Research Group Control  \\\n",
       "862  NaN       $20-$40M  Public   \n",
       "\n",
       "0   Institutions Reporting Any\\nFederal Research in Past Five Years\\n(in Alphabetical Order)  \\\n",
       "862                  University of Texas - San Antonio                                         \n",
       "\n",
       "0   2014\\n***\\nTotal Research \\n x $1000 2014\\n***\\nNational Rank   \\\n",
       "862                                42318                       203   \n",
       "\n",
       "0   2014\\n***\\nControl Rank  2013\\n***\\nTotal Research \\n x $1000  \\\n",
       "862                      153                                48599   \n",
       "\n",
       "0   2013\\n***\\nNational Rank  2013\\n***\\nControl Rank   \\\n",
       "862                       196                      147   \n",
       "\n",
       "0             ...            1993\\n***\\nControl Rank   \\\n",
       "862           ...                                 212   \n",
       "\n",
       "0   1992\\n***\\nTotal Research \\n x $1000 1992\\n***\\nNational Rank   \\\n",
       "862                                    0                       571   \n",
       "\n",
       "0   1992\\n***\\nControl Rank  1991\\n***\\nTotal Research \\n x $1000  \\\n",
       "862                      349                                    0   \n",
       "\n",
       "0   1991\\n***\\nNational Rank  1991\\n***\\nControl Rank   \\\n",
       "862                       567                      349   \n",
       "\n",
       "0   1990\\n***\\nTotal Research \\n x $1000 1990\\n***\\nNational Rank   \\\n",
       "862                                    0                       570   \n",
       "\n",
       "0   1990\\n***\\nControl Rank   \n",
       "862                      351  \n",
       "\n",
       "[1 rows x 79 columns]"
      ]
     },
     "execution_count": 7,
     "metadata": {},
     "output_type": "execute_result"
    }
   ],
   "source": [
    "total_research[utsa]"
   ]
  },
  {
   "cell_type": "code",
   "execution_count": 8,
   "metadata": {},
   "outputs": [],
   "source": [
    "utsa_1st = {}\n",
    "for dataset in data_2015:\n",
    "    utsa_1st[dataset.columns[4]] = dataset[utsa].iloc[:,4].values[0]\n",
    "for dataset in data_2014:\n",
    "    utsa_1st[dataset.columns[4]] = dataset[utsa].iloc[:,4].values[0]"
   ]
  },
  {
   "cell_type": "code",
   "execution_count": 9,
   "metadata": {},
   "outputs": [
    {
     "data": {
      "text/plain": [
       "{'2015\\n***\\nEndowment Assets \\n x $1000': 121962,\n",
       " '2015\\n***\\nAnnual Giving \\n x $1000': 20309,\n",
       " '2015\\n***\\nAcademy Members': 1,\n",
       " '2015\\n***\\nFaculty Awards': 7,\n",
       " '2015\\n***\\nDoctorates': 109,\n",
       " '2014\\n***\\nTotal Research \\n x $1000': 42318,\n",
       " '2014\\n***\\nFederal Research \\n x $1000': 22518,\n",
       " '2014\\n***\\nPostdocs': 52}"
      ]
     },
     "execution_count": 9,
     "metadata": {},
     "output_type": "execute_result"
    }
   ],
   "source": [
    "utsa_1st"
   ]
  },
  {
   "cell_type": "code",
   "execution_count": 10,
   "metadata": {},
   "outputs": [
    {
     "data": {
      "text/plain": [
       "{'2014\\n***\\nEndowment Assets \\n x $1000': 113909,\n",
       " '2014\\n***\\nAnnual Giving \\n x $1000': 15457.53,\n",
       " '2014\\n***\\nAcademy Members': 0,\n",
       " '2014\\n***\\nFaculty Awards': 1,\n",
       " '2014\\n***\\nDoctorates': 106,\n",
       " '2013\\n***\\nTotal Research \\n x $1000': 48599,\n",
       " '2013\\n***\\nFederal Research \\n x $1000': 28066,\n",
       " '2013\\n***\\nPostdocs': 45}"
      ]
     },
     "execution_count": 10,
     "metadata": {},
     "output_type": "execute_result"
    }
   ],
   "source": [
    "utsa_2nd = {}\n",
    "for dataset in data_2015:\n",
    "    utsa_2nd[dataset.columns[7]] = dataset[utsa].iloc[:,7].values[0]\n",
    "for dataset in data_2014:\n",
    "    utsa_2nd[dataset.columns[7]] = dataset[utsa].iloc[:,7].values[0]\n",
    "utsa_2nd"
   ]
  },
  {
   "cell_type": "code",
   "execution_count": 11,
   "metadata": {},
   "outputs": [
    {
     "data": {
      "text/plain": [
       "{'2013\\n***\\nEndowment Assets \\n x $1000': 100825,\n",
       " '2013\\n***\\nAnnual Giving \\n x $1000': 14157,\n",
       " '2013\\n***\\nAcademy Members': 0,\n",
       " '2013\\n***\\nFaculty Awards': 1,\n",
       " '2013\\n***\\nDoctorates': 92,\n",
       " '2012\\n***\\nTotal Research \\n x $1000': 48700,\n",
       " '2012\\n***\\nFederal Research \\n x $1000': 29168,\n",
       " '2012\\n***\\nPostdocs': 48}"
      ]
     },
     "execution_count": 11,
     "metadata": {},
     "output_type": "execute_result"
    }
   ],
   "source": [
    "utsa_3rd = {}\n",
    "for dataset in data_2015:\n",
    "    utsa_3rd[dataset.columns[10]] = dataset[utsa].iloc[:,10].values[0]\n",
    "for dataset in data_2014:\n",
    "    utsa_3rd[dataset.columns[10]] = dataset[utsa].iloc[:,10].values[0]\n",
    "utsa_3rd"
   ]
  },
  {
   "cell_type": "code",
   "execution_count": 12,
   "metadata": {},
   "outputs": [
    {
     "data": {
      "text/plain": [
       "{'2012\\n***\\nEndowment Assets \\n x $1000': 89521,\n",
       " '2012\\n***\\nAnnual Giving \\n x $1000': 12179,\n",
       " '2012\\n***\\nAcademy Members': 0,\n",
       " '2012\\n***\\nFaculty Awards': 4,\n",
       " '2012\\n***\\nDoctorates': 77,\n",
       " '2011\\n***\\nTotal Research \\n x $1000': 50496,\n",
       " '2011\\n***\\nFederal Research \\n x $1000': 28011,\n",
       " '2011\\n***\\nPostdocs': 43}"
      ]
     },
     "execution_count": 12,
     "metadata": {},
     "output_type": "execute_result"
    }
   ],
   "source": [
    "utsa_4th = {}\n",
    "for dataset in data_2015:\n",
    "    utsa_4th[dataset.columns[13]] = dataset[utsa].iloc[:,13].values[0]\n",
    "for dataset in data_2014:\n",
    "    utsa_4th[dataset.columns[13]] = dataset[utsa].iloc[:,13].values[0]\n",
    "utsa_4th"
   ]
  },
  {
   "cell_type": "code",
   "execution_count": 13,
   "metadata": {},
   "outputs": [
    {
     "data": {
      "text/plain": [
       "{'2011\\n***\\nEndowment Assets \\n x $1000': 81760,\n",
       " '2011\\n***\\nAnnual Giving \\n x $1000': 30899,\n",
       " '2011\\n***\\nAcademy Members': 0,\n",
       " '2011\\n***\\nFaculty Awards': 1,\n",
       " '2011\\n***\\nDoctorates': 69,\n",
       " '2010\\n***\\nTotal Research \\n x $1000': 51480,\n",
       " '2010\\n***\\nFederal Research \\n x $1000': 27036,\n",
       " '2010\\n***\\nPostdocs': 39}"
      ]
     },
     "execution_count": 13,
     "metadata": {},
     "output_type": "execute_result"
    }
   ],
   "source": [
    "utsa_5th = {}\n",
    "for dataset in data_2015:\n",
    "    utsa_5th[dataset.columns[16]] = dataset[utsa].iloc[:,16].values[0]\n",
    "for dataset in data_2014:\n",
    "    utsa_5th[dataset.columns[16]] = dataset[utsa].iloc[:,16].values[0]\n",
    "utsa_5th"
   ]
  },
  {
   "cell_type": "code",
   "execution_count": 14,
   "metadata": {},
   "outputs": [],
   "source": [
    "index_col = ['Endowment Assets x $1000','Annual Giving x $1000','National Academy Members',\n",
    "             'Faculty Awards','Doctorates Awared','Total Research x $1000', 'Federal Research x $1000',\n",
    "             'Postdoctoral Appointees']"
   ]
  },
  {
   "cell_type": "code",
   "execution_count": 15,
   "metadata": {},
   "outputs": [
    {
     "data": {
      "text/plain": [
       "[121962, 20309, 1, 7, 109, 42318, 22518, 52]"
      ]
     },
     "execution_count": 15,
     "metadata": {},
     "output_type": "execute_result"
    }
   ],
   "source": [
    "list(utsa_1st.values())"
   ]
  },
  {
   "cell_type": "code",
   "execution_count": 16,
   "metadata": {},
   "outputs": [],
   "source": [
    "utsa_dict = { 'Measure': index_col,'Year 2015 - 2014' : list(utsa_1st.values()),\n",
    "            'Year 2014 - 2013': np.array(list(utsa_2nd.values())).astype(int),'Year 2013 - 2012': list(utsa_3rd.values()), \n",
    "            'Year 2012 - 2011': list(utsa_4th.values()),'Year 2011 - 2010': list(utsa_5th.values()),\n",
    "          }"
   ]
  },
  {
   "cell_type": "code",
   "execution_count": 17,
   "metadata": {},
   "outputs": [
    {
     "data": {
      "text/html": [
       "<div>\n",
       "<style scoped>\n",
       "    .dataframe tbody tr th:only-of-type {\n",
       "        vertical-align: middle;\n",
       "    }\n",
       "\n",
       "    .dataframe tbody tr th {\n",
       "        vertical-align: top;\n",
       "    }\n",
       "\n",
       "    .dataframe thead th {\n",
       "        text-align: right;\n",
       "    }\n",
       "</style>\n",
       "<table border=\"1\" class=\"dataframe\">\n",
       "  <thead>\n",
       "    <tr style=\"text-align: right;\">\n",
       "      <th></th>\n",
       "      <th>Measure</th>\n",
       "      <th>Year 2015 - 2014</th>\n",
       "      <th>Year 2014 - 2013</th>\n",
       "      <th>Year 2013 - 2012</th>\n",
       "      <th>Year 2012 - 2011</th>\n",
       "      <th>Year 2011 - 2010</th>\n",
       "    </tr>\n",
       "  </thead>\n",
       "  <tbody>\n",
       "    <tr>\n",
       "      <th>0</th>\n",
       "      <td>Endowment Assets x $1000</td>\n",
       "      <td>121962</td>\n",
       "      <td>113909</td>\n",
       "      <td>100825</td>\n",
       "      <td>89521</td>\n",
       "      <td>81760</td>\n",
       "    </tr>\n",
       "    <tr>\n",
       "      <th>1</th>\n",
       "      <td>Annual Giving x $1000</td>\n",
       "      <td>20309</td>\n",
       "      <td>15457</td>\n",
       "      <td>14157</td>\n",
       "      <td>12179</td>\n",
       "      <td>30899</td>\n",
       "    </tr>\n",
       "    <tr>\n",
       "      <th>2</th>\n",
       "      <td>National Academy Members</td>\n",
       "      <td>1</td>\n",
       "      <td>0</td>\n",
       "      <td>0</td>\n",
       "      <td>0</td>\n",
       "      <td>0</td>\n",
       "    </tr>\n",
       "    <tr>\n",
       "      <th>3</th>\n",
       "      <td>Faculty Awards</td>\n",
       "      <td>7</td>\n",
       "      <td>1</td>\n",
       "      <td>1</td>\n",
       "      <td>4</td>\n",
       "      <td>1</td>\n",
       "    </tr>\n",
       "    <tr>\n",
       "      <th>4</th>\n",
       "      <td>Doctorates Awared</td>\n",
       "      <td>109</td>\n",
       "      <td>106</td>\n",
       "      <td>92</td>\n",
       "      <td>77</td>\n",
       "      <td>69</td>\n",
       "    </tr>\n",
       "    <tr>\n",
       "      <th>5</th>\n",
       "      <td>Total Research x $1000</td>\n",
       "      <td>42318</td>\n",
       "      <td>48599</td>\n",
       "      <td>48700</td>\n",
       "      <td>50496</td>\n",
       "      <td>51480</td>\n",
       "    </tr>\n",
       "    <tr>\n",
       "      <th>6</th>\n",
       "      <td>Federal Research x $1000</td>\n",
       "      <td>22518</td>\n",
       "      <td>28066</td>\n",
       "      <td>29168</td>\n",
       "      <td>28011</td>\n",
       "      <td>27036</td>\n",
       "    </tr>\n",
       "    <tr>\n",
       "      <th>7</th>\n",
       "      <td>Postdoctoral Appointees</td>\n",
       "      <td>52</td>\n",
       "      <td>45</td>\n",
       "      <td>48</td>\n",
       "      <td>43</td>\n",
       "      <td>39</td>\n",
       "    </tr>\n",
       "  </tbody>\n",
       "</table>\n",
       "</div>"
      ],
      "text/plain": [
       "                    Measure  Year 2015 - 2014  Year 2014 - 2013  \\\n",
       "0  Endowment Assets x $1000            121962            113909   \n",
       "1     Annual Giving x $1000             20309             15457   \n",
       "2  National Academy Members                 1                 0   \n",
       "3            Faculty Awards                 7                 1   \n",
       "4         Doctorates Awared               109               106   \n",
       "5    Total Research x $1000             42318             48599   \n",
       "6  Federal Research x $1000             22518             28066   \n",
       "7   Postdoctoral Appointees                52                45   \n",
       "\n",
       "   Year 2013 - 2012  Year 2012 - 2011  Year 2011 - 2010  \n",
       "0            100825             89521             81760  \n",
       "1             14157             12179             30899  \n",
       "2                 0                 0                 0  \n",
       "3                 1                 4                 1  \n",
       "4                92                77                69  \n",
       "5             48700             50496             51480  \n",
       "6             29168             28011             27036  \n",
       "7                48                43                39  "
      ]
     },
     "execution_count": 17,
     "metadata": {},
     "output_type": "execute_result"
    }
   ],
   "source": [
    "pd.DataFrame.from_dict(utsa_dict)"
   ]
  },
  {
   "cell_type": "code",
   "execution_count": 18,
   "metadata": {},
   "outputs": [],
   "source": [
    "AAU_df = pd.read_excel('AAU.xlsx',sheet_name='Total Research 2008')"
   ]
  },
  {
   "cell_type": "code",
   "execution_count": 19,
   "metadata": {},
   "outputs": [
    {
     "data": {
      "text/html": [
       "<div>\n",
       "<style scoped>\n",
       "    .dataframe tbody tr th:only-of-type {\n",
       "        vertical-align: middle;\n",
       "    }\n",
       "\n",
       "    .dataframe tbody tr th {\n",
       "        vertical-align: top;\n",
       "    }\n",
       "\n",
       "    .dataframe thead th {\n",
       "        text-align: right;\n",
       "    }\n",
       "</style>\n",
       "<table border=\"1\" class=\"dataframe\">\n",
       "  <thead>\n",
       "    <tr style=\"text-align: right;\">\n",
       "      <th></th>\n",
       "      <th>Percentile</th>\n",
       "      <th>Total Research x $1000</th>\n",
       "      <th>Unnamed: 2</th>\n",
       "      <th>Institution</th>\n",
       "      <th>Total Research x $1000.1</th>\n",
       "      <th>Average</th>\n",
       "    </tr>\n",
       "  </thead>\n",
       "  <tbody>\n",
       "    <tr>\n",
       "      <th>0</th>\n",
       "      <td>20th</td>\n",
       "      <td>249503</td>\n",
       "      <td>NaN</td>\n",
       "      <td>Brandeis University</td>\n",
       "      <td>49797.000000</td>\n",
       "      <td>153561.825081</td>\n",
       "    </tr>\n",
       "    <tr>\n",
       "      <th>1</th>\n",
       "      <td>40th</td>\n",
       "      <td>379182</td>\n",
       "      <td>NaN</td>\n",
       "      <td>University of Oregon</td>\n",
       "      <td>67378.000000</td>\n",
       "      <td>NaN</td>\n",
       "    </tr>\n",
       "    <tr>\n",
       "      <th>2</th>\n",
       "      <td>60th</td>\n",
       "      <td>515890</td>\n",
       "      <td>NaN</td>\n",
       "      <td>Rice University</td>\n",
       "      <td>74254.000000</td>\n",
       "      <td>NaN</td>\n",
       "    </tr>\n",
       "    <tr>\n",
       "      <th>3</th>\n",
       "      <td>80th</td>\n",
       "      <td>649362</td>\n",
       "      <td>NaN</td>\n",
       "      <td>University of Kansas - Lawrence</td>\n",
       "      <td>111510.436196</td>\n",
       "      <td>NaN</td>\n",
       "    </tr>\n",
       "    <tr>\n",
       "      <th>4</th>\n",
       "      <td>NaN</td>\n",
       "      <td>NaN</td>\n",
       "      <td>NaN</td>\n",
       "      <td>Indiana University - Bloomington</td>\n",
       "      <td>150788.464770</td>\n",
       "      <td>NaN</td>\n",
       "    </tr>\n",
       "  </tbody>\n",
       "</table>\n",
       "</div>"
      ],
      "text/plain": [
       "  Percentile Total Research x $1000  Unnamed: 2  \\\n",
       "0       20th                 249503         NaN   \n",
       "1       40th                 379182         NaN   \n",
       "2       60th                 515890         NaN   \n",
       "3       80th                 649362         NaN   \n",
       "4        NaN                    NaN         NaN   \n",
       "\n",
       "                        Institution  Total Research x $1000.1        Average  \n",
       "0               Brandeis University              49797.000000  153561.825081  \n",
       "1              University of Oregon              67378.000000            NaN  \n",
       "2                   Rice University              74254.000000            NaN  \n",
       "3   University of Kansas - Lawrence             111510.436196            NaN  \n",
       "4  Indiana University - Bloomington             150788.464770            NaN  "
      ]
     },
     "execution_count": 19,
     "metadata": {},
     "output_type": "execute_result"
    }
   ],
   "source": [
    "AAU_df.head()"
   ]
  },
  {
   "cell_type": "code",
   "execution_count": 20,
   "metadata": {},
   "outputs": [],
   "source": [
    "AAU_list = AAU_df['Institution'].values"
   ]
  },
  {
   "cell_type": "code",
   "execution_count": 21,
   "metadata": {},
   "outputs": [
    {
     "data": {
      "text/plain": [
       "array(['Brandeis University', 'University of Oregon', 'Rice University',\n",
       "       'University of Kansas - Lawrence',\n",
       "       'Indiana University - Bloomington', 'Tulane University',\n",
       "       'Brown University', 'Princeton University',\n",
       "       'University of California - Santa Barbara',\n",
       "       'Carnegie Mellon University', 'Iowa State University',\n",
       "       'University of Missouri - Columbia', 'Stony Brook University',\n",
       "       'University of Virginia', 'University of Colorado - Boulder',\n",
       "       'California Institute of Technology', 'University of Iowa',\n",
       "       'Rutgers the State University of NJ - New Brunswick',\n",
       "       'New York University', 'University of California - Irvine',\n",
       "       'University at Buffalo', 'Michigan State University',\n",
       "       'University of Chicago', 'University of Rochester',\n",
       "       'University of Maryland - College Park',\n",
       "       'Case Western Reserve University', 'Vanderbilt University',\n",
       "       'Purdue University - West Lafayette', 'Emory University',\n",
       "       'Harvard University', 'Cornell University',\n",
       "       'Northwestern University', 'Yale University',\n",
       "       'University of Texas - Austin',\n",
       "       'University of Illinois - Urbana-Champaign',\n",
       "       'University of Southern California',\n",
       "       'Georgia Institute of Technology',\n",
       "       'University of North Carolina - Chapel Hill',\n",
       "       'University of Arizona', 'Columbia University',\n",
       "       'Washington University in St. Louis', 'Texas A&M University',\n",
       "       'University of Florida', 'University of California - Berkeley',\n",
       "       'University of Pittsburgh - Pittsburgh',\n",
       "       'Pennsylvania State University - University Park',\n",
       "       'University of California - Davis',\n",
       "       'Massachusetts Institute of Technology',\n",
       "       'University of Minnesota - Twin Cities', 'Stanford University',\n",
       "       'Ohio State University - Columbus', 'University of Pennsylvania',\n",
       "       'University of Washington - Seattle', 'Duke University',\n",
       "       'University of California - San Diego',\n",
       "       'University of California - Los Angeles',\n",
       "       'University of Michigan - Ann Arbor',\n",
       "       'University of Wisconsin - Madison', 'Johns Hopkins University'],\n",
       "      dtype=object)"
      ]
     },
     "execution_count": 21,
     "metadata": {},
     "output_type": "execute_result"
    }
   ],
   "source": [
    "AAU_list"
   ]
  },
  {
   "cell_type": "code",
   "execution_count": 22,
   "metadata": {},
   "outputs": [],
   "source": [
    "col_name = \"Institutions Reporting Any\\nFederal Research in Past Five Years\\n(in Alphabetical Order)\""
   ]
  },
  {
   "cell_type": "markdown",
   "metadata": {},
   "source": [
    "**Get different dataframe for AAU list**"
   ]
  },
  {
   "cell_type": "code",
   "execution_count": 23,
   "metadata": {},
   "outputs": [],
   "source": [
    "AAU_total_research = total_research[total_research[col_name].isin(AAU_list)].copy()"
   ]
  },
  {
   "cell_type": "code",
   "execution_count": 24,
   "metadata": {},
   "outputs": [],
   "source": [
    "AAU_total_research.drop(AAU_total_research.columns[0],axis=1,inplace=True)"
   ]
  },
  {
   "cell_type": "code",
   "execution_count": 25,
   "metadata": {},
   "outputs": [],
   "source": [
    "AAU_fed_research = federal_research[federal_research[col_name].isin(AAU_list)].copy().drop(federal_research.columns[0],axis=1)"
   ]
  },
  {
   "cell_type": "code",
   "execution_count": 26,
   "metadata": {},
   "outputs": [],
   "source": [
    "AAU_endow_assets = endowment_asserts[endowment_asserts[col_name].isin(AAU_list)].copy()"
   ]
  },
  {
   "cell_type": "code",
   "execution_count": 27,
   "metadata": {},
   "outputs": [],
   "source": [
    "AAU_endow_assets.drop(AAU_endow_assets.columns[0],axis=1,inplace=True)"
   ]
  },
  {
   "cell_type": "code",
   "execution_count": 28,
   "metadata": {},
   "outputs": [],
   "source": [
    "AAU_annual_giving = annual_giving[annual_giving[col_name].isin(AAU_list)].copy()"
   ]
  },
  {
   "cell_type": "code",
   "execution_count": 29,
   "metadata": {},
   "outputs": [],
   "source": [
    "AAU_annual_giving.drop(AAU_annual_giving.columns[0],axis=1,inplace=True)"
   ]
  },
  {
   "cell_type": "code",
   "execution_count": 30,
   "metadata": {},
   "outputs": [],
   "source": [
    "AAU_nat_member = natl_academy[natl_academy[col_name].isin(AAU_list)].copy()"
   ]
  },
  {
   "cell_type": "code",
   "execution_count": 31,
   "metadata": {},
   "outputs": [],
   "source": [
    "AAU_nat_member.drop(AAU_nat_member.columns[0],axis=1,inplace=True)"
   ]
  },
  {
   "cell_type": "code",
   "execution_count": 32,
   "metadata": {},
   "outputs": [],
   "source": [
    "AAU_fac_award = faculty_awards[faculty_awards[col_name].isin(AAU_list)].copy()"
   ]
  },
  {
   "cell_type": "code",
   "execution_count": 33,
   "metadata": {},
   "outputs": [],
   "source": [
    "AAU_fac_award.drop(AAU_fac_award.columns[0],axis=1,inplace=True)"
   ]
  },
  {
   "cell_type": "code",
   "execution_count": 34,
   "metadata": {},
   "outputs": [],
   "source": [
    "AAU_doc_award = dr_awards[dr_awards[col_name].isin(AAU_list)].copy()"
   ]
  },
  {
   "cell_type": "code",
   "execution_count": 35,
   "metadata": {},
   "outputs": [],
   "source": [
    "AAU_doc_award.drop(AAU_doc_award.columns[0],axis=1,inplace=True)"
   ]
  },
  {
   "cell_type": "code",
   "execution_count": 36,
   "metadata": {},
   "outputs": [],
   "source": [
    "AAU_postdoc = postdocs[postdocs[col_name].isin(AAU_list)].copy()"
   ]
  },
  {
   "cell_type": "code",
   "execution_count": 37,
   "metadata": {},
   "outputs": [],
   "source": [
    "AAU_postdoc.drop(AAU_postdoc.columns[0],axis=1,inplace=True)"
   ]
  },
  {
   "cell_type": "markdown",
   "metadata": {},
   "source": [
    "**Total Research for AAU In Year 15-14**"
   ]
  },
  {
   "cell_type": "code",
   "execution_count": 38,
   "metadata": {},
   "outputs": [],
   "source": [
    "search_string = '2014\\n***\\nTotal Research \\n x $1000'"
   ]
  },
  {
   "cell_type": "code",
   "execution_count": 39,
   "metadata": {},
   "outputs": [],
   "source": [
    "TResearch_1514_20th = np.percentile(AAU_total_research[search_string],[0,20])"
   ]
  },
  {
   "cell_type": "code",
   "execution_count": 40,
   "metadata": {},
   "outputs": [
    {
     "data": {
      "text/plain": [
       "189320"
      ]
     },
     "execution_count": 40,
     "metadata": {},
     "output_type": "execute_result"
    }
   ],
   "source": [
    "#Average Total Research for AAU Univerisiies in 2014 (0th-20th)\n",
    "AAU_total_research[(AAU_total_research[search_string] >= TResearch_1514_20th[0]) & (AAU_total_research[search_string] <= TResearch_1514_20th[1])][search_string].mean().astype(int)"
   ]
  },
  {
   "cell_type": "code",
   "execution_count": 41,
   "metadata": {},
   "outputs": [],
   "source": [
    "TResearch_1514_40th = np.percentile(AAU_total_research[search_string],[21,40])"
   ]
  },
  {
   "cell_type": "code",
   "execution_count": 42,
   "metadata": {},
   "outputs": [
    {
     "data": {
      "text/plain": [
       "372768"
      ]
     },
     "execution_count": 42,
     "metadata": {},
     "output_type": "execute_result"
    }
   ],
   "source": [
    "#Average Total Research for AAU Univerisiies in 2014 (21st-40th)\n",
    "AAU_total_research[(AAU_total_research[search_string] >= TResearch_1514_40th[0]) & (AAU_total_research[search_string] <= TResearch_1514_40th[1])][search_string].mean().astype(int)"
   ]
  },
  {
   "cell_type": "code",
   "execution_count": 43,
   "metadata": {},
   "outputs": [],
   "source": [
    "TResearch_1514_60th = np.percentile(AAU_total_research[search_string],[41,60])"
   ]
  },
  {
   "cell_type": "code",
   "execution_count": 44,
   "metadata": {},
   "outputs": [
    {
     "data": {
      "text/plain": [
       "567036"
      ]
     },
     "execution_count": 44,
     "metadata": {},
     "output_type": "execute_result"
    }
   ],
   "source": [
    "#Average Total Research for AAU Univerisiies in 2014 (41st-60th)\n",
    "AAU_total_research[(AAU_total_research[search_string] >= TResearch_1514_60th[0]) & (AAU_total_research[search_string] <= TResearch_1514_60th[1])][search_string].mean().astype(int)"
   ]
  },
  {
   "cell_type": "code",
   "execution_count": 45,
   "metadata": {},
   "outputs": [],
   "source": [
    "TResearch_1514_80th = np.percentile(AAU_total_research[search_string],[61,80])"
   ]
  },
  {
   "cell_type": "code",
   "execution_count": 46,
   "metadata": {},
   "outputs": [
    {
     "data": {
      "text/plain": [
       "745075"
      ]
     },
     "execution_count": 46,
     "metadata": {},
     "output_type": "execute_result"
    }
   ],
   "source": [
    "#Average Total Research for AAU Univerisiies in 2014 (61st-80th)\n",
    "AAU_total_research[(AAU_total_research[search_string] >= TResearch_1514_80th[0]) & (AAU_total_research[search_string] <= TResearch_1514_80th[1])][search_string].mean().astype(int)"
   ]
  },
  {
   "cell_type": "code",
   "execution_count": 47,
   "metadata": {},
   "outputs": [],
   "source": [
    "TResearch_1514_100th = np.percentile(AAU_total_research[search_string],[81,100])"
   ]
  },
  {
   "cell_type": "code",
   "execution_count": 48,
   "metadata": {},
   "outputs": [
    {
     "data": {
      "text/plain": [
       "1108144"
      ]
     },
     "execution_count": 48,
     "metadata": {},
     "output_type": "execute_result"
    }
   ],
   "source": [
    "#Average Total Research for AAU Univerisiies in 2014 (61st-80th)\n",
    "AAU_total_research[(AAU_total_research[search_string] >= TResearch_1514_100th[0]) & \n",
    "                   (AAU_total_research[search_string] <= TResearch_1514_100th[1])][search_string].mean().astype(int)"
   ]
  },
  {
   "cell_type": "code",
   "execution_count": 49,
   "metadata": {},
   "outputs": [
    {
     "data": {
      "text/html": [
       "<div>\n",
       "<style scoped>\n",
       "    .dataframe tbody tr th:only-of-type {\n",
       "        vertical-align: middle;\n",
       "    }\n",
       "\n",
       "    .dataframe tbody tr th {\n",
       "        vertical-align: top;\n",
       "    }\n",
       "\n",
       "    .dataframe thead th {\n",
       "        text-align: right;\n",
       "    }\n",
       "</style>\n",
       "<table border=\"1\" class=\"dataframe\">\n",
       "  <thead>\n",
       "    <tr style=\"text-align: right;\">\n",
       "      <th></th>\n",
       "      <th>Institutions Reporting Any\n",
       "Federal Research in Past Five Years\n",
       "(in Alphabetical Order)</th>\n",
       "      <th>2014\n",
       "***\n",
       "Total Research \n",
       " x $1000</th>\n",
       "    </tr>\n",
       "  </thead>\n",
       "  <tbody>\n",
       "    <tr>\n",
       "      <th>68</th>\n",
       "      <td>Brandeis University</td>\n",
       "      <td>67048</td>\n",
       "    </tr>\n",
       "    <tr>\n",
       "      <th>71</th>\n",
       "      <td>Brown University</td>\n",
       "      <td>291917</td>\n",
       "    </tr>\n",
       "    <tr>\n",
       "      <th>76</th>\n",
       "      <td>California Institute of Technology</td>\n",
       "      <td>358137</td>\n",
       "    </tr>\n",
       "    <tr>\n",
       "      <th>101</th>\n",
       "      <td>Carnegie Mellon University</td>\n",
       "      <td>250497</td>\n",
       "    </tr>\n",
       "    <tr>\n",
       "      <th>103</th>\n",
       "      <td>Case Western Reserve University</td>\n",
       "      <td>417436</td>\n",
       "    </tr>\n",
       "    <tr>\n",
       "      <th>163</th>\n",
       "      <td>Columbia University</td>\n",
       "      <td>844766</td>\n",
       "    </tr>\n",
       "    <tr>\n",
       "      <th>172</th>\n",
       "      <td>Cornell University</td>\n",
       "      <td>580936</td>\n",
       "    </tr>\n",
       "    <tr>\n",
       "      <th>196</th>\n",
       "      <td>Duke University</td>\n",
       "      <td>1031404</td>\n",
       "    </tr>\n",
       "    <tr>\n",
       "      <th>220</th>\n",
       "      <td>Emory University</td>\n",
       "      <td>551556</td>\n",
       "    </tr>\n",
       "    <tr>\n",
       "      <th>253</th>\n",
       "      <td>Georgia Institute of Technology</td>\n",
       "      <td>720248</td>\n",
       "    </tr>\n",
       "    <tr>\n",
       "      <th>271</th>\n",
       "      <td>Harvard University</td>\n",
       "      <td>875964</td>\n",
       "    </tr>\n",
       "    <tr>\n",
       "      <th>290</th>\n",
       "      <td>Indiana University - Bloomington</td>\n",
       "      <td>172380</td>\n",
       "    </tr>\n",
       "    <tr>\n",
       "      <th>301</th>\n",
       "      <td>Iowa State University</td>\n",
       "      <td>297293</td>\n",
       "    </tr>\n",
       "    <tr>\n",
       "      <th>309</th>\n",
       "      <td>Johns Hopkins University</td>\n",
       "      <td>2227536</td>\n",
       "    </tr>\n",
       "    <tr>\n",
       "      <th>367</th>\n",
       "      <td>Massachusetts Institute of Technology</td>\n",
       "      <td>815008</td>\n",
       "    </tr>\n",
       "    <tr>\n",
       "      <th>381</th>\n",
       "      <td>Michigan State University</td>\n",
       "      <td>492501</td>\n",
       "    </tr>\n",
       "    <tr>\n",
       "      <th>435</th>\n",
       "      <td>New York University</td>\n",
       "      <td>490614</td>\n",
       "    </tr>\n",
       "    <tr>\n",
       "      <th>457</th>\n",
       "      <td>Northwestern University</td>\n",
       "      <td>621504</td>\n",
       "    </tr>\n",
       "    <tr>\n",
       "      <th>466</th>\n",
       "      <td>Ohio State University - Columbus</td>\n",
       "      <td>752836</td>\n",
       "    </tr>\n",
       "    <tr>\n",
       "      <th>492</th>\n",
       "      <td>Pennsylvania State University - University Park</td>\n",
       "      <td>702912</td>\n",
       "    </tr>\n",
       "    <tr>\n",
       "      <th>510</th>\n",
       "      <td>Princeton University</td>\n",
       "      <td>287730</td>\n",
       "    </tr>\n",
       "    <tr>\n",
       "      <th>514</th>\n",
       "      <td>Purdue University - West Lafayette</td>\n",
       "      <td>502457</td>\n",
       "    </tr>\n",
       "    <tr>\n",
       "      <th>524</th>\n",
       "      <td>Rice University</td>\n",
       "      <td>136419</td>\n",
       "    </tr>\n",
       "    <tr>\n",
       "      <th>608</th>\n",
       "      <td>Stanford University</td>\n",
       "      <td>912244</td>\n",
       "    </tr>\n",
       "    <tr>\n",
       "      <th>634</th>\n",
       "      <td>Stony Brook University</td>\n",
       "      <td>210301</td>\n",
       "    </tr>\n",
       "    <tr>\n",
       "      <th>672</th>\n",
       "      <td>Tulane University</td>\n",
       "      <td>148784</td>\n",
       "    </tr>\n",
       "    <tr>\n",
       "      <th>687</th>\n",
       "      <td>University at Buffalo</td>\n",
       "      <td>370083</td>\n",
       "    </tr>\n",
       "    <tr>\n",
       "      <th>695</th>\n",
       "      <td>University of Arizona</td>\n",
       "      <td>575864</td>\n",
       "    </tr>\n",
       "    <tr>\n",
       "      <th>703</th>\n",
       "      <td>University of California - Berkeley</td>\n",
       "      <td>708485</td>\n",
       "    </tr>\n",
       "    <tr>\n",
       "      <th>704</th>\n",
       "      <td>University of California - Davis</td>\n",
       "      <td>699689</td>\n",
       "    </tr>\n",
       "    <tr>\n",
       "      <th>705</th>\n",
       "      <td>University of California - Irvine</td>\n",
       "      <td>322315</td>\n",
       "    </tr>\n",
       "    <tr>\n",
       "      <th>706</th>\n",
       "      <td>University of California - Los Angeles</td>\n",
       "      <td>920183</td>\n",
       "    </tr>\n",
       "    <tr>\n",
       "      <th>709</th>\n",
       "      <td>University of California - San Diego</td>\n",
       "      <td>1060207</td>\n",
       "    </tr>\n",
       "    <tr>\n",
       "      <th>711</th>\n",
       "      <td>University of California - Santa Barbara</td>\n",
       "      <td>225614</td>\n",
       "    </tr>\n",
       "    <tr>\n",
       "      <th>718</th>\n",
       "      <td>University of Chicago</td>\n",
       "      <td>378322</td>\n",
       "    </tr>\n",
       "    <tr>\n",
       "      <th>720</th>\n",
       "      <td>University of Colorado - Boulder</td>\n",
       "      <td>362882</td>\n",
       "    </tr>\n",
       "    <tr>\n",
       "      <th>731</th>\n",
       "      <td>University of Florida</td>\n",
       "      <td>652341</td>\n",
       "    </tr>\n",
       "    <tr>\n",
       "      <th>744</th>\n",
       "      <td>University of Illinois - Urbana-Champaign</td>\n",
       "      <td>598531</td>\n",
       "    </tr>\n",
       "    <tr>\n",
       "      <th>745</th>\n",
       "      <td>University of Iowa</td>\n",
       "      <td>436852</td>\n",
       "    </tr>\n",
       "    <tr>\n",
       "      <th>746</th>\n",
       "      <td>University of Kansas - Lawrence</td>\n",
       "      <td>169884</td>\n",
       "    </tr>\n",
       "    <tr>\n",
       "      <th>757</th>\n",
       "      <td>University of Maryland - College Park</td>\n",
       "      <td>472235</td>\n",
       "    </tr>\n",
       "    <tr>\n",
       "      <th>769</th>\n",
       "      <td>University of Michigan - Ann Arbor</td>\n",
       "      <td>1279603</td>\n",
       "    </tr>\n",
       "    <tr>\n",
       "      <th>776</th>\n",
       "      <td>University of Minnesota - Twin Cities</td>\n",
       "      <td>850880</td>\n",
       "    </tr>\n",
       "    <tr>\n",
       "      <th>779</th>\n",
       "      <td>University of Missouri - Columbia</td>\n",
       "      <td>233613</td>\n",
       "    </tr>\n",
       "    <tr>\n",
       "      <th>797</th>\n",
       "      <td>University of North Carolina - Chapel Hill</td>\n",
       "      <td>955601</td>\n",
       "    </tr>\n",
       "    <tr>\n",
       "      <th>814</th>\n",
       "      <td>University of Oregon</td>\n",
       "      <td>77655</td>\n",
       "    </tr>\n",
       "    <tr>\n",
       "      <th>815</th>\n",
       "      <td>University of Pennsylvania</td>\n",
       "      <td>792314</td>\n",
       "    </tr>\n",
       "    <tr>\n",
       "      <th>817</th>\n",
       "      <td>University of Pittsburgh - Pittsburgh</td>\n",
       "      <td>835838</td>\n",
       "    </tr>\n",
       "    <tr>\n",
       "      <th>830</th>\n",
       "      <td>University of Rochester</td>\n",
       "      <td>347161</td>\n",
       "    </tr>\n",
       "    <tr>\n",
       "      <th>844</th>\n",
       "      <td>University of Southern California</td>\n",
       "      <td>650506</td>\n",
       "    </tr>\n",
       "    <tr>\n",
       "      <th>856</th>\n",
       "      <td>University of Texas - Austin</td>\n",
       "      <td>526173</td>\n",
       "    </tr>\n",
       "    <tr>\n",
       "      <th>878</th>\n",
       "      <td>University of Virginia</td>\n",
       "      <td>337732</td>\n",
       "    </tr>\n",
       "    <tr>\n",
       "      <th>881</th>\n",
       "      <td>University of Washington - Seattle</td>\n",
       "      <td>1091135</td>\n",
       "    </tr>\n",
       "    <tr>\n",
       "      <th>889</th>\n",
       "      <td>University of Wisconsin - Madison</td>\n",
       "      <td>984830</td>\n",
       "    </tr>\n",
       "    <tr>\n",
       "      <th>907</th>\n",
       "      <td>Vanderbilt University</td>\n",
       "      <td>659418</td>\n",
       "    </tr>\n",
       "    <tr>\n",
       "      <th>921</th>\n",
       "      <td>Washington University in St. Louis</td>\n",
       "      <td>646756</td>\n",
       "    </tr>\n",
       "    <tr>\n",
       "      <th>966</th>\n",
       "      <td>Yale University</td>\n",
       "      <td>764002</td>\n",
       "    </tr>\n",
       "  </tbody>\n",
       "</table>\n",
       "</div>"
      ],
      "text/plain": [
       "0   Institutions Reporting Any\\nFederal Research in Past Five Years\\n(in Alphabetical Order)  \\\n",
       "68                                 Brandeis University                                         \n",
       "71                                    Brown University                                         \n",
       "76                  California Institute of Technology                                         \n",
       "101                         Carnegie Mellon University                                         \n",
       "103                    Case Western Reserve University                                         \n",
       "163                                Columbia University                                         \n",
       "172                                 Cornell University                                         \n",
       "196                                    Duke University                                         \n",
       "220                                   Emory University                                         \n",
       "253                    Georgia Institute of Technology                                         \n",
       "271                                 Harvard University                                         \n",
       "290                   Indiana University - Bloomington                                         \n",
       "301                              Iowa State University                                         \n",
       "309                           Johns Hopkins University                                         \n",
       "367              Massachusetts Institute of Technology                                         \n",
       "381                          Michigan State University                                         \n",
       "435                                New York University                                         \n",
       "457                            Northwestern University                                         \n",
       "466                   Ohio State University - Columbus                                         \n",
       "492    Pennsylvania State University - University Park                                         \n",
       "510                               Princeton University                                         \n",
       "514                 Purdue University - West Lafayette                                         \n",
       "524                                    Rice University                                         \n",
       "608                                Stanford University                                         \n",
       "634                             Stony Brook University                                         \n",
       "672                                  Tulane University                                         \n",
       "687                              University at Buffalo                                         \n",
       "695                              University of Arizona                                         \n",
       "703                University of California - Berkeley                                         \n",
       "704                   University of California - Davis                                         \n",
       "705                  University of California - Irvine                                         \n",
       "706             University of California - Los Angeles                                         \n",
       "709               University of California - San Diego                                         \n",
       "711           University of California - Santa Barbara                                         \n",
       "718                              University of Chicago                                         \n",
       "720                   University of Colorado - Boulder                                         \n",
       "731                              University of Florida                                         \n",
       "744          University of Illinois - Urbana-Champaign                                         \n",
       "745                                 University of Iowa                                         \n",
       "746                    University of Kansas - Lawrence                                         \n",
       "757              University of Maryland - College Park                                         \n",
       "769                 University of Michigan - Ann Arbor                                         \n",
       "776              University of Minnesota - Twin Cities                                         \n",
       "779                  University of Missouri - Columbia                                         \n",
       "797         University of North Carolina - Chapel Hill                                         \n",
       "814                               University of Oregon                                         \n",
       "815                         University of Pennsylvania                                         \n",
       "817              University of Pittsburgh - Pittsburgh                                         \n",
       "830                            University of Rochester                                         \n",
       "844                  University of Southern California                                         \n",
       "856                       University of Texas - Austin                                         \n",
       "878                             University of Virginia                                         \n",
       "881                 University of Washington - Seattle                                         \n",
       "889                  University of Wisconsin - Madison                                         \n",
       "907                              Vanderbilt University                                         \n",
       "921                 Washington University in St. Louis                                         \n",
       "966                                    Yale University                                         \n",
       "\n",
       "0   2014\\n***\\nTotal Research \\n x $1000  \n",
       "68                                 67048  \n",
       "71                                291917  \n",
       "76                                358137  \n",
       "101                               250497  \n",
       "103                               417436  \n",
       "163                               844766  \n",
       "172                               580936  \n",
       "196                              1031404  \n",
       "220                               551556  \n",
       "253                               720248  \n",
       "271                               875964  \n",
       "290                               172380  \n",
       "301                               297293  \n",
       "309                              2227536  \n",
       "367                               815008  \n",
       "381                               492501  \n",
       "435                               490614  \n",
       "457                               621504  \n",
       "466                               752836  \n",
       "492                               702912  \n",
       "510                               287730  \n",
       "514                               502457  \n",
       "524                               136419  \n",
       "608                               912244  \n",
       "634                               210301  \n",
       "672                               148784  \n",
       "687                               370083  \n",
       "695                               575864  \n",
       "703                               708485  \n",
       "704                               699689  \n",
       "705                               322315  \n",
       "706                               920183  \n",
       "709                              1060207  \n",
       "711                               225614  \n",
       "718                               378322  \n",
       "720                               362882  \n",
       "731                               652341  \n",
       "744                               598531  \n",
       "745                               436852  \n",
       "746                               169884  \n",
       "757                               472235  \n",
       "769                              1279603  \n",
       "776                               850880  \n",
       "779                               233613  \n",
       "797                               955601  \n",
       "814                                77655  \n",
       "815                               792314  \n",
       "817                               835838  \n",
       "830                               347161  \n",
       "844                               650506  \n",
       "856                               526173  \n",
       "878                               337732  \n",
       "881                              1091135  \n",
       "889                               984830  \n",
       "907                               659418  \n",
       "921                               646756  \n",
       "966                               764002  "
      ]
     },
     "execution_count": 49,
     "metadata": {},
     "output_type": "execute_result"
    }
   ],
   "source": [
    "AAU_total_research[[col_name,search_string]].sort_values(by=col_name)"
   ]
  },
  {
   "cell_type": "code",
   "execution_count": 50,
   "metadata": {},
   "outputs": [],
   "source": [
    "aau_research_2014 = AAU_total_research[[col_name,search_string]].sort_values(by=search_string)\n",
    "aau_research_2014.columns = ['Institution','Total Research x $1000']"
   ]
  },
  {
   "cell_type": "code",
   "execution_count": 51,
   "metadata": {},
   "outputs": [],
   "source": [
    "writer = pd.ExcelWriter('UTSA vs AAU.xlsx')\n",
    "aau_research_2014.to_excel(writer,'Total Research 2014')\n",
    "# six_year.to_excel(writer,'6-year')\n",
    "# writer.save()"
   ]
  },
  {
   "cell_type": "markdown",
   "metadata": {},
   "source": [
    "**Federal Research for AAU In Year 15-14**"
   ]
  },
  {
   "cell_type": "code",
   "execution_count": 52,
   "metadata": {},
   "outputs": [],
   "source": [
    "search_string_1 = '2014\\n***\\nFederal Research \\n x $1000'"
   ]
  },
  {
   "cell_type": "code",
   "execution_count": 53,
   "metadata": {},
   "outputs": [],
   "source": [
    "FResearch_1514_20th = np.percentile(AAU_fed_research[search_string_1],[0,20])"
   ]
  },
  {
   "cell_type": "code",
   "execution_count": 54,
   "metadata": {},
   "outputs": [
    {
     "data": {
      "text/plain": [
       "98634"
      ]
     },
     "execution_count": 54,
     "metadata": {},
     "output_type": "execute_result"
    }
   ],
   "source": [
    "#Average Federal Research for AAU Univerisiies in 2014 (0th-20th)\n",
    "AAU_fed_research[(AAU_fed_research[search_string_1] >= FResearch_1514_20th[0]) & (AAU_fed_research[search_string_1] <= FResearch_1514_20th[1])][search_string_1].mean().astype(int)"
   ]
  },
  {
   "cell_type": "code",
   "execution_count": 55,
   "metadata": {},
   "outputs": [],
   "source": [
    "FResearch_1514_40th = np.percentile(AAU_fed_research[search_string_1],[21,40])"
   ]
  },
  {
   "cell_type": "code",
   "execution_count": 56,
   "metadata": {},
   "outputs": [
    {
     "data": {
      "text/plain": [
       "233178"
      ]
     },
     "execution_count": 56,
     "metadata": {},
     "output_type": "execute_result"
    }
   ],
   "source": [
    "#Average Federal Research for AAU Univerisiies in 2014 (21st-40th)\n",
    "AAU_fed_research[(AAU_fed_research[search_string_1] >= FResearch_1514_40th[0]) & (AAU_fed_research[search_string_1] <= FResearch_1514_40th[1])][search_string_1].mean().astype(int)"
   ]
  },
  {
   "cell_type": "code",
   "execution_count": 57,
   "metadata": {},
   "outputs": [],
   "source": [
    "FResearch_1514_60th = np.percentile(AAU_fed_research[search_string_1],[41,60])"
   ]
  },
  {
   "cell_type": "code",
   "execution_count": 58,
   "metadata": {},
   "outputs": [
    {
     "data": {
      "text/plain": [
       "316114"
      ]
     },
     "execution_count": 58,
     "metadata": {},
     "output_type": "execute_result"
    }
   ],
   "source": [
    "#Average Federal Research for AAU Univerisiies in 2014 (41st-60th)\n",
    "AAU_fed_research[(AAU_fed_research[search_string_1] >= FResearch_1514_60th[0]) & (AAU_fed_research[search_string_1] <= FResearch_1514_60th[1])][search_string_1].mean().astype(int)"
   ]
  },
  {
   "cell_type": "code",
   "execution_count": 59,
   "metadata": {},
   "outputs": [],
   "source": [
    "FResearch_1514_80th = np.percentile(AAU_fed_research[search_string_1],[61,80])"
   ]
  },
  {
   "cell_type": "code",
   "execution_count": 60,
   "metadata": {},
   "outputs": [
    {
     "data": {
      "text/plain": [
       "452751"
      ]
     },
     "execution_count": 60,
     "metadata": {},
     "output_type": "execute_result"
    }
   ],
   "source": [
    "#Average Federal Research for AAU Univerisiies in 2014 (61st-80th)\n",
    "AAU_fed_research[(AAU_fed_research[search_string_1] >= FResearch_1514_80th[0]) & (AAU_fed_research[search_string_1] <= FResearch_1514_80th[1])][search_string_1].mean().astype(int)"
   ]
  },
  {
   "cell_type": "code",
   "execution_count": 61,
   "metadata": {},
   "outputs": [],
   "source": [
    "FResearch_1514_100th = np.percentile(AAU_fed_research[search_string_1],[81,100])"
   ]
  },
  {
   "cell_type": "code",
   "execution_count": 62,
   "metadata": {},
   "outputs": [
    {
     "data": {
      "text/plain": [
       "745711"
      ]
     },
     "execution_count": 62,
     "metadata": {},
     "output_type": "execute_result"
    }
   ],
   "source": [
    "#Average Federal Research for AAU Univerisiies in 2014 (61st-80th)\n",
    "AAU_fed_research[(AAU_fed_research[search_string_1] >= FResearch_1514_100th[0]) & (AAU_fed_research[search_string_1] <= FResearch_1514_100th[1])][search_string_1].mean().astype(int)"
   ]
  },
  {
   "cell_type": "code",
   "execution_count": 63,
   "metadata": {},
   "outputs": [
    {
     "data": {
      "text/html": [
       "<div>\n",
       "<style scoped>\n",
       "    .dataframe tbody tr th:only-of-type {\n",
       "        vertical-align: middle;\n",
       "    }\n",
       "\n",
       "    .dataframe tbody tr th {\n",
       "        vertical-align: top;\n",
       "    }\n",
       "\n",
       "    .dataframe thead th {\n",
       "        text-align: right;\n",
       "    }\n",
       "</style>\n",
       "<table border=\"1\" class=\"dataframe\">\n",
       "  <thead>\n",
       "    <tr style=\"text-align: right;\">\n",
       "      <th></th>\n",
       "      <th>Institutions Reporting Any\n",
       "Federal Research in Past Five Years\n",
       "(in Alphabetical Order)</th>\n",
       "      <th>2014\n",
       "***\n",
       "Federal Research \n",
       " x $1000</th>\n",
       "    </tr>\n",
       "  </thead>\n",
       "  <tbody>\n",
       "    <tr>\n",
       "      <th>68</th>\n",
       "      <td>Brandeis University</td>\n",
       "      <td>45800</td>\n",
       "    </tr>\n",
       "    <tr>\n",
       "      <th>814</th>\n",
       "      <td>University of Oregon</td>\n",
       "      <td>62824</td>\n",
       "    </tr>\n",
       "    <tr>\n",
       "      <th>524</th>\n",
       "      <td>Rice University</td>\n",
       "      <td>73782</td>\n",
       "    </tr>\n",
       "    <tr>\n",
       "      <th>290</th>\n",
       "      <td>Indiana University - Bloomington</td>\n",
       "      <td>80109</td>\n",
       "    </tr>\n",
       "    <tr>\n",
       "      <th>746</th>\n",
       "      <td>University of Kansas - Lawrence</td>\n",
       "      <td>88725</td>\n",
       "    </tr>\n",
       "    <tr>\n",
       "      <th>672</th>\n",
       "      <td>Tulane University</td>\n",
       "      <td>94287</td>\n",
       "    </tr>\n",
       "    <tr>\n",
       "      <th>779</th>\n",
       "      <td>University of Missouri - Columbia</td>\n",
       "      <td>102784</td>\n",
       "    </tr>\n",
       "    <tr>\n",
       "      <th>634</th>\n",
       "      <td>Stony Brook University</td>\n",
       "      <td>111386</td>\n",
       "    </tr>\n",
       "    <tr>\n",
       "      <th>301</th>\n",
       "      <td>Iowa State University</td>\n",
       "      <td>115285</td>\n",
       "    </tr>\n",
       "    <tr>\n",
       "      <th>711</th>\n",
       "      <td>University of California - Santa Barbara</td>\n",
       "      <td>119816</td>\n",
       "    </tr>\n",
       "    <tr>\n",
       "      <th>71</th>\n",
       "      <td>Brown University</td>\n",
       "      <td>125005</td>\n",
       "    </tr>\n",
       "    <tr>\n",
       "      <th>510</th>\n",
       "      <td>Princeton University</td>\n",
       "      <td>163805</td>\n",
       "    </tr>\n",
       "    <tr>\n",
       "      <th>705</th>\n",
       "      <td>University of California - Irvine</td>\n",
       "      <td>180431</td>\n",
       "    </tr>\n",
       "    <tr>\n",
       "      <th>687</th>\n",
       "      <td>University at Buffalo</td>\n",
       "      <td>185144</td>\n",
       "    </tr>\n",
       "    <tr>\n",
       "      <th>878</th>\n",
       "      <td>University of Virginia</td>\n",
       "      <td>192907</td>\n",
       "    </tr>\n",
       "    <tr>\n",
       "      <th>101</th>\n",
       "      <td>Carnegie Mellon University</td>\n",
       "      <td>198247</td>\n",
       "    </tr>\n",
       "    <tr>\n",
       "      <th>514</th>\n",
       "      <td>Purdue University - West Lafayette</td>\n",
       "      <td>227857</td>\n",
       "    </tr>\n",
       "    <tr>\n",
       "      <th>745</th>\n",
       "      <td>University of Iowa</td>\n",
       "      <td>234122</td>\n",
       "    </tr>\n",
       "    <tr>\n",
       "      <th>381</th>\n",
       "      <td>Michigan State University</td>\n",
       "      <td>247970</td>\n",
       "    </tr>\n",
       "    <tr>\n",
       "      <th>830</th>\n",
       "      <td>University of Rochester</td>\n",
       "      <td>265686</td>\n",
       "    </tr>\n",
       "    <tr>\n",
       "      <th>718</th>\n",
       "      <td>University of Chicago</td>\n",
       "      <td>276237</td>\n",
       "    </tr>\n",
       "    <tr>\n",
       "      <th>76</th>\n",
       "      <td>California Institute of Technology</td>\n",
       "      <td>276447</td>\n",
       "    </tr>\n",
       "    <tr>\n",
       "      <th>731</th>\n",
       "      <td>University of Florida</td>\n",
       "      <td>279920</td>\n",
       "    </tr>\n",
       "    <tr>\n",
       "      <th>695</th>\n",
       "      <td>University of Arizona</td>\n",
       "      <td>286595</td>\n",
       "    </tr>\n",
       "    <tr>\n",
       "      <th>172</th>\n",
       "      <td>Cornell University</td>\n",
       "      <td>299320</td>\n",
       "    </tr>\n",
       "    <tr>\n",
       "      <th>720</th>\n",
       "      <td>University of Colorado - Boulder</td>\n",
       "      <td>302877</td>\n",
       "    </tr>\n",
       "    <tr>\n",
       "      <th>703</th>\n",
       "      <td>University of California - Berkeley</td>\n",
       "      <td>309305</td>\n",
       "    </tr>\n",
       "    <tr>\n",
       "      <th>856</th>\n",
       "      <td>University of Texas - Austin</td>\n",
       "      <td>313955</td>\n",
       "    </tr>\n",
       "    <tr>\n",
       "      <th>435</th>\n",
       "      <td>New York University</td>\n",
       "      <td>314712</td>\n",
       "    </tr>\n",
       "    <tr>\n",
       "      <th>704</th>\n",
       "      <td>University of California - Davis</td>\n",
       "      <td>327697</td>\n",
       "    </tr>\n",
       "    <tr>\n",
       "      <th>103</th>\n",
       "      <td>Case Western Reserve University</td>\n",
       "      <td>328548</td>\n",
       "    </tr>\n",
       "    <tr>\n",
       "      <th>757</th>\n",
       "      <td>University of Maryland - College Park</td>\n",
       "      <td>328828</td>\n",
       "    </tr>\n",
       "    <tr>\n",
       "      <th>220</th>\n",
       "      <td>Emory University</td>\n",
       "      <td>329254</td>\n",
       "    </tr>\n",
       "    <tr>\n",
       "      <th>744</th>\n",
       "      <td>University of Illinois - Urbana-Champaign</td>\n",
       "      <td>336172</td>\n",
       "    </tr>\n",
       "    <tr>\n",
       "      <th>457</th>\n",
       "      <td>Northwestern University</td>\n",
       "      <td>385888</td>\n",
       "    </tr>\n",
       "    <tr>\n",
       "      <th>907</th>\n",
       "      <td>Vanderbilt University</td>\n",
       "      <td>408743</td>\n",
       "    </tr>\n",
       "    <tr>\n",
       "      <th>921</th>\n",
       "      <td>Washington University in St. Louis</td>\n",
       "      <td>410115</td>\n",
       "    </tr>\n",
       "    <tr>\n",
       "      <th>466</th>\n",
       "      <td>Ohio State University - Columbus</td>\n",
       "      <td>416177</td>\n",
       "    </tr>\n",
       "    <tr>\n",
       "      <th>844</th>\n",
       "      <td>University of Southern California</td>\n",
       "      <td>421887</td>\n",
       "    </tr>\n",
       "    <tr>\n",
       "      <th>706</th>\n",
       "      <td>University of California - Los Angeles</td>\n",
       "      <td>458157</td>\n",
       "    </tr>\n",
       "    <tr>\n",
       "      <th>492</th>\n",
       "      <td>Pennsylvania State University - University Park</td>\n",
       "      <td>461896</td>\n",
       "    </tr>\n",
       "    <tr>\n",
       "      <th>966</th>\n",
       "      <td>Yale University</td>\n",
       "      <td>475585</td>\n",
       "    </tr>\n",
       "    <tr>\n",
       "      <th>367</th>\n",
       "      <td>Massachusetts Institute of Technology</td>\n",
       "      <td>480991</td>\n",
       "    </tr>\n",
       "    <tr>\n",
       "      <th>776</th>\n",
       "      <td>University of Minnesota - Twin Cities</td>\n",
       "      <td>483542</td>\n",
       "    </tr>\n",
       "    <tr>\n",
       "      <th>253</th>\n",
       "      <td>Georgia Institute of Technology</td>\n",
       "      <td>510422</td>\n",
       "    </tr>\n",
       "    <tr>\n",
       "      <th>889</th>\n",
       "      <td>University of Wisconsin - Madison</td>\n",
       "      <td>522251</td>\n",
       "    </tr>\n",
       "    <tr>\n",
       "      <th>271</th>\n",
       "      <td>Harvard University</td>\n",
       "      <td>554944</td>\n",
       "    </tr>\n",
       "    <tr>\n",
       "      <th>196</th>\n",
       "      <td>Duke University</td>\n",
       "      <td>556847</td>\n",
       "    </tr>\n",
       "    <tr>\n",
       "      <th>817</th>\n",
       "      <td>University of Pittsburgh - Pittsburgh</td>\n",
       "      <td>565409</td>\n",
       "    </tr>\n",
       "    <tr>\n",
       "      <th>163</th>\n",
       "      <td>Columbia University</td>\n",
       "      <td>591523</td>\n",
       "    </tr>\n",
       "    <tr>\n",
       "      <th>709</th>\n",
       "      <td>University of California - San Diego</td>\n",
       "      <td>597270</td>\n",
       "    </tr>\n",
       "    <tr>\n",
       "      <th>797</th>\n",
       "      <td>University of North Carolina - Chapel Hill</td>\n",
       "      <td>601933</td>\n",
       "    </tr>\n",
       "    <tr>\n",
       "      <th>815</th>\n",
       "      <td>University of Pennsylvania</td>\n",
       "      <td>606115</td>\n",
       "    </tr>\n",
       "    <tr>\n",
       "      <th>608</th>\n",
       "      <td>Stanford University</td>\n",
       "      <td>608342</td>\n",
       "    </tr>\n",
       "    <tr>\n",
       "      <th>769</th>\n",
       "      <td>University of Michigan - Ann Arbor</td>\n",
       "      <td>733779</td>\n",
       "    </tr>\n",
       "    <tr>\n",
       "      <th>881</th>\n",
       "      <td>University of Washington - Seattle</td>\n",
       "      <td>849713</td>\n",
       "    </tr>\n",
       "    <tr>\n",
       "      <th>309</th>\n",
       "      <td>Johns Hopkins University</td>\n",
       "      <td>1936953</td>\n",
       "    </tr>\n",
       "  </tbody>\n",
       "</table>\n",
       "</div>"
      ],
      "text/plain": [
       "0   Institutions Reporting Any\\nFederal Research in Past Five Years\\n(in Alphabetical Order)  \\\n",
       "68                                 Brandeis University                                         \n",
       "814                               University of Oregon                                         \n",
       "524                                    Rice University                                         \n",
       "290                   Indiana University - Bloomington                                         \n",
       "746                    University of Kansas - Lawrence                                         \n",
       "672                                  Tulane University                                         \n",
       "779                  University of Missouri - Columbia                                         \n",
       "634                             Stony Brook University                                         \n",
       "301                              Iowa State University                                         \n",
       "711           University of California - Santa Barbara                                         \n",
       "71                                    Brown University                                         \n",
       "510                               Princeton University                                         \n",
       "705                  University of California - Irvine                                         \n",
       "687                              University at Buffalo                                         \n",
       "878                             University of Virginia                                         \n",
       "101                         Carnegie Mellon University                                         \n",
       "514                 Purdue University - West Lafayette                                         \n",
       "745                                 University of Iowa                                         \n",
       "381                          Michigan State University                                         \n",
       "830                            University of Rochester                                         \n",
       "718                              University of Chicago                                         \n",
       "76                  California Institute of Technology                                         \n",
       "731                              University of Florida                                         \n",
       "695                              University of Arizona                                         \n",
       "172                                 Cornell University                                         \n",
       "720                   University of Colorado - Boulder                                         \n",
       "703                University of California - Berkeley                                         \n",
       "856                       University of Texas - Austin                                         \n",
       "435                                New York University                                         \n",
       "704                   University of California - Davis                                         \n",
       "103                    Case Western Reserve University                                         \n",
       "757              University of Maryland - College Park                                         \n",
       "220                                   Emory University                                         \n",
       "744          University of Illinois - Urbana-Champaign                                         \n",
       "457                            Northwestern University                                         \n",
       "907                              Vanderbilt University                                         \n",
       "921                 Washington University in St. Louis                                         \n",
       "466                   Ohio State University - Columbus                                         \n",
       "844                  University of Southern California                                         \n",
       "706             University of California - Los Angeles                                         \n",
       "492    Pennsylvania State University - University Park                                         \n",
       "966                                    Yale University                                         \n",
       "367              Massachusetts Institute of Technology                                         \n",
       "776              University of Minnesota - Twin Cities                                         \n",
       "253                    Georgia Institute of Technology                                         \n",
       "889                  University of Wisconsin - Madison                                         \n",
       "271                                 Harvard University                                         \n",
       "196                                    Duke University                                         \n",
       "817              University of Pittsburgh - Pittsburgh                                         \n",
       "163                                Columbia University                                         \n",
       "709               University of California - San Diego                                         \n",
       "797         University of North Carolina - Chapel Hill                                         \n",
       "815                         University of Pennsylvania                                         \n",
       "608                                Stanford University                                         \n",
       "769                 University of Michigan - Ann Arbor                                         \n",
       "881                 University of Washington - Seattle                                         \n",
       "309                           Johns Hopkins University                                         \n",
       "\n",
       "0   2014\\n***\\nFederal Research \\n x $1000  \n",
       "68                                   45800  \n",
       "814                                  62824  \n",
       "524                                  73782  \n",
       "290                                  80109  \n",
       "746                                  88725  \n",
       "672                                  94287  \n",
       "779                                 102784  \n",
       "634                                 111386  \n",
       "301                                 115285  \n",
       "711                                 119816  \n",
       "71                                  125005  \n",
       "510                                 163805  \n",
       "705                                 180431  \n",
       "687                                 185144  \n",
       "878                                 192907  \n",
       "101                                 198247  \n",
       "514                                 227857  \n",
       "745                                 234122  \n",
       "381                                 247970  \n",
       "830                                 265686  \n",
       "718                                 276237  \n",
       "76                                  276447  \n",
       "731                                 279920  \n",
       "695                                 286595  \n",
       "172                                 299320  \n",
       "720                                 302877  \n",
       "703                                 309305  \n",
       "856                                 313955  \n",
       "435                                 314712  \n",
       "704                                 327697  \n",
       "103                                 328548  \n",
       "757                                 328828  \n",
       "220                                 329254  \n",
       "744                                 336172  \n",
       "457                                 385888  \n",
       "907                                 408743  \n",
       "921                                 410115  \n",
       "466                                 416177  \n",
       "844                                 421887  \n",
       "706                                 458157  \n",
       "492                                 461896  \n",
       "966                                 475585  \n",
       "367                                 480991  \n",
       "776                                 483542  \n",
       "253                                 510422  \n",
       "889                                 522251  \n",
       "271                                 554944  \n",
       "196                                 556847  \n",
       "817                                 565409  \n",
       "163                                 591523  \n",
       "709                                 597270  \n",
       "797                                 601933  \n",
       "815                                 606115  \n",
       "608                                 608342  \n",
       "769                                 733779  \n",
       "881                                 849713  \n",
       "309                                1936953  "
      ]
     },
     "execution_count": 63,
     "metadata": {},
     "output_type": "execute_result"
    }
   ],
   "source": [
    "#Average Federal Research for AAU Univerisiies in 2014 (21st-40th)\n",
    "AAU_fed_research[[col_name,search_string_1]].sort_values(by=search_string_1)"
   ]
  },
  {
   "cell_type": "code",
   "execution_count": 64,
   "metadata": {},
   "outputs": [],
   "source": [
    "aau_federal_2014 = AAU_fed_research[[col_name,search_string_1]].sort_values(by=search_string_1)\n",
    "aau_federal_2014.columns = ['Institution','Federal Research']"
   ]
  },
  {
   "cell_type": "code",
   "execution_count": 65,
   "metadata": {},
   "outputs": [],
   "source": [
    "aau_research_2014.to_excel(writer,'Federal Research 2014')"
   ]
  },
  {
   "cell_type": "markdown",
   "metadata": {},
   "source": [
    "**Endowmen Assets for AAU In Year 15-14**"
   ]
  },
  {
   "cell_type": "code",
   "execution_count": 66,
   "metadata": {},
   "outputs": [],
   "source": [
    "searh_string_2 = '2015\\n***\\nEndowment Assets \\n x $1000'"
   ]
  },
  {
   "cell_type": "code",
   "execution_count": 67,
   "metadata": {},
   "outputs": [],
   "source": [
    "Assets_1514_20th = np.percentile(AAU_endow_assets[searh_string_2],[0,20])"
   ]
  },
  {
   "cell_type": "code",
   "execution_count": 68,
   "metadata": {},
   "outputs": [
    {
     "data": {
      "text/plain": [
       "643640"
      ]
     },
     "execution_count": 68,
     "metadata": {},
     "output_type": "execute_result"
    }
   ],
   "source": [
    "#Average Endowment Assets for AAU Univerisiies in 2015 (0tt-20th)\n",
    "AAU_endow_assets[(AAU_endow_assets[searh_string_2] >= Assets_1514_20th[0]) & (AAU_endow_assets[searh_string_2] <= Assets_1514_20th[1])][searh_string_2].mean().astype(int)"
   ]
  },
  {
   "cell_type": "code",
   "execution_count": 69,
   "metadata": {},
   "outputs": [],
   "source": [
    "Assets_1514_40th = np.percentile(AAU_endow_assets[searh_string_2],[21,40])"
   ]
  },
  {
   "cell_type": "code",
   "execution_count": 70,
   "metadata": {
    "scrolled": true
   },
   "outputs": [
    {
     "data": {
      "text/plain": [
       "1449401"
      ]
     },
     "execution_count": 70,
     "metadata": {},
     "output_type": "execute_result"
    }
   ],
   "source": [
    "#Average Endowment Assets for AAU Univerisiies in 2015 (21st-40th)\n",
    "AAU_endow_assets[(AAU_endow_assets[searh_string_2] >= Assets_1514_40th[0]) & (AAU_endow_assets[searh_string_2] <= Assets_1514_40th[1])][searh_string_2].mean().astype(int)"
   ]
  },
  {
   "cell_type": "code",
   "execution_count": 71,
   "metadata": {},
   "outputs": [],
   "source": [
    "Assets_1514_60th = np.percentile(AAU_endow_assets[searh_string_2],[41,60])"
   ]
  },
  {
   "cell_type": "code",
   "execution_count": 72,
   "metadata": {},
   "outputs": [
    {
     "data": {
      "text/plain": [
       "2859602"
      ]
     },
     "execution_count": 72,
     "metadata": {},
     "output_type": "execute_result"
    }
   ],
   "source": [
    "#Average Endowment Assets for AAU Univerisiies in 2015 (41st-60th)\n",
    "AAU_endow_assets[(AAU_endow_assets[searh_string_2] >= Assets_1514_60th[0]) & (AAU_endow_assets[searh_string_2] <= Assets_1514_60th[1])][searh_string_2].mean().astype(int)"
   ]
  },
  {
   "cell_type": "code",
   "execution_count": 73,
   "metadata": {},
   "outputs": [],
   "source": [
    "Assets_1514_80th = np.percentile(AAU_endow_assets[searh_string_2],[61,80])"
   ]
  },
  {
   "cell_type": "code",
   "execution_count": 74,
   "metadata": {},
   "outputs": [
    {
     "data": {
      "text/plain": [
       "5011277"
      ]
     },
     "execution_count": 74,
     "metadata": {},
     "output_type": "execute_result"
    }
   ],
   "source": [
    "#Average Endowment Assets for AAU Univerisiies in 2015 (61st-80th)\n",
    "AAU_endow_assets[(AAU_endow_assets[searh_string_2] >= Assets_1514_80th[0]) & (AAU_endow_assets[searh_string_2] <= Assets_1514_80th[1])][searh_string_2].mean().astype(int)"
   ]
  },
  {
   "cell_type": "code",
   "execution_count": 75,
   "metadata": {},
   "outputs": [],
   "source": [
    "Assets_1514_100th = np.percentile(AAU_endow_assets[searh_string_2],[61,80])"
   ]
  },
  {
   "cell_type": "code",
   "execution_count": 76,
   "metadata": {},
   "outputs": [
    {
     "data": {
      "text/plain": [
       "5011277"
      ]
     },
     "execution_count": 76,
     "metadata": {},
     "output_type": "execute_result"
    }
   ],
   "source": [
    "#Average Endowment Assets for AAU Univerisiies in 2015 (81st-100th)\n",
    "AAU_endow_assets[(AAU_endow_assets[searh_string_2] >= Assets_1514_100th[0]) & (AAU_endow_assets[searh_string_2] <= Assets_1514_100th[1])][searh_string_2].mean().astype(int)"
   ]
  },
  {
   "cell_type": "code",
   "execution_count": 77,
   "metadata": {},
   "outputs": [],
   "source": [
    "aau_assets_2015 = AAU_endow_assets[[col_name,searh_string_2]].sort_values(by=searh_string_2)\n",
    "aau_assets_2015.columns = ['Institution','Endowment Assets']"
   ]
  },
  {
   "cell_type": "code",
   "execution_count": 78,
   "metadata": {},
   "outputs": [],
   "source": [
    "aau_assets_2015.to_excel(writer,'Endowment 2015')"
   ]
  },
  {
   "cell_type": "markdown",
   "metadata": {},
   "source": [
    "**Annual Giving for AAU In Year 15-14**"
   ]
  },
  {
   "cell_type": "code",
   "execution_count": 79,
   "metadata": {},
   "outputs": [],
   "source": [
    "search_string_3 = '2015\\n***\\nAnnual Giving \\n x $1000'"
   ]
  },
  {
   "cell_type": "code",
   "execution_count": 80,
   "metadata": {},
   "outputs": [],
   "source": [
    "giving_2015_20th = np.percentile(AAU_annual_giving[search_string_3],[0,20])"
   ]
  },
  {
   "cell_type": "code",
   "execution_count": 81,
   "metadata": {},
   "outputs": [
    {
     "data": {
      "text/plain": [
       "90127"
      ]
     },
     "execution_count": 81,
     "metadata": {},
     "output_type": "execute_result"
    }
   ],
   "source": [
    "#Average Annual Giving for AAU Univerisiies in 2015 (0th-20th)\n",
    "AAU_annual_giving[(AAU_annual_giving[search_string_3] >= giving_2015_20th[0]) &\n",
    "                 (AAU_annual_giving[search_string_3] <= giving_2015_20th[1])][search_string_3].mean().astype(int)"
   ]
  },
  {
   "cell_type": "code",
   "execution_count": 82,
   "metadata": {},
   "outputs": [],
   "source": [
    "giving_2015_40th = np.percentile(AAU_annual_giving[search_string_3],[21,40])"
   ]
  },
  {
   "cell_type": "code",
   "execution_count": 83,
   "metadata": {},
   "outputs": [
    {
     "data": {
      "text/plain": [
       "145093"
      ]
     },
     "execution_count": 83,
     "metadata": {},
     "output_type": "execute_result"
    }
   ],
   "source": [
    "#Average Annual Giving for AAU Univerisiies in 2015 (21st-40th)\n",
    "AAU_annual_giving[(AAU_annual_giving[search_string_3] >= giving_2015_40th[0]) &\n",
    "                  (AAU_annual_giving[search_string_3] <= giving_2015_40th[1])][search_string_3].mean().astype(int)"
   ]
  },
  {
   "cell_type": "code",
   "execution_count": 84,
   "metadata": {},
   "outputs": [],
   "source": [
    "giving_2015_60th = np.percentile(AAU_annual_giving[search_string_3],[41,60])"
   ]
  },
  {
   "cell_type": "code",
   "execution_count": 85,
   "metadata": {},
   "outputs": [
    {
     "data": {
      "text/plain": [
       "202268"
      ]
     },
     "execution_count": 85,
     "metadata": {},
     "output_type": "execute_result"
    }
   ],
   "source": [
    "#Average Annual Giving for AAU Univerisiies in 2015 (41st-60th)\n",
    "AAU_annual_giving[(AAU_annual_giving[search_string_3] >= giving_2015_60th[0]) &\n",
    "                  (AAU_annual_giving[search_string_3] <= giving_2015_60th[1])][search_string_3].mean().astype(int)"
   ]
  },
  {
   "cell_type": "code",
   "execution_count": 86,
   "metadata": {},
   "outputs": [],
   "source": [
    "giving_2015_80th = np.percentile(AAU_annual_giving[search_string_3],[61,80])"
   ]
  },
  {
   "cell_type": "code",
   "execution_count": 87,
   "metadata": {},
   "outputs": [
    {
     "data": {
      "text/plain": [
       "385953"
      ]
     },
     "execution_count": 87,
     "metadata": {},
     "output_type": "execute_result"
    }
   ],
   "source": [
    "#Average Annual Giving for AAU Univerisiies in 2015 (61st-80th)\n",
    "AAU_annual_giving[(AAU_annual_giving[search_string_3] >= giving_2015_80th[0]) &\n",
    "                  (AAU_annual_giving[search_string_3] <= giving_2015_80th[1])][search_string_3].mean().astype(int)"
   ]
  },
  {
   "cell_type": "code",
   "execution_count": 88,
   "metadata": {},
   "outputs": [],
   "source": [
    "giving_2015_100th = np.percentile(AAU_annual_giving[search_string_3],[81,100])"
   ]
  },
  {
   "cell_type": "code",
   "execution_count": 89,
   "metadata": {},
   "outputs": [
    {
     "data": {
      "text/plain": [
       "677763"
      ]
     },
     "execution_count": 89,
     "metadata": {},
     "output_type": "execute_result"
    }
   ],
   "source": [
    "#Average Annual Giving for AAU Univerisiies in 2015 (81st-100th)\n",
    "AAU_annual_giving[(AAU_annual_giving[search_string_3] >= giving_2015_100th[0]) &\n",
    "                  (AAU_annual_giving[search_string_3] <= giving_2015_100th[1])][search_string_3].mean().astype(int)"
   ]
  },
  {
   "cell_type": "code",
   "execution_count": 90,
   "metadata": {},
   "outputs": [],
   "source": [
    "aau_giving_2015 = AAU_annual_giving[[col_name,search_string_3]].sort_values(by=search_string_3)\n",
    "aau_giving_2015.columns = ['Institution', 'Annual Giving']"
   ]
  },
  {
   "cell_type": "code",
   "execution_count": 91,
   "metadata": {},
   "outputs": [],
   "source": [
    "aau_giving_2015.to_excel(writer,'Annual Giving 2015')"
   ]
  },
  {
   "cell_type": "markdown",
   "metadata": {},
   "source": [
    "**National Academy Members for AAU In Year 15-14**"
   ]
  },
  {
   "cell_type": "code",
   "execution_count": 92,
   "metadata": {},
   "outputs": [],
   "source": [
    "search_string_4 = '2015\\n***\\nAcademy Members'"
   ]
  },
  {
   "cell_type": "code",
   "execution_count": 93,
   "metadata": {},
   "outputs": [],
   "source": [
    "member_2015_20th = np.percentile(AAU_nat_member[search_string_4],[0,20])"
   ]
  },
  {
   "cell_type": "code",
   "execution_count": 94,
   "metadata": {},
   "outputs": [
    {
     "data": {
      "text/plain": [
       "11"
      ]
     },
     "execution_count": 94,
     "metadata": {},
     "output_type": "execute_result"
    }
   ],
   "source": [
    "#Average National Academy Members for AAU Univerisiies in 2015 (0th-20th)\n",
    "AAU_nat_member[(AAU_nat_member[search_string_4] >= member_2015_20th[0]) &\n",
    "               (AAU_nat_member[search_string_4] <= member_2015_20th[1])][search_string_4].mean().astype(int)"
   ]
  },
  {
   "cell_type": "code",
   "execution_count": 95,
   "metadata": {},
   "outputs": [],
   "source": [
    "member_2015_40th = np.percentile(AAU_nat_member[search_string_4],[21,40])"
   ]
  },
  {
   "cell_type": "code",
   "execution_count": 96,
   "metadata": {},
   "outputs": [
    {
     "data": {
      "text/plain": [
       "26"
      ]
     },
     "execution_count": 96,
     "metadata": {},
     "output_type": "execute_result"
    }
   ],
   "source": [
    "#Average National Academy Members for AAU Univerisiies in 2015 (21st-40th)\n",
    "AAU_nat_member[(AAU_nat_member[search_string_4] >= member_2015_40th[0]) &\n",
    "               (AAU_nat_member[search_string_4] <= member_2015_40th[1])][search_string_4].mean().astype(int)"
   ]
  },
  {
   "cell_type": "code",
   "execution_count": 97,
   "metadata": {},
   "outputs": [],
   "source": [
    "member_2015_60th = np.percentile(AAU_nat_member[search_string_4],[41,60])"
   ]
  },
  {
   "cell_type": "code",
   "execution_count": 98,
   "metadata": {},
   "outputs": [
    {
     "data": {
      "text/plain": [
       "36"
      ]
     },
     "execution_count": 98,
     "metadata": {},
     "output_type": "execute_result"
    }
   ],
   "source": [
    "#Average National Academy Members for AAU Univerisiies in 2015 (41st-60th)\n",
    "AAU_nat_member[(AAU_nat_member[search_string_4] >= member_2015_60th[0]) &\n",
    "               (AAU_nat_member[search_string_4] <= member_2015_60th[1])][search_string_4].mean().astype(int)"
   ]
  },
  {
   "cell_type": "code",
   "execution_count": 99,
   "metadata": {},
   "outputs": [],
   "source": [
    "member_2015_80th = np.percentile(AAU_nat_member[search_string_4],[61,80])"
   ]
  },
  {
   "cell_type": "code",
   "execution_count": 100,
   "metadata": {},
   "outputs": [
    {
     "data": {
      "text/plain": [
       "71"
      ]
     },
     "execution_count": 100,
     "metadata": {},
     "output_type": "execute_result"
    }
   ],
   "source": [
    "#Average National Academy Members for AAU Univerisiies in 2015 (61st-80th)\n",
    "AAU_nat_member[(AAU_nat_member[search_string_4] >= member_2015_80th[0]) &\n",
    "               (AAU_nat_member[search_string_4] <= member_2015_80th[1])][search_string_4].mean().astype(int)"
   ]
  },
  {
   "cell_type": "code",
   "execution_count": 101,
   "metadata": {},
   "outputs": [],
   "source": [
    "member_2015_100th = np.percentile(AAU_nat_member[search_string_4],[81,100])"
   ]
  },
  {
   "cell_type": "code",
   "execution_count": 102,
   "metadata": {},
   "outputs": [
    {
     "data": {
      "text/plain": [
       "183"
      ]
     },
     "execution_count": 102,
     "metadata": {},
     "output_type": "execute_result"
    }
   ],
   "source": [
    "#Average National Academy Members for AAU Univerisiies in 2015 (61st-80th)\n",
    "AAU_nat_member[(AAU_nat_member[search_string_4] >= member_2015_100th[0]) &\n",
    "               (AAU_nat_member[search_string_4] <= member_2015_100th[1])][search_string_4].mean().astype(int)"
   ]
  },
  {
   "cell_type": "code",
   "execution_count": 103,
   "metadata": {},
   "outputs": [],
   "source": [
    "aau_member_2015 = AAU_nat_member[[col_name,search_string_4]].sort_values(by=search_string_4)\n",
    "aau_member_2015.columns = ['Institution', 'National Academy Members']\n",
    "aau_member_2015.to_excel(writer,'National Academy Members 2015')"
   ]
  },
  {
   "cell_type": "markdown",
   "metadata": {},
   "source": [
    "**Faculty Awards 2015 (AAU)**"
   ]
  },
  {
   "cell_type": "code",
   "execution_count": 104,
   "metadata": {},
   "outputs": [],
   "source": [
    "search_string_5 = '2015\\n***\\nFaculty Awards'"
   ]
  },
  {
   "cell_type": "code",
   "execution_count": 105,
   "metadata": {},
   "outputs": [],
   "source": [
    "fac_2015_20th = np.percentile(AAU_fac_award[search_string_5],[0,20])"
   ]
  },
  {
   "cell_type": "code",
   "execution_count": 106,
   "metadata": {},
   "outputs": [
    {
     "data": {
      "text/plain": [
       "8"
      ]
     },
     "execution_count": 106,
     "metadata": {},
     "output_type": "execute_result"
    }
   ],
   "source": [
    "#Average Faculty Awards for AAU Univerisiies in 2015 0-20\n",
    "AAU_fac_award[(AAU_fac_award[search_string_5] >= fac_2015_20th[0]) &\n",
    "               (AAU_fac_award[search_string_5] <= fac_2015_20th[1])][search_string_5].sort_values().mean().astype(int)"
   ]
  },
  {
   "cell_type": "code",
   "execution_count": 107,
   "metadata": {},
   "outputs": [],
   "source": [
    "fac_2015_40th = np.percentile(AAU_fac_award[search_string_5],[21,40])"
   ]
  },
  {
   "cell_type": "code",
   "execution_count": 108,
   "metadata": {},
   "outputs": [
    {
     "data": {
      "text/plain": [
       "13"
      ]
     },
     "execution_count": 108,
     "metadata": {},
     "output_type": "execute_result"
    }
   ],
   "source": [
    "#Average Faculty Awards for AAU Univerisiies in 2015 21-40\n",
    "AAU_fac_award[(AAU_fac_award[search_string_5] >= fac_2015_40th[0]) &\n",
    "              (AAU_fac_award[search_string_5] <= fac_2015_40th[1])][search_string_5].sort_values().mean().astype(int)"
   ]
  },
  {
   "cell_type": "code",
   "execution_count": 109,
   "metadata": {},
   "outputs": [],
   "source": [
    "fac_2015_60th = np.percentile(AAU_fac_award[search_string_5],[41,60])"
   ]
  },
  {
   "cell_type": "code",
   "execution_count": 110,
   "metadata": {},
   "outputs": [
    {
     "data": {
      "text/plain": [
       "19"
      ]
     },
     "execution_count": 110,
     "metadata": {},
     "output_type": "execute_result"
    }
   ],
   "source": [
    "#Average Faculty Awards for AAU Univerisiies in 2015 41-60\n",
    "AAU_fac_award[(AAU_fac_award[search_string_5] >= fac_2015_60th[0]) &\n",
    "              (AAU_fac_award[search_string_5] <= fac_2015_60th[1])][search_string_5].sort_values().mean().astype(int)"
   ]
  },
  {
   "cell_type": "code",
   "execution_count": 111,
   "metadata": {},
   "outputs": [],
   "source": [
    "fac_2015_80th = np.percentile(AAU_fac_award[search_string_5],[61,80])"
   ]
  },
  {
   "cell_type": "code",
   "execution_count": 112,
   "metadata": {},
   "outputs": [
    {
     "data": {
      "text/plain": [
       "29"
      ]
     },
     "execution_count": 112,
     "metadata": {},
     "output_type": "execute_result"
    }
   ],
   "source": [
    "#Average Faculty Awards for AAU Univerisiies in 2015 61-80\n",
    "AAU_fac_award[(AAU_fac_award[search_string_5] >= fac_2015_80th[0]) &\n",
    "              (AAU_fac_award[search_string_5] <= fac_2015_80th[1])][search_string_5].sort_values().mean().astype(int)"
   ]
  },
  {
   "cell_type": "code",
   "execution_count": 113,
   "metadata": {},
   "outputs": [],
   "source": [
    "fac_2015_100th = np.percentile(AAU_fac_award[search_string_5],[81,100])"
   ]
  },
  {
   "cell_type": "code",
   "execution_count": 114,
   "metadata": {},
   "outputs": [
    {
     "data": {
      "text/plain": [
       "38"
      ]
     },
     "execution_count": 114,
     "metadata": {},
     "output_type": "execute_result"
    }
   ],
   "source": [
    "#Average Faculty Awards for AAU Univerisiies in 2015 81-100\n",
    "AAU_fac_award[(AAU_fac_award[search_string_5] >= fac_2015_100th[0]) &\n",
    "              (AAU_fac_award[search_string_5] <= fac_2015_100th[1])][search_string_5].sort_values().mean().astype(int)"
   ]
  },
  {
   "cell_type": "code",
   "execution_count": 115,
   "metadata": {},
   "outputs": [],
   "source": [
    "aau_award_2015 = AAU_fac_award[[col_name,search_string_5]].sort_values(by=search_string_5)\n",
    "aau_award_2015.columns = ['Institution', 'Faculty Awards']\n",
    "aau_award_2015.to_excel(writer,'Faculty Awards 2015')"
   ]
  },
  {
   "cell_type": "markdown",
   "metadata": {},
   "source": [
    "**Doctorates Granted 2015**"
   ]
  },
  {
   "cell_type": "code",
   "execution_count": 116,
   "metadata": {},
   "outputs": [],
   "source": [
    "search_string_6 = '2015\\n***\\nDoctorates'"
   ]
  },
  {
   "cell_type": "code",
   "execution_count": 117,
   "metadata": {},
   "outputs": [],
   "source": [
    "dr_2015_20th = np.percentile(AAU_doc_award[search_string_6],[0,20])"
   ]
  },
  {
   "cell_type": "code",
   "execution_count": 118,
   "metadata": {},
   "outputs": [
    {
     "data": {
      "text/plain": [
       "223"
      ]
     },
     "execution_count": 118,
     "metadata": {},
     "output_type": "execute_result"
    }
   ],
   "source": [
    "#Average PhD Awards for AAU Univerisiies in 2015 0-20\n",
    "AAU_doc_award[(AAU_doc_award[search_string_6] >= dr_2015_20th[0]) &\n",
    "              (AAU_doc_award[search_string_6] <= dr_2015_20th[1])][search_string_6].sort_values().mean().astype(int)"
   ]
  },
  {
   "cell_type": "code",
   "execution_count": 119,
   "metadata": {},
   "outputs": [],
   "source": [
    "dr_2015_40th = np.percentile(AAU_doc_award[search_string_6],[21,40])"
   ]
  },
  {
   "cell_type": "code",
   "execution_count": 120,
   "metadata": {},
   "outputs": [
    {
     "data": {
      "text/plain": [
       "374"
      ]
     },
     "execution_count": 120,
     "metadata": {},
     "output_type": "execute_result"
    }
   ],
   "source": [
    "#Average PhD Awards for AAU Univerisiies in 2015 21-40\n",
    "AAU_doc_award[(AAU_doc_award[search_string_6] >= dr_2015_40th[0]) &\n",
    "              (AAU_doc_award[search_string_6] <= dr_2015_40th[1])][search_string_6].sort_values().mean().astype(int)"
   ]
  },
  {
   "cell_type": "code",
   "execution_count": 121,
   "metadata": {},
   "outputs": [],
   "source": [
    "dr_2015_60th = np.percentile(AAU_doc_award[search_string_6],[41,60])"
   ]
  },
  {
   "cell_type": "code",
   "execution_count": 122,
   "metadata": {},
   "outputs": [
    {
     "data": {
      "text/plain": [
       "374"
      ]
     },
     "execution_count": 122,
     "metadata": {},
     "output_type": "execute_result"
    }
   ],
   "source": [
    "#Average PhD Awards for AAU Univerisiies in 2015 41-60\n",
    "AAU_doc_award[(AAU_doc_award[search_string_6] >= dr_2015_40th[0]) &\n",
    "              (AAU_doc_award[search_string_6] <= dr_2015_40th[1])][search_string_6].sort_values().mean().astype(int)"
   ]
  },
  {
   "cell_type": "code",
   "execution_count": 123,
   "metadata": {},
   "outputs": [],
   "source": [
    "dr_2015_80th = np.percentile(AAU_doc_award[search_string_6],[61,80])"
   ]
  },
  {
   "cell_type": "code",
   "execution_count": 124,
   "metadata": {},
   "outputs": [
    {
     "data": {
      "text/plain": [
       "610"
      ]
     },
     "execution_count": 124,
     "metadata": {},
     "output_type": "execute_result"
    }
   ],
   "source": [
    "#Average PhD Awards for AAU Univerisiies in 2015 61-80\n",
    "AAU_doc_award[(AAU_doc_award[search_string_6] >= dr_2015_80th[0]) &\n",
    "              (AAU_doc_award[search_string_6] <= dr_2015_80th[1])][search_string_6].sort_values().mean().astype(int)"
   ]
  },
  {
   "cell_type": "code",
   "execution_count": 125,
   "metadata": {},
   "outputs": [],
   "source": [
    "dr_2015_100th = np.percentile(AAU_doc_award[search_string_6],[81,100])"
   ]
  },
  {
   "cell_type": "code",
   "execution_count": 126,
   "metadata": {},
   "outputs": [
    {
     "data": {
      "text/plain": [
       "803"
      ]
     },
     "execution_count": 126,
     "metadata": {},
     "output_type": "execute_result"
    }
   ],
   "source": [
    "#Average PhD Awards for AAU Univerisiies in 2015 81-100\n",
    "AAU_doc_award[(AAU_doc_award[search_string_6] >= dr_2015_100th[0]) &\n",
    "              (AAU_doc_award[search_string_6] <= dr_2015_100th[1])][search_string_6].sort_values().mean().astype(int)"
   ]
  },
  {
   "cell_type": "code",
   "execution_count": 127,
   "metadata": {},
   "outputs": [],
   "source": [
    "aau_dr_2015 = AAU_doc_award[[col_name,search_string_6]].sort_values(by=search_string_6)\n",
    "aau_dr_2015.columns = ['Institution', 'Doctorates Awards']\n",
    "aau_dr_2015.to_excel(writer,'Doctorates Awards 2015')"
   ]
  },
  {
   "attachments": {},
   "cell_type": "markdown",
   "metadata": {},
   "source": [
    "**Postdoctoral Appointees 2014**"
   ]
  },
  {
   "cell_type": "code",
   "execution_count": 128,
   "metadata": {},
   "outputs": [],
   "source": [
    "search_string_7 = '2014\\n***\\nPostdocs'"
   ]
  },
  {
   "cell_type": "code",
   "execution_count": 129,
   "metadata": {},
   "outputs": [],
   "source": [
    "postdr_2014_20th = np.percentile(AAU_postdoc[search_string_7],[0,20])"
   ]
  },
  {
   "cell_type": "code",
   "execution_count": 130,
   "metadata": {},
   "outputs": [
    {
     "data": {
      "text/plain": [
       "172"
      ]
     },
     "execution_count": 130,
     "metadata": {},
     "output_type": "execute_result"
    }
   ],
   "source": [
    "#Average Postdoc Appointees for AAU Univerisiies in 2008 0-20\n",
    "AAU_postdoc[(AAU_postdoc[search_string_7] >= postdr_2014_20th[0]) &\n",
    "            (AAU_postdoc[search_string_7] <= postdr_2014_20th[1])][search_string_7].sort_values().mean().astype(int)"
   ]
  },
  {
   "cell_type": "code",
   "execution_count": 131,
   "metadata": {},
   "outputs": [],
   "source": [
    "postdr_2014_40th = np.percentile(AAU_postdoc[search_string_7],[21,40])"
   ]
  },
  {
   "cell_type": "code",
   "execution_count": null,
   "metadata": {},
   "outputs": [],
   "source": [
    "#Average Postdoc Appointees for AAU Univerisiies in 2008 21-40\n",
    "AAU_postdoc[(AAU_postdoc[search_string_7] >= postdr_2014_40th[0]) &\n",
    "            (AAU_postdoc[search_string_7] <= postdr_2014_40th[1])][search_string_7].sort_values().mean().astype(int)"
   ]
  },
  {
   "cell_type": "code",
   "execution_count": null,
   "metadata": {},
   "outputs": [],
   "source": [
    "postdr_2014_60th = np.percentile(AAU_postdoc[search_string_7],[41,60])"
   ]
  },
  {
   "cell_type": "code",
   "execution_count": null,
   "metadata": {},
   "outputs": [],
   "source": [
    "#Average Postdoc Appointees for AAU Univerisiies in 2008 41-60\n",
    "AAU_postdoc[(AAU_postdoc[search_string_7] >= postdr_2014_60th[0]) &\n",
    "            (AAU_postdoc[search_string_7] <= postdr_2014_60th[1])][search_string_7].sort_values().mean().astype(int)"
   ]
  },
  {
   "cell_type": "code",
   "execution_count": null,
   "metadata": {},
   "outputs": [],
   "source": [
    "postdr_2014_80th = np.percentile(AAU_postdoc[search_string_7],[61,80])"
   ]
  },
  {
   "cell_type": "code",
   "execution_count": null,
   "metadata": {},
   "outputs": [],
   "source": [
    "#Average Postdoc Appointees for AAU Univerisiies in 2008 61-80\n",
    "AAU_postdoc[(AAU_postdoc[search_string_7] >= postdr_2014_80th[0]) &\n",
    "            (AAU_postdoc[search_string_7] <= postdr_2014_80th[1])][search_string_7].sort_values().mean().astype(int)"
   ]
  },
  {
   "cell_type": "code",
   "execution_count": null,
   "metadata": {},
   "outputs": [],
   "source": [
    "postdr_2014_100th = np.percentile(AAU_postdoc[search_string_7],[81,100])"
   ]
  },
  {
   "cell_type": "code",
   "execution_count": null,
   "metadata": {},
   "outputs": [],
   "source": [
    "#Average Postdoc Appointees for AAU Univerisiies in 2008 61-80\n",
    "AAU_postdoc[(AAU_postdoc[search_string_7] >= postdr_2014_100th[0]) &\n",
    "            (AAU_postdoc[search_string_7] <= postdr_2014_100th[1])][search_string_7].sort_values().mean().astype(int)"
   ]
  },
  {
   "cell_type": "code",
   "execution_count": null,
   "metadata": {},
   "outputs": [],
   "source": [
    "aau_postdr_2015 = AAU_postdoc[[col_name,search_string_7]].sort_values(by=search_string_7)\n",
    "aau_postdr_2015.columns = ['Institution', 'Postdoctoral Appointees']\n",
    "aau_postdr_2015.to_excel(writer,'Postdoctoral Appointees 2008')\n",
    "writer.save()"
   ]
  },
  {
   "cell_type": "code",
   "execution_count": null,
   "metadata": {},
   "outputs": [],
   "source": []
  }
 ],
 "metadata": {
  "kernelspec": {
   "display_name": "Python 3",
   "language": "python",
   "name": "python3"
  },
  "language_info": {
   "codemirror_mode": {
    "name": "ipython",
    "version": 3
   },
   "file_extension": ".py",
   "mimetype": "text/x-python",
   "name": "python",
   "nbconvert_exporter": "python",
   "pygments_lexer": "ipython3",
   "version": "3.6.5"
  }
 },
 "nbformat": 4,
 "nbformat_minor": 2
}
