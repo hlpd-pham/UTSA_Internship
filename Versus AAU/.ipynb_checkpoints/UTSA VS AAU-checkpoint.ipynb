{
 "cells": [
  {
   "cell_type": "code",
   "execution_count": 1,
   "metadata": {},
   "outputs": [],
   "source": [
    "#Important python libraries for data manipulating\n",
    "import numpy as np\n",
    "import pandas as pd"
   ]
  },
  {
   "cell_type": "code",
   "execution_count": 2,
   "metadata": {},
   "outputs": [],
   "source": [
    "# Read excel files into Python dataframes\n",
    "total_research = pd.read_excel('total_research.xlsx')\n",
    "federal_research = pd.read_excel('federal_research.xlsx')\n",
    "endowment_asserts = pd.read_excel('endowment_assets.xlsx')\n",
    "annual_giving = pd.read_excel('annual_giving.xlsx')\n",
    "natl_academy = pd.read_excel('natl_academy.xlsx')\n",
    "faculty_awards = pd.read_excel('faculty_awards.xlsx')\n",
    "dr_awards = pd.read_excel('doctorates.xlsx')\n",
    "postdocs = pd.read_excel('postdocs.xlsx')"
   ]
  },
  {
   "cell_type": "code",
   "execution_count": 3,
   "metadata": {},
   "outputs": [],
   "source": [
    "# put dataframes into lists to clean out columns and rows in the next steps\n",
    "data = [endowment_asserts, annual_giving, natl_academy, faculty_awards, dr_awards,\n",
    "        total_research, federal_research, postdocs]\n",
    "data_2015 = [endowment_asserts, annual_giving,\n",
    "       natl_academy, faculty_awards, dr_awards]\n",
    "data_2014 = [total_research, federal_research, postdocs]"
   ]
  },
  {
   "cell_type": "code",
   "execution_count": 4,
   "metadata": {},
   "outputs": [],
   "source": [
    "for dataset in data_2015:\n",
    "    dataset.columns = dataset.iloc[0]\n",
    "    dataset = dataset.reindex(dataset.index.drop(0))\n",
    "for dataset in data_2014:\n",
    "    dataset.columns = dataset.iloc[0]\n",
    "    dataset = dataset.reindex(dataset.index.drop(0))"
   ]
  },
  {
   "cell_type": "code",
   "execution_count": 6,
   "metadata": {},
   "outputs": [],
   "source": [
    "# Get the row that contains UTSA data\n",
    "utsa = total_research[\"Institutions Reporting Any\\nFederal Research in Past Five Years\\n(in Alphabetical Order)\"] == 'University of Texas - San Antonio'"
   ]
  },
  {
   "cell_type": "code",
   "execution_count": 7,
   "metadata": {
    "scrolled": true
   },
   "outputs": [
    {
     "data": {
      "text/html": [
       "<div>\n",
       "<style scoped>\n",
       "    .dataframe tbody tr th:only-of-type {\n",
       "        vertical-align: middle;\n",
       "    }\n",
       "\n",
       "    .dataframe tbody tr th {\n",
       "        vertical-align: top;\n",
       "    }\n",
       "\n",
       "    .dataframe thead th {\n",
       "        text-align: right;\n",
       "    }\n",
       "</style>\n",
       "<table border=\"1\" class=\"dataframe\">\n",
       "  <thead>\n",
       "    <tr style=\"text-align: right;\">\n",
       "      <th></th>\n",
       "      <th>nan</th>\n",
       "      <th>Research Group</th>\n",
       "      <th>Control</th>\n",
       "      <th>Institutions Reporting Any\n",
       "Federal Research in Past Five Years\n",
       "(in Alphabetical Order)</th>\n",
       "      <th>2014\n",
       "***\n",
       "Total Research \n",
       " x $1000</th>\n",
       "      <th>2014\n",
       "***\n",
       "National Rank</th>\n",
       "      <th>2014\n",
       "***\n",
       "Control Rank</th>\n",
       "      <th>2013\n",
       "***\n",
       "Total Research \n",
       " x $1000</th>\n",
       "      <th>2013\n",
       "***\n",
       "National Rank</th>\n",
       "      <th>2013\n",
       "***\n",
       "Control Rank</th>\n",
       "      <th>...</th>\n",
       "      <th>1993\n",
       "***\n",
       "Control Rank</th>\n",
       "      <th>1992\n",
       "***\n",
       "Total Research \n",
       " x $1000</th>\n",
       "      <th>1992\n",
       "***\n",
       "National Rank</th>\n",
       "      <th>1992\n",
       "***\n",
       "Control Rank</th>\n",
       "      <th>1991\n",
       "***\n",
       "Total Research \n",
       " x $1000</th>\n",
       "      <th>1991\n",
       "***\n",
       "National Rank</th>\n",
       "      <th>1991\n",
       "***\n",
       "Control Rank</th>\n",
       "      <th>1990\n",
       "***\n",
       "Total Research \n",
       " x $1000</th>\n",
       "      <th>1990\n",
       "***\n",
       "National Rank</th>\n",
       "      <th>1990\n",
       "***\n",
       "Control Rank</th>\n",
       "    </tr>\n",
       "  </thead>\n",
       "  <tbody>\n",
       "    <tr>\n",
       "      <th>862</th>\n",
       "      <td>NaN</td>\n",
       "      <td>$20-$40M</td>\n",
       "      <td>Public</td>\n",
       "      <td>University of Texas - San Antonio</td>\n",
       "      <td>42318</td>\n",
       "      <td>203</td>\n",
       "      <td>153</td>\n",
       "      <td>48599</td>\n",
       "      <td>196</td>\n",
       "      <td>147</td>\n",
       "      <td>...</td>\n",
       "      <td>212</td>\n",
       "      <td>0</td>\n",
       "      <td>571</td>\n",
       "      <td>349</td>\n",
       "      <td>0</td>\n",
       "      <td>567</td>\n",
       "      <td>349</td>\n",
       "      <td>0</td>\n",
       "      <td>570</td>\n",
       "      <td>351</td>\n",
       "    </tr>\n",
       "  </tbody>\n",
       "</table>\n",
       "<p>1 rows × 79 columns</p>\n",
       "</div>"
      ],
      "text/plain": [
       "0    NaN Research Group Control  \\\n",
       "862  NaN       $20-$40M  Public   \n",
       "\n",
       "0   Institutions Reporting Any\\nFederal Research in Past Five Years\\n(in Alphabetical Order)  \\\n",
       "862                  University of Texas - San Antonio                                         \n",
       "\n",
       "0   2014\\n***\\nTotal Research \\n x $1000 2014\\n***\\nNational Rank   \\\n",
       "862                                42318                       203   \n",
       "\n",
       "0   2014\\n***\\nControl Rank  2013\\n***\\nTotal Research \\n x $1000  \\\n",
       "862                      153                                48599   \n",
       "\n",
       "0   2013\\n***\\nNational Rank  2013\\n***\\nControl Rank   \\\n",
       "862                       196                      147   \n",
       "\n",
       "0             ...            1993\\n***\\nControl Rank   \\\n",
       "862           ...                                 212   \n",
       "\n",
       "0   1992\\n***\\nTotal Research \\n x $1000 1992\\n***\\nNational Rank   \\\n",
       "862                                    0                       571   \n",
       "\n",
       "0   1992\\n***\\nControl Rank  1991\\n***\\nTotal Research \\n x $1000  \\\n",
       "862                      349                                    0   \n",
       "\n",
       "0   1991\\n***\\nNational Rank  1991\\n***\\nControl Rank   \\\n",
       "862                       567                      349   \n",
       "\n",
       "0   1990\\n***\\nTotal Research \\n x $1000 1990\\n***\\nNational Rank   \\\n",
       "862                                    0                       570   \n",
       "\n",
       "0   1990\\n***\\nControl Rank   \n",
       "862                      351  \n",
       "\n",
       "[1 rows x 79 columns]"
      ]
     },
     "execution_count": 7,
     "metadata": {},
     "output_type": "execute_result"
    }
   ],
   "source": [
    "total_research[utsa]"
   ]
  },
  {
   "cell_type": "markdown",
   "metadata": {},
   "source": [
    "**Get data of UTSA from year 2014-2015 to 2010-2011**"
   ]
  },
  {
   "cell_type": "code",
   "execution_count": 8,
   "metadata": {},
   "outputs": [],
   "source": [
    "utsa_1st = {}\n",
    "for dataset in data_2015:\n",
    "    utsa_1st[dataset.columns[4]] = dataset[utsa].iloc[:,4].values[0]\n",
    "for dataset in data_2014:\n",
    "    utsa_1st[dataset.columns[4]] = dataset[utsa].iloc[:,4].values[0]"
   ]
  },
  {
   "cell_type": "code",
   "execution_count": 9,
   "metadata": {},
   "outputs": [
    {
     "data": {
      "text/plain": [
       "{'2015\\n***\\nEndowment Assets \\n x $1000': 121962,\n",
       " '2015\\n***\\nAnnual Giving \\n x $1000': 20309,\n",
       " '2015\\n***\\nAcademy Members': 1,\n",
       " '2015\\n***\\nFaculty Awards': 7,\n",
       " '2015\\n***\\nDoctorates': 109,\n",
       " '2014\\n***\\nTotal Research \\n x $1000': 42318,\n",
       " '2014\\n***\\nFederal Research \\n x $1000': 22518,\n",
       " '2014\\n***\\nPostdocs': 52}"
      ]
     },
     "execution_count": 9,
     "metadata": {},
     "output_type": "execute_result"
    }
   ],
   "source": [
    "utsa_1st"
   ]
  },
  {
   "cell_type": "code",
   "execution_count": 10,
   "metadata": {},
   "outputs": [
    {
     "data": {
      "text/plain": [
       "{'2014\\n***\\nEndowment Assets \\n x $1000': 113909,\n",
       " '2014\\n***\\nAnnual Giving \\n x $1000': 15457.53,\n",
       " '2014\\n***\\nAcademy Members': 0,\n",
       " '2014\\n***\\nFaculty Awards': 1,\n",
       " '2014\\n***\\nDoctorates': 106,\n",
       " '2013\\n***\\nTotal Research \\n x $1000': 48599,\n",
       " '2013\\n***\\nFederal Research \\n x $1000': 28066,\n",
       " '2013\\n***\\nPostdocs': 45}"
      ]
     },
     "execution_count": 10,
     "metadata": {},
     "output_type": "execute_result"
    }
   ],
   "source": [
    "utsa_2nd = {}\n",
    "for dataset in data_2015:\n",
    "    utsa_2nd[dataset.columns[7]] = dataset[utsa].iloc[:,7].values[0]\n",
    "for dataset in data_2014:\n",
    "    utsa_2nd[dataset.columns[7]] = dataset[utsa].iloc[:,7].values[0]\n",
    "utsa_2nd"
   ]
  },
  {
   "cell_type": "code",
   "execution_count": 11,
   "metadata": {},
   "outputs": [
    {
     "data": {
      "text/plain": [
       "{'2013\\n***\\nEndowment Assets \\n x $1000': 100825,\n",
       " '2013\\n***\\nAnnual Giving \\n x $1000': 14157,\n",
       " '2013\\n***\\nAcademy Members': 0,\n",
       " '2013\\n***\\nFaculty Awards': 1,\n",
       " '2013\\n***\\nDoctorates': 92,\n",
       " '2012\\n***\\nTotal Research \\n x $1000': 48700,\n",
       " '2012\\n***\\nFederal Research \\n x $1000': 29168,\n",
       " '2012\\n***\\nPostdocs': 48}"
      ]
     },
     "execution_count": 11,
     "metadata": {},
     "output_type": "execute_result"
    }
   ],
   "source": [
    "utsa_3rd = {}\n",
    "for dataset in data_2015:\n",
    "    utsa_3rd[dataset.columns[10]] = dataset[utsa].iloc[:,10].values[0]\n",
    "for dataset in data_2014:\n",
    "    utsa_3rd[dataset.columns[10]] = dataset[utsa].iloc[:,10].values[0]\n",
    "utsa_3rd"
   ]
  },
  {
   "cell_type": "code",
   "execution_count": 12,
   "metadata": {},
   "outputs": [
    {
     "data": {
      "text/plain": [
       "{'2012\\n***\\nEndowment Assets \\n x $1000': 89521,\n",
       " '2012\\n***\\nAnnual Giving \\n x $1000': 12179,\n",
       " '2012\\n***\\nAcademy Members': 0,\n",
       " '2012\\n***\\nFaculty Awards': 4,\n",
       " '2012\\n***\\nDoctorates': 77,\n",
       " '2011\\n***\\nTotal Research \\n x $1000': 50496,\n",
       " '2011\\n***\\nFederal Research \\n x $1000': 28011,\n",
       " '2011\\n***\\nPostdocs': 43}"
      ]
     },
     "execution_count": 12,
     "metadata": {},
     "output_type": "execute_result"
    }
   ],
   "source": [
    "utsa_4th = {}\n",
    "for dataset in data_2015:\n",
    "    utsa_4th[dataset.columns[13]] = dataset[utsa].iloc[:,13].values[0]\n",
    "for dataset in data_2014:\n",
    "    utsa_4th[dataset.columns[13]] = dataset[utsa].iloc[:,13].values[0]\n",
    "utsa_4th"
   ]
  },
  {
   "cell_type": "code",
   "execution_count": 13,
   "metadata": {
    "scrolled": true
   },
   "outputs": [
    {
     "data": {
      "text/plain": [
       "{'2011\\n***\\nEndowment Assets \\n x $1000': 81760,\n",
       " '2011\\n***\\nAnnual Giving \\n x $1000': 30899,\n",
       " '2011\\n***\\nAcademy Members': 0,\n",
       " '2011\\n***\\nFaculty Awards': 1,\n",
       " '2011\\n***\\nDoctorates': 69,\n",
       " '2010\\n***\\nTotal Research \\n x $1000': 51480,\n",
       " '2010\\n***\\nFederal Research \\n x $1000': 27036,\n",
       " '2010\\n***\\nPostdocs': 39}"
      ]
     },
     "execution_count": 13,
     "metadata": {},
     "output_type": "execute_result"
    }
   ],
   "source": [
    "utsa_5th = {}\n",
    "for dataset in data_2015:\n",
    "    utsa_5th[dataset.columns[16]] = dataset[utsa].iloc[:,16].values[0]\n",
    "for dataset in data_2014:\n",
    "    utsa_5th[dataset.columns[16]] = dataset[utsa].iloc[:,16].values[0]\n",
    "utsa_5th"
   ]
  },
  {
   "cell_type": "markdown",
   "metadata": {},
   "source": [
    "---"
   ]
  },
  {
   "cell_type": "code",
   "execution_count": 14,
   "metadata": {},
   "outputs": [],
   "source": [
    "# index column for UTSA dataframe\n",
    "index_col = ['Endowment Assets x $1000','Annual Giving x $1000','National Academy Members',\n",
    "             'Faculty Awards','Doctorates Awared','Total Research x $1000', 'Federal Research x $1000',\n",
    "             'Postdoctoral Appointees']"
   ]
  },
  {
   "cell_type": "code",
   "execution_count": 16,
   "metadata": {},
   "outputs": [],
   "source": [
    "# transform UTSA data into Python dictionary and dataframe\n",
    "utsa_dict = { 'Measure': index_col,'Year 2015 - 2014' : list(utsa_1st.values()),\n",
    "            'Year 2014 - 2013': np.array(list(utsa_2nd.values())).astype(int),'Year 2013 - 2012': list(utsa_3rd.values()), \n",
    "            'Year 2012 - 2011': list(utsa_4th.values()),'Year 2011 - 2010': list(utsa_5th.values()),\n",
    "          }"
   ]
  },
  {
   "cell_type": "code",
   "execution_count": 17,
   "metadata": {
    "scrolled": true
   },
   "outputs": [
    {
     "data": {
      "text/html": [
       "<div>\n",
       "<style scoped>\n",
       "    .dataframe tbody tr th:only-of-type {\n",
       "        vertical-align: middle;\n",
       "    }\n",
       "\n",
       "    .dataframe tbody tr th {\n",
       "        vertical-align: top;\n",
       "    }\n",
       "\n",
       "    .dataframe thead th {\n",
       "        text-align: right;\n",
       "    }\n",
       "</style>\n",
       "<table border=\"1\" class=\"dataframe\">\n",
       "  <thead>\n",
       "    <tr style=\"text-align: right;\">\n",
       "      <th></th>\n",
       "      <th>Measure</th>\n",
       "      <th>Year 2015 - 2014</th>\n",
       "      <th>Year 2014 - 2013</th>\n",
       "      <th>Year 2013 - 2012</th>\n",
       "      <th>Year 2012 - 2011</th>\n",
       "      <th>Year 2011 - 2010</th>\n",
       "    </tr>\n",
       "  </thead>\n",
       "  <tbody>\n",
       "    <tr>\n",
       "      <th>0</th>\n",
       "      <td>Endowment Assets x $1000</td>\n",
       "      <td>121962</td>\n",
       "      <td>113909</td>\n",
       "      <td>100825</td>\n",
       "      <td>89521</td>\n",
       "      <td>81760</td>\n",
       "    </tr>\n",
       "    <tr>\n",
       "      <th>1</th>\n",
       "      <td>Annual Giving x $1000</td>\n",
       "      <td>20309</td>\n",
       "      <td>15457</td>\n",
       "      <td>14157</td>\n",
       "      <td>12179</td>\n",
       "      <td>30899</td>\n",
       "    </tr>\n",
       "    <tr>\n",
       "      <th>2</th>\n",
       "      <td>National Academy Members</td>\n",
       "      <td>1</td>\n",
       "      <td>0</td>\n",
       "      <td>0</td>\n",
       "      <td>0</td>\n",
       "      <td>0</td>\n",
       "    </tr>\n",
       "    <tr>\n",
       "      <th>3</th>\n",
       "      <td>Faculty Awards</td>\n",
       "      <td>7</td>\n",
       "      <td>1</td>\n",
       "      <td>1</td>\n",
       "      <td>4</td>\n",
       "      <td>1</td>\n",
       "    </tr>\n",
       "    <tr>\n",
       "      <th>4</th>\n",
       "      <td>Doctorates Awared</td>\n",
       "      <td>109</td>\n",
       "      <td>106</td>\n",
       "      <td>92</td>\n",
       "      <td>77</td>\n",
       "      <td>69</td>\n",
       "    </tr>\n",
       "    <tr>\n",
       "      <th>5</th>\n",
       "      <td>Total Research x $1000</td>\n",
       "      <td>42318</td>\n",
       "      <td>48599</td>\n",
       "      <td>48700</td>\n",
       "      <td>50496</td>\n",
       "      <td>51480</td>\n",
       "    </tr>\n",
       "    <tr>\n",
       "      <th>6</th>\n",
       "      <td>Federal Research x $1000</td>\n",
       "      <td>22518</td>\n",
       "      <td>28066</td>\n",
       "      <td>29168</td>\n",
       "      <td>28011</td>\n",
       "      <td>27036</td>\n",
       "    </tr>\n",
       "    <tr>\n",
       "      <th>7</th>\n",
       "      <td>Postdoctoral Appointees</td>\n",
       "      <td>52</td>\n",
       "      <td>45</td>\n",
       "      <td>48</td>\n",
       "      <td>43</td>\n",
       "      <td>39</td>\n",
       "    </tr>\n",
       "  </tbody>\n",
       "</table>\n",
       "</div>"
      ],
      "text/plain": [
       "                    Measure  Year 2015 - 2014  Year 2014 - 2013  \\\n",
       "0  Endowment Assets x $1000            121962            113909   \n",
       "1     Annual Giving x $1000             20309             15457   \n",
       "2  National Academy Members                 1                 0   \n",
       "3            Faculty Awards                 7                 1   \n",
       "4         Doctorates Awared               109               106   \n",
       "5    Total Research x $1000             42318             48599   \n",
       "6  Federal Research x $1000             22518             28066   \n",
       "7   Postdoctoral Appointees                52                45   \n",
       "\n",
       "   Year 2013 - 2012  Year 2012 - 2011  Year 2011 - 2010  \n",
       "0            100825             89521             81760  \n",
       "1             14157             12179             30899  \n",
       "2                 0                 0                 0  \n",
       "3                 1                 4                 1  \n",
       "4                92                77                69  \n",
       "5             48700             50496             51480  \n",
       "6             29168             28011             27036  \n",
       "7                48                43                39  "
      ]
     },
     "execution_count": 17,
     "metadata": {},
     "output_type": "execute_result"
    }
   ],
   "source": [
    "pd.DataFrame.from_dict(utsa_dict)"
   ]
  },
  {
   "cell_type": "markdown",
   "metadata": {},
   "source": [
    "******"
   ]
  },
  {
   "cell_type": "markdown",
   "metadata": {},
   "source": [
    "**Get list of AAU University of sample report**"
   ]
  },
  {
   "cell_type": "code",
   "execution_count": 18,
   "metadata": {},
   "outputs": [],
   "source": [
    "AAU_df = pd.read_excel('AAU.xlsx',sheet_name='Total Research 2008')"
   ]
  },
  {
   "cell_type": "code",
   "execution_count": 19,
   "metadata": {},
   "outputs": [
    {
     "data": {
      "text/html": [
       "<div>\n",
       "<style scoped>\n",
       "    .dataframe tbody tr th:only-of-type {\n",
       "        vertical-align: middle;\n",
       "    }\n",
       "\n",
       "    .dataframe tbody tr th {\n",
       "        vertical-align: top;\n",
       "    }\n",
       "\n",
       "    .dataframe thead th {\n",
       "        text-align: right;\n",
       "    }\n",
       "</style>\n",
       "<table border=\"1\" class=\"dataframe\">\n",
       "  <thead>\n",
       "    <tr style=\"text-align: right;\">\n",
       "      <th></th>\n",
       "      <th>Percentile</th>\n",
       "      <th>Total Research x $1000</th>\n",
       "      <th>Unnamed: 2</th>\n",
       "      <th>Institution</th>\n",
       "      <th>Total Research x $1000.1</th>\n",
       "      <th>Average</th>\n",
       "    </tr>\n",
       "  </thead>\n",
       "  <tbody>\n",
       "    <tr>\n",
       "      <th>0</th>\n",
       "      <td>20th</td>\n",
       "      <td>249503</td>\n",
       "      <td>NaN</td>\n",
       "      <td>Brandeis University</td>\n",
       "      <td>49797.000000</td>\n",
       "      <td>153561.825081</td>\n",
       "    </tr>\n",
       "    <tr>\n",
       "      <th>1</th>\n",
       "      <td>40th</td>\n",
       "      <td>379182</td>\n",
       "      <td>NaN</td>\n",
       "      <td>University of Oregon</td>\n",
       "      <td>67378.000000</td>\n",
       "      <td>NaN</td>\n",
       "    </tr>\n",
       "    <tr>\n",
       "      <th>2</th>\n",
       "      <td>60th</td>\n",
       "      <td>515890</td>\n",
       "      <td>NaN</td>\n",
       "      <td>Rice University</td>\n",
       "      <td>74254.000000</td>\n",
       "      <td>NaN</td>\n",
       "    </tr>\n",
       "    <tr>\n",
       "      <th>3</th>\n",
       "      <td>80th</td>\n",
       "      <td>649362</td>\n",
       "      <td>NaN</td>\n",
       "      <td>University of Kansas - Lawrence</td>\n",
       "      <td>111510.436196</td>\n",
       "      <td>NaN</td>\n",
       "    </tr>\n",
       "    <tr>\n",
       "      <th>4</th>\n",
       "      <td>NaN</td>\n",
       "      <td>NaN</td>\n",
       "      <td>NaN</td>\n",
       "      <td>Indiana University - Bloomington</td>\n",
       "      <td>150788.464770</td>\n",
       "      <td>NaN</td>\n",
       "    </tr>\n",
       "  </tbody>\n",
       "</table>\n",
       "</div>"
      ],
      "text/plain": [
       "  Percentile Total Research x $1000  Unnamed: 2  \\\n",
       "0       20th                 249503         NaN   \n",
       "1       40th                 379182         NaN   \n",
       "2       60th                 515890         NaN   \n",
       "3       80th                 649362         NaN   \n",
       "4        NaN                    NaN         NaN   \n",
       "\n",
       "                        Institution  Total Research x $1000.1        Average  \n",
       "0               Brandeis University              49797.000000  153561.825081  \n",
       "1              University of Oregon              67378.000000            NaN  \n",
       "2                   Rice University              74254.000000            NaN  \n",
       "3   University of Kansas - Lawrence             111510.436196            NaN  \n",
       "4  Indiana University - Bloomington             150788.464770            NaN  "
      ]
     },
     "execution_count": 19,
     "metadata": {},
     "output_type": "execute_result"
    }
   ],
   "source": [
    "AAU_df.head()"
   ]
  },
  {
   "cell_type": "code",
   "execution_count": 20,
   "metadata": {},
   "outputs": [],
   "source": [
    "AAU_list = AAU_df['Institution'].values"
   ]
  },
  {
   "cell_type": "markdown",
   "metadata": {},
   "source": [
    "***"
   ]
  },
  {
   "cell_type": "markdown",
   "metadata": {},
   "source": [
    "**Get different dataframe for AAU list**"
   ]
  },
  {
   "cell_type": "code",
   "execution_count": 22,
   "metadata": {},
   "outputs": [],
   "source": [
    "col_name = \"Institutions Reporting Any\\nFederal Research in Past Five Years\\n(in Alphabetical Order)\""
   ]
  },
  {
   "cell_type": "code",
   "execution_count": 23,
   "metadata": {},
   "outputs": [],
   "source": [
    "AAU_total_research = total_research[total_research[col_name].isin(AAU_list)].copy()"
   ]
  },
  {
   "cell_type": "code",
   "execution_count": 24,
   "metadata": {},
   "outputs": [],
   "source": [
    "AAU_total_research.drop(AAU_total_research.columns[0],axis=1,inplace=True)"
   ]
  },
  {
   "cell_type": "code",
   "execution_count": 25,
   "metadata": {},
   "outputs": [],
   "source": [
    "AAU_fed_research = federal_research[federal_research[col_name].isin(AAU_list)].copy().drop(federal_research.columns[0],axis=1)"
   ]
  },
  {
   "cell_type": "code",
   "execution_count": 26,
   "metadata": {},
   "outputs": [],
   "source": [
    "AAU_endow_assets = endowment_asserts[endowment_asserts[col_name].isin(AAU_list)].copy()"
   ]
  },
  {
   "cell_type": "code",
   "execution_count": 27,
   "metadata": {},
   "outputs": [],
   "source": [
    "AAU_endow_assets.drop(AAU_endow_assets.columns[0],axis=1,inplace=True)"
   ]
  },
  {
   "cell_type": "code",
   "execution_count": 28,
   "metadata": {},
   "outputs": [],
   "source": [
    "AAU_annual_giving = annual_giving[annual_giving[col_name].isin(AAU_list)].copy()"
   ]
  },
  {
   "cell_type": "code",
   "execution_count": 29,
   "metadata": {},
   "outputs": [],
   "source": [
    "AAU_annual_giving.drop(AAU_annual_giving.columns[0],axis=1,inplace=True)"
   ]
  },
  {
   "cell_type": "code",
   "execution_count": 30,
   "metadata": {},
   "outputs": [],
   "source": [
    "AAU_nat_member = natl_academy[natl_academy[col_name].isin(AAU_list)].copy()"
   ]
  },
  {
   "cell_type": "code",
   "execution_count": 31,
   "metadata": {},
   "outputs": [],
   "source": [
    "AAU_nat_member.drop(AAU_nat_member.columns[0],axis=1,inplace=True)"
   ]
  },
  {
   "cell_type": "code",
   "execution_count": 32,
   "metadata": {},
   "outputs": [],
   "source": [
    "AAU_fac_award = faculty_awards[faculty_awards[col_name].isin(AAU_list)].copy()"
   ]
  },
  {
   "cell_type": "code",
   "execution_count": 33,
   "metadata": {},
   "outputs": [],
   "source": [
    "AAU_fac_award.drop(AAU_fac_award.columns[0],axis=1,inplace=True)"
   ]
  },
  {
   "cell_type": "code",
   "execution_count": 34,
   "metadata": {},
   "outputs": [],
   "source": [
    "AAU_doc_award = dr_awards[dr_awards[col_name].isin(AAU_list)].copy()"
   ]
  },
  {
   "cell_type": "code",
   "execution_count": 35,
   "metadata": {},
   "outputs": [],
   "source": [
    "AAU_doc_award.drop(AAU_doc_award.columns[0],axis=1,inplace=True)"
   ]
  },
  {
   "cell_type": "code",
   "execution_count": 36,
   "metadata": {},
   "outputs": [],
   "source": [
    "AAU_postdoc = postdocs[postdocs[col_name].isin(AAU_list)].copy()"
   ]
  },
  {
   "cell_type": "code",
   "execution_count": 37,
   "metadata": {},
   "outputs": [],
   "source": [
    "AAU_postdoc.drop(AAU_postdoc.columns[0],axis=1,inplace=True)"
   ]
  },
  {
   "cell_type": "markdown",
   "metadata": {},
   "source": [
    "***"
   ]
  },
  {
   "cell_type": "markdown",
   "metadata": {},
   "source": [
    "# Year 2014 - 2015"
   ]
  },
  {
   "cell_type": "markdown",
   "metadata": {},
   "source": [
    "**Total Research for AAU In Year 15-14**"
   ]
  },
  {
   "cell_type": "code",
   "execution_count": 38,
   "metadata": {},
   "outputs": [],
   "source": [
    "search_string = '2014\\n***\\nTotal Research \\n x $1000'"
   ]
  },
  {
   "cell_type": "code",
   "execution_count": 39,
   "metadata": {},
   "outputs": [],
   "source": [
    "aau_research_2014 = AAU_total_research[[col_name,search_string]].sort_values(by=search_string)\n",
    "aau_research_2014.columns = ['Institution','Total Research x $1000']"
   ]
  },
  {
   "cell_type": "code",
   "execution_count": 40,
   "metadata": {},
   "outputs": [],
   "source": [
    "writer = pd.ExcelWriter('2014-2015.xlsx')\n",
    "aau_research_2014.to_excel(writer,'Total Research 2014')"
   ]
  },
  {
   "cell_type": "markdown",
   "metadata": {},
   "source": [
    "**Federal Research for AAU In Year 15-14**"
   ]
  },
  {
   "cell_type": "code",
   "execution_count": 41,
   "metadata": {},
   "outputs": [],
   "source": [
    "search_string_1 = '2014\\n***\\nFederal Research \\n x $1000'"
   ]
  },
  {
   "cell_type": "code",
   "execution_count": 42,
   "metadata": {},
   "outputs": [],
   "source": [
    "aau_federal_2014 = AAU_fed_research[[col_name,search_string_1]].sort_values(by=search_string_1)\n",
    "aau_federal_2014.columns = ['Institution','Federal Research']\n",
    "aau_federal_2014.to_excel(writer,'Federal Research 2014')"
   ]
  },
  {
   "cell_type": "markdown",
   "metadata": {},
   "source": [
    "**Endowmen Assets for AAU In Year 15-14**"
   ]
  },
  {
   "cell_type": "code",
   "execution_count": 43,
   "metadata": {},
   "outputs": [],
   "source": [
    "searh_string_2 = '2015\\n***\\nEndowment Assets \\n x $1000'"
   ]
  },
  {
   "cell_type": "code",
   "execution_count": 44,
   "metadata": {},
   "outputs": [],
   "source": [
    "aau_assets_2015 = AAU_endow_assets[[col_name,searh_string_2]].sort_values(by=searh_string_2)\n",
    "aau_assets_2015.columns = ['Institution','Endowment Assets']\n",
    "aau_assets_2015.to_excel(writer,'Endowment 2015')"
   ]
  },
  {
   "cell_type": "markdown",
   "metadata": {},
   "source": [
    "**Annual Giving for AAU In Year 15-14**"
   ]
  },
  {
   "cell_type": "code",
   "execution_count": 45,
   "metadata": {},
   "outputs": [],
   "source": [
    "search_string_3 = '2015\\n***\\nAnnual Giving \\n x $1000'"
   ]
  },
  {
   "cell_type": "code",
   "execution_count": 46,
   "metadata": {},
   "outputs": [],
   "source": [
    "aau_giving_2015 = AAU_annual_giving[[col_name,search_string_3]].sort_values(by=search_string_3)\n",
    "aau_giving_2015.columns = ['Institution', 'Annual Giving']\n",
    "aau_giving_2015.to_excel(writer,'Annual Giving 2015')"
   ]
  },
  {
   "cell_type": "markdown",
   "metadata": {},
   "source": [
    "**National Academy Members for AAU In Year 15-14**"
   ]
  },
  {
   "cell_type": "code",
   "execution_count": 47,
   "metadata": {},
   "outputs": [],
   "source": [
    "search_string_4 = '2015\\n***\\nAcademy Members'"
   ]
  },
  {
   "cell_type": "code",
   "execution_count": 48,
   "metadata": {},
   "outputs": [],
   "source": [
    "aau_member_2015 = AAU_nat_member[[col_name,search_string_4]].sort_values(by=search_string_4)\n",
    "aau_member_2015.columns = ['Institution', 'National Academy Members']\n",
    "aau_member_2015.to_excel(writer,'National Academy Members 2015')"
   ]
  },
  {
   "cell_type": "markdown",
   "metadata": {},
   "source": [
    "**Faculty Awards 2015 (AAU)**"
   ]
  },
  {
   "cell_type": "code",
   "execution_count": 49,
   "metadata": {},
   "outputs": [],
   "source": [
    "search_string_5 = '2015\\n***\\nFaculty Awards'"
   ]
  },
  {
   "cell_type": "code",
   "execution_count": 50,
   "metadata": {},
   "outputs": [],
   "source": [
    "aau_award_2015 = AAU_fac_award[[col_name,search_string_5]].sort_values(by=search_string_5)\n",
    "aau_award_2015.columns = ['Institution', 'Faculty Awards']\n",
    "aau_award_2015.to_excel(writer,'Faculty Awards 2015')"
   ]
  },
  {
   "cell_type": "markdown",
   "metadata": {},
   "source": [
    "**Doctorates Granted 2015**"
   ]
  },
  {
   "cell_type": "code",
   "execution_count": 51,
   "metadata": {},
   "outputs": [],
   "source": [
    "search_string_6 = '2015\\n***\\nDoctorates'"
   ]
  },
  {
   "cell_type": "code",
   "execution_count": 52,
   "metadata": {},
   "outputs": [],
   "source": [
    "aau_dr_2015 = AAU_doc_award[[col_name,search_string_6]].sort_values(by=search_string_6)\n",
    "aau_dr_2015.columns = ['Institution', 'Doctorates Awards']\n",
    "aau_dr_2015.to_excel(writer,'Doctorates Awards 2015')"
   ]
  },
  {
   "cell_type": "markdown",
   "metadata": {},
   "source": [
    "**Postdoctoral Appointees 2014**"
   ]
  },
  {
   "cell_type": "code",
   "execution_count": 53,
   "metadata": {},
   "outputs": [],
   "source": [
    "search_string_7 = '2014\\n***\\nPostdocs'"
   ]
  },
  {
   "cell_type": "code",
   "execution_count": 54,
   "metadata": {},
   "outputs": [],
   "source": [
    "# postdr_2014_20th = np.percentile(AAU_postdoc[search_string_7],[0,20])\n",
    "# #Average Postdoc Appointees for AAU Univerisiies in 2008 0-20\n",
    "# AAU_postdoc[(AAU_postdoc[search_string_7] >= postdr_2014_20th[0]) &\n",
    "#             (AAU_postdoc[search_string_7] <= postdr_2014_20th[1])][search_string_7].sort_values().mean().astype(int)"
   ]
  },
  {
   "cell_type": "code",
   "execution_count": 55,
   "metadata": {},
   "outputs": [],
   "source": [
    "aau_postdr_2015 = AAU_postdoc[[col_name,search_string_7]].sort_values(by=search_string_7)\n",
    "aau_postdr_2015.columns = ['Institution', 'Postdoctoral Appointees']\n",
    "aau_postdr_2015.to_excel(writer,'Postdoctoral Appointees 2014')\n",
    "writer.save()"
   ]
  },
  {
   "cell_type": "markdown",
   "metadata": {},
   "source": [
    "************************"
   ]
  },
  {
   "cell_type": "markdown",
   "metadata": {},
   "source": [
    "# Year 2013 - 2014"
   ]
  },
  {
   "cell_type": "markdown",
   "metadata": {},
   "source": [
    "**Total Research**"
   ]
  },
  {
   "cell_type": "code",
   "execution_count": 56,
   "metadata": {},
   "outputs": [],
   "source": [
    "search_string = '2013\\n***\\nTotal Research \\n x $1000'"
   ]
  },
  {
   "cell_type": "code",
   "execution_count": 57,
   "metadata": {},
   "outputs": [],
   "source": [
    "aau_research_2013 = AAU_total_research[[col_name,search_string]].sort_values(by=search_string)\n",
    "aau_research_2013.columns = ['Institution','Total Research x $1000']\n",
    "writer = pd.ExcelWriter('2013-2014.xlsx')\n",
    "aau_research_2013.to_excel(writer,'Total Research 2013')"
   ]
  },
  {
   "cell_type": "markdown",
   "metadata": {},
   "source": [
    "**Federal Research**"
   ]
  },
  {
   "cell_type": "code",
   "execution_count": 58,
   "metadata": {},
   "outputs": [],
   "source": [
    "search_string_1 = '2013\\n***\\nFederal Research \\n x $1000'\n",
    "aau_federal_2013 = AAU_fed_research[[col_name,search_string_1]].sort_values(by=search_string_1)\n",
    "aau_federal_2013.columns = ['Institution','Federal Research']\n",
    "aau_federal_2013.to_excel(writer,'Federal Research 2013')"
   ]
  },
  {
   "cell_type": "markdown",
   "metadata": {},
   "source": [
    "**Endowment Assets**"
   ]
  },
  {
   "cell_type": "code",
   "execution_count": 59,
   "metadata": {},
   "outputs": [],
   "source": [
    "searh_string_2 = '2014\\n***\\nEndowment Assets \\n x $1000'\n",
    "aau_assets_2014 = AAU_endow_assets[[col_name,searh_string_2]].sort_values(by=searh_string_2)\n",
    "aau_assets_2014.columns = ['Institution','Endowment Assets']\n",
    "aau_assets_2014.to_excel(writer,'Endowment 2014')"
   ]
  },
  {
   "cell_type": "markdown",
   "metadata": {},
   "source": [
    "**Annual Giving**"
   ]
  },
  {
   "cell_type": "code",
   "execution_count": 60,
   "metadata": {},
   "outputs": [],
   "source": [
    "search_string_3 = '2014\\n***\\nAnnual Giving \\n x $1000'\n",
    "aau_giving_2014 = AAU_annual_giving[[col_name,search_string_3]].sort_values(by=search_string_3)\n",
    "aau_giving_2014.columns = ['Institution', 'Annual Giving']\n",
    "aau_giving_2014.to_excel(writer,'Annual Giving 2014')"
   ]
  },
  {
   "cell_type": "markdown",
   "metadata": {},
   "source": [
    "**National Academy Members**"
   ]
  },
  {
   "cell_type": "code",
   "execution_count": 61,
   "metadata": {},
   "outputs": [],
   "source": [
    "search_string_4 = '2014\\n***\\nAcademy Members'\n",
    "aau_member_2014 = AAU_nat_member[[col_name,search_string_4]].sort_values(by=search_string_4)\n",
    "aau_member_2014.columns = ['Institution', 'National Academy Members']\n",
    "aau_member_2014.to_excel(writer,'National Academy Members 2014')"
   ]
  },
  {
   "cell_type": "markdown",
   "metadata": {},
   "source": [
    "**Faculty Awards**"
   ]
  },
  {
   "cell_type": "code",
   "execution_count": 62,
   "metadata": {},
   "outputs": [],
   "source": [
    "search_string_5 = '2014\\n***\\nFaculty Awards'\n",
    "aau_award_2014 = AAU_fac_award[[col_name,search_string_5]].sort_values(by=search_string_5)\n",
    "aau_award_2014.columns = ['Institution', 'Faculty Awards']\n",
    "aau_award_2014.to_excel(writer,'Faculty Awards 2014')"
   ]
  },
  {
   "cell_type": "markdown",
   "metadata": {},
   "source": [
    "**Doctorates Awards**"
   ]
  },
  {
   "cell_type": "code",
   "execution_count": 63,
   "metadata": {},
   "outputs": [],
   "source": [
    "search_string_6 = '2014\\n***\\nDoctorates'\n",
    "aau_dr_2014 = AAU_doc_award[[col_name,search_string_6]].sort_values(by=search_string_6)\n",
    "aau_dr_2014.columns = ['Institution', 'Doctorates Awards']\n",
    "aau_dr_2014.to_excel(writer,'Doctorates Awards 2014')"
   ]
  },
  {
   "cell_type": "markdown",
   "metadata": {},
   "source": [
    "**Postdoctoral Appointees**"
   ]
  },
  {
   "cell_type": "code",
   "execution_count": 64,
   "metadata": {},
   "outputs": [],
   "source": [
    "search_string_7 = '2013\\n***\\nPostdocs'\n",
    "aau_postdr_2013 = AAU_postdoc[[col_name,search_string_7]].sort_values(by=search_string_7)\n",
    "aau_postdr_2013.columns = ['Institution', 'Postdoctoral Appointees']\n",
    "aau_postdr_2013.to_excel(writer,'Postdoctoral Appointees 2013')\n",
    "writer.save()"
   ]
  },
  {
   "cell_type": "markdown",
   "metadata": {},
   "source": [
    "***"
   ]
  },
  {
   "cell_type": "markdown",
   "metadata": {},
   "source": [
    "# Year 2012 - 2013"
   ]
  },
  {
   "cell_type": "markdown",
   "metadata": {},
   "source": [
    "**Total Research**"
   ]
  },
  {
   "cell_type": "code",
   "execution_count": 65,
   "metadata": {},
   "outputs": [],
   "source": [
    "search_string = '2012\\n***\\nTotal Research \\n x $1000'"
   ]
  },
  {
   "cell_type": "code",
   "execution_count": 66,
   "metadata": {},
   "outputs": [],
   "source": [
    "aau_research_2012 = AAU_total_research[[col_name,search_string]].sort_values(by=search_string)\n",
    "aau_research_2012.columns = ['Institution','Total Research x $1000']\n",
    "writer = pd.ExcelWriter('2012-2013.xlsx')\n",
    "aau_research_2012.to_excel(writer,'Total Research 2012')"
   ]
  },
  {
   "cell_type": "markdown",
   "metadata": {},
   "source": [
    "**Federal Research**"
   ]
  },
  {
   "cell_type": "code",
   "execution_count": 67,
   "metadata": {},
   "outputs": [],
   "source": [
    "search_string_1 = '2012\\n***\\nFederal Research \\n x $1000'\n",
    "aau_federal_2012 = AAU_fed_research[[col_name,search_string_1]].sort_values(by=search_string_1)\n",
    "aau_federal_2012.columns = ['Institution','Federal Research']\n",
    "aau_federal_2012.to_excel(writer,'Federal Research 2012')"
   ]
  },
  {
   "cell_type": "markdown",
   "metadata": {},
   "source": [
    "**Endowment Assets**"
   ]
  },
  {
   "cell_type": "code",
   "execution_count": 68,
   "metadata": {},
   "outputs": [],
   "source": [
    "searh_string_2 = '2013\\n***\\nEndowment Assets \\n x $1000'\n",
    "aau_assets_2013 = AAU_endow_assets[[col_name,searh_string_2]].sort_values(by=searh_string_2)\n",
    "aau_assets_2013.columns = ['Institution','Endowment Assets']\n",
    "aau_assets_2013.to_excel(writer,'Endowment 2013')"
   ]
  },
  {
   "cell_type": "markdown",
   "metadata": {},
   "source": [
    "**Annual Giving**"
   ]
  },
  {
   "cell_type": "code",
   "execution_count": 69,
   "metadata": {},
   "outputs": [],
   "source": [
    "search_string_3 = '2013\\n***\\nAnnual Giving \\n x $1000'\n",
    "aau_giving_2013 = AAU_annual_giving[[col_name,search_string_3]].sort_values(by=search_string_3)\n",
    "aau_giving_2013.columns = ['Institution', 'Annual Giving']\n",
    "aau_giving_2013.to_excel(writer,'Annual Giving 2013')"
   ]
  },
  {
   "cell_type": "markdown",
   "metadata": {},
   "source": [
    "**National Academy Members**"
   ]
  },
  {
   "cell_type": "code",
   "execution_count": 70,
   "metadata": {},
   "outputs": [],
   "source": [
    "search_string_4 = '2013\\n***\\nAcademy Members'\n",
    "aau_member_2013 = AAU_nat_member[[col_name,search_string_4]].sort_values(by=search_string_4)\n",
    "aau_member_2013.columns = ['Institution', 'National Academy Members']\n",
    "aau_member_2013.to_excel(writer,'National Academy Members 2013')"
   ]
  },
  {
   "cell_type": "markdown",
   "metadata": {},
   "source": [
    "**Faculty Awards**"
   ]
  },
  {
   "cell_type": "code",
   "execution_count": 71,
   "metadata": {},
   "outputs": [],
   "source": [
    "search_string_5 = '2013\\n***\\nFaculty Awards'\n",
    "aau_award_2013 = AAU_fac_award[[col_name,search_string_5]].sort_values(by=search_string_5)\n",
    "aau_award_2013.columns = ['Institution', 'Faculty Awards']\n",
    "aau_award_2013.to_excel(writer,'Faculty Awards 2013')"
   ]
  },
  {
   "cell_type": "markdown",
   "metadata": {},
   "source": [
    "**Doctorates Awards**"
   ]
  },
  {
   "cell_type": "code",
   "execution_count": 72,
   "metadata": {},
   "outputs": [],
   "source": [
    "search_string_6 = '2013\\n***\\nDoctorates'\n",
    "aau_dr_2013 = AAU_doc_award[[col_name,search_string_6]].sort_values(by=search_string_6)\n",
    "aau_dr_2013.columns = ['Institution', 'Doctorates Awards']\n",
    "aau_dr_2013.to_excel(writer,'Doctorates Awards 2013')"
   ]
  },
  {
   "cell_type": "markdown",
   "metadata": {},
   "source": [
    "**Postdoctoral Appointees**"
   ]
  },
  {
   "cell_type": "code",
   "execution_count": 73,
   "metadata": {},
   "outputs": [],
   "source": [
    "search_string_7 = '2012\\n***\\nPostdocs'\n",
    "aau_postdr_2012 = AAU_postdoc[[col_name,search_string_7]].sort_values(by=search_string_7)\n",
    "aau_postdr_2012.columns = ['Institution', 'Postdoctoral Appointees']\n",
    "aau_postdr_2012.to_excel(writer,'Postdoctoral Appointees 2012')\n",
    "writer.save()"
   ]
  },
  {
   "cell_type": "markdown",
   "metadata": {},
   "source": [
    "***"
   ]
  },
  {
   "cell_type": "markdown",
   "metadata": {},
   "source": [
    "# Year 2011 - 2012"
   ]
  },
  {
   "cell_type": "markdown",
   "metadata": {},
   "source": [
    "**Total Research**"
   ]
  },
  {
   "cell_type": "code",
   "execution_count": 74,
   "metadata": {},
   "outputs": [],
   "source": [
    "search_string = '2011\\n***\\nTotal Research \\n x $1000'"
   ]
  },
  {
   "cell_type": "code",
   "execution_count": 75,
   "metadata": {},
   "outputs": [],
   "source": [
    "aau_research_2011 = AAU_total_research[[col_name,search_string]].sort_values(by=search_string)\n",
    "aau_research_2011.columns = ['Institution','Total Research x $1000']\n",
    "writer = pd.ExcelWriter('2011-2012.xlsx')\n",
    "aau_research_2011.to_excel(writer,'Total Research 2011')"
   ]
  },
  {
   "cell_type": "markdown",
   "metadata": {},
   "source": [
    "**Federal Research**"
   ]
  },
  {
   "cell_type": "code",
   "execution_count": 76,
   "metadata": {},
   "outputs": [],
   "source": [
    "search_string_1 = '2011\\n***\\nFederal Research \\n x $1000'\n",
    "aau_federal_2011 = AAU_fed_research[[col_name,search_string_1]].sort_values(by=search_string_1)\n",
    "aau_federal_2011.columns = ['Institution','Federal Research']\n",
    "aau_federal_2011.to_excel(writer,'Federal Research 2011')"
   ]
  },
  {
   "cell_type": "markdown",
   "metadata": {},
   "source": [
    "**Endowment Assets**"
   ]
  },
  {
   "cell_type": "code",
   "execution_count": 77,
   "metadata": {},
   "outputs": [],
   "source": [
    "searh_string_2 = '2012\\n***\\nEndowment Assets \\n x $1000'\n",
    "aau_assets_2012 = AAU_endow_assets[[col_name,searh_string_2]].sort_values(by=searh_string_2)\n",
    "aau_assets_2012.columns = ['Institution','Endowment Assets']\n",
    "aau_assets_2012.to_excel(writer,'Endowment 2012')"
   ]
  },
  {
   "cell_type": "markdown",
   "metadata": {},
   "source": [
    "**Annual Giving**"
   ]
  },
  {
   "cell_type": "code",
   "execution_count": 78,
   "metadata": {},
   "outputs": [],
   "source": [
    "search_string_3 = '2012\\n***\\nAnnual Giving \\n x $1000'\n",
    "aau_giving_2012 = AAU_annual_giving[[col_name,search_string_3]].sort_values(by=search_string_3)\n",
    "aau_giving_2012.columns = ['Institution', 'Annual Giving']\n",
    "aau_giving_2012.to_excel(writer,'Annual Giving 2012')"
   ]
  },
  {
   "cell_type": "markdown",
   "metadata": {},
   "source": [
    "**National Academy Members**"
   ]
  },
  {
   "cell_type": "code",
   "execution_count": 79,
   "metadata": {},
   "outputs": [],
   "source": [
    "search_string_4 = '2012\\n***\\nAcademy Members'\n",
    "aau_member_2012 = AAU_nat_member[[col_name,search_string_4]].sort_values(by=search_string_4)\n",
    "aau_member_2012.columns = ['Institution', 'National Academy Members']\n",
    "aau_member_2012.to_excel(writer,'National Academy Members 2012')"
   ]
  },
  {
   "cell_type": "markdown",
   "metadata": {},
   "source": [
    "**Faculty Awards**"
   ]
  },
  {
   "cell_type": "code",
   "execution_count": 80,
   "metadata": {},
   "outputs": [],
   "source": [
    "search_string_5 = '2012\\n***\\nFaculty Awards'\n",
    "aau_award_2012 = AAU_fac_award[[col_name,search_string_5]].sort_values(by=search_string_5)\n",
    "aau_award_2012.columns = ['Institution', 'Faculty Awards']\n",
    "aau_award_2012.to_excel(writer,'Faculty Awards 2012')"
   ]
  },
  {
   "cell_type": "markdown",
   "metadata": {},
   "source": [
    "**Doctorates Awards**"
   ]
  },
  {
   "cell_type": "code",
   "execution_count": 81,
   "metadata": {},
   "outputs": [],
   "source": [
    "search_string_6 = '2012\\n***\\nDoctorates'\n",
    "aau_dr_2012 = AAU_doc_award[[col_name,search_string_6]].sort_values(by=search_string_6)\n",
    "aau_dr_2012.columns = ['Institution', 'Doctorates Awards']\n",
    "aau_dr_2012.to_excel(writer,'Doctorates Awards 2012')"
   ]
  },
  {
   "cell_type": "markdown",
   "metadata": {},
   "source": [
    "**Postdoctoral Appointees**"
   ]
  },
  {
   "cell_type": "code",
   "execution_count": 82,
   "metadata": {},
   "outputs": [],
   "source": [
    "search_string_7 = '2011\\n***\\nPostdocs'\n",
    "aau_postdr_2011 = AAU_postdoc[[col_name,search_string_7]].sort_values(by=search_string_7)\n",
    "aau_postdr_2011.columns = ['Institution', 'Postdoctoral Appointees']\n",
    "aau_postdr_2011.to_excel(writer,'Postdoctoral Appointees 2011')\n",
    "writer.save()"
   ]
  },
  {
   "cell_type": "markdown",
   "metadata": {},
   "source": [
    "***"
   ]
  },
  {
   "cell_type": "markdown",
   "metadata": {},
   "source": [
    "# Year 2010 - 2011"
   ]
  },
  {
   "cell_type": "markdown",
   "metadata": {},
   "source": [
    "**Total Research**"
   ]
  },
  {
   "cell_type": "code",
   "execution_count": 83,
   "metadata": {},
   "outputs": [],
   "source": [
    "search_string = '2010\\n***\\nTotal Research \\n x $1000'"
   ]
  },
  {
   "cell_type": "code",
   "execution_count": 84,
   "metadata": {},
   "outputs": [],
   "source": [
    "aau_research_2010 = AAU_total_research[[col_name,search_string]].sort_values(by=search_string)\n",
    "aau_research_2010.columns = ['Institution','Total Research x $1000']\n",
    "writer = pd.ExcelWriter('2010-2011.xlsx')\n",
    "aau_research_2010.to_excel(writer,'Total Research 2010')"
   ]
  },
  {
   "cell_type": "markdown",
   "metadata": {},
   "source": [
    "**Federal Research**"
   ]
  },
  {
   "cell_type": "code",
   "execution_count": 85,
   "metadata": {},
   "outputs": [],
   "source": [
    "search_string_1 = '2010\\n***\\nFederal Research \\n x $1000'\n",
    "aau_federal_2010 = AAU_fed_research[[col_name,search_string_1]].sort_values(by=search_string_1)\n",
    "aau_federal_2010.columns = ['Institution','Federal Research']\n",
    "aau_federal_2010.to_excel(writer,'Federal Research 2010')"
   ]
  },
  {
   "cell_type": "markdown",
   "metadata": {},
   "source": [
    "**Endowment Assets**"
   ]
  },
  {
   "cell_type": "code",
   "execution_count": 86,
   "metadata": {},
   "outputs": [],
   "source": [
    "searh_string_2 = '2011\\n***\\nEndowment Assets \\n x $1000'\n",
    "aau_assets_2011 = AAU_endow_assets[[col_name,searh_string_2]].sort_values(by=searh_string_2)\n",
    "aau_assets_2011.columns = ['Institution','Endowment Assets']\n",
    "aau_assets_2011.to_excel(writer,'Endowment 2011')"
   ]
  },
  {
   "cell_type": "markdown",
   "metadata": {},
   "source": [
    "**Annual Giving**"
   ]
  },
  {
   "cell_type": "code",
   "execution_count": 87,
   "metadata": {},
   "outputs": [],
   "source": [
    "search_string_3 = '2011\\n***\\nAnnual Giving \\n x $1000'\n",
    "aau_giving_2011 = AAU_annual_giving[[col_name,search_string_3]].sort_values(by=search_string_3)\n",
    "aau_giving_2011.columns = ['Institution', 'Annual Giving']\n",
    "aau_giving_2011.to_excel(writer,'Annual Giving 2011')"
   ]
  },
  {
   "cell_type": "markdown",
   "metadata": {},
   "source": [
    "**National Academy Members**"
   ]
  },
  {
   "cell_type": "code",
   "execution_count": 88,
   "metadata": {},
   "outputs": [],
   "source": [
    "search_string_4 = '2011\\n***\\nAcademy Members'\n",
    "aau_member_2011 = AAU_nat_member[[col_name,search_string_4]].sort_values(by=search_string_4)\n",
    "aau_member_2011.columns = ['Institution', 'National Academy Members']\n",
    "aau_member_2011.to_excel(writer,'National Academy Members 2011')"
   ]
  },
  {
   "cell_type": "markdown",
   "metadata": {},
   "source": [
    "**Faculty Awards**"
   ]
  },
  {
   "cell_type": "code",
   "execution_count": 89,
   "metadata": {},
   "outputs": [],
   "source": [
    "search_string_5 = '2011\\n***\\nFaculty Awards'\n",
    "aau_award_2011 = AAU_fac_award[[col_name,search_string_5]].sort_values(by=search_string_5)\n",
    "aau_award_2011.columns = ['Institution', 'Faculty Awards']\n",
    "aau_award_2011.to_excel(writer,'Faculty Awards 2011')"
   ]
  },
  {
   "cell_type": "markdown",
   "metadata": {},
   "source": [
    "**Doctorates Awards**"
   ]
  },
  {
   "cell_type": "code",
   "execution_count": 90,
   "metadata": {},
   "outputs": [],
   "source": [
    "search_string_6 = '2011\\n***\\nDoctorates'\n",
    "aau_dr_2011 = AAU_doc_award[[col_name,search_string_6]].sort_values(by=search_string_6)\n",
    "aau_dr_2011.columns = ['Institution', 'Doctorates Awards']\n",
    "aau_dr_2011.to_excel(writer,'Doctorates Awards 2011')"
   ]
  },
  {
   "cell_type": "markdown",
   "metadata": {},
   "source": [
    "**Postdoctoral Appointees**"
   ]
  },
  {
   "cell_type": "code",
   "execution_count": 91,
   "metadata": {},
   "outputs": [],
   "source": [
    "search_string_7 = '2010\\n***\\nPostdocs'\n",
    "aau_postdr_2010 = AAU_postdoc[[col_name,search_string_7]].sort_values(by=search_string_7)\n",
    "aau_postdr_2010.columns = ['Institution', 'Postdoctoral Appointees']\n",
    "aau_postdr_2010.to_excel(writer,'Postdoctoral Appointees 2010')\n",
    "writer.save()"
   ]
  }
 ],
 "metadata": {
  "kernelspec": {
   "display_name": "Python 3",
   "language": "python",
   "name": "python3"
  },
  "language_info": {
   "codemirror_mode": {
    "name": "ipython",
    "version": 3
   },
   "file_extension": ".py",
   "mimetype": "text/x-python",
   "name": "python",
   "nbconvert_exporter": "python",
   "pygments_lexer": "ipython3",
   "version": "3.6.5"
  }
 },
 "nbformat": 4,
 "nbformat_minor": 2
}
