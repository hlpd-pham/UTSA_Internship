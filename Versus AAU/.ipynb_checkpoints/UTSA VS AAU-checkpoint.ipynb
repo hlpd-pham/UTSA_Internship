{
 "cells": [
  {
   "cell_type": "code",
   "execution_count": 1,
   "metadata": {},
   "outputs": [],
   "source": [
    "import numpy as np\n",
    "import pandas as pd\n",
    "import matplotlib.pyplot as plt\n",
    "import seaborn as sns"
   ]
  },
  {
   "cell_type": "code",
   "execution_count": 2,
   "metadata": {},
   "outputs": [],
   "source": [
    "total_research = pd.read_excel('total_research.xlsx')\n",
    "federal_research = pd.read_excel('federal_research.xlsx')\n",
    "endowment_asserts = pd.read_excel('endowment_assets.xlsx')\n",
    "annual_giving = pd.read_excel('annual_giving.xlsx')\n",
    "natl_academy = pd.read_excel('natl_academy.xlsx')\n",
    "faculty_awards = pd.read_excel('faculty_awards.xlsx')\n",
    "dr_awards = pd.read_excel('doctorates.xlsx')\n",
    "postdocs = pd.read_excel('postdocs.xlsx')"
   ]
  },
  {
   "cell_type": "code",
   "execution_count": 3,
   "metadata": {},
   "outputs": [],
   "source": [
    "data = [endowment_asserts, annual_giving, natl_academy, faculty_awards, dr_awards,\n",
    "        total_research, federal_research, postdocs]\n",
    "data_2015 = [endowment_asserts, annual_giving,\n",
    "       natl_academy, faculty_awards, dr_awards]\n",
    "data_2014 = [total_research, federal_research, postdocs]"
   ]
  },
  {
   "cell_type": "code",
   "execution_count": 4,
   "metadata": {},
   "outputs": [],
   "source": [
    "for dataset in data_2015:\n",
    "    dataset.columns = dataset.iloc[0]\n",
    "    dataset = dataset.reindex(dataset.index.drop(0))\n",
    "for dataset in data_2014:\n",
    "    dataset.columns = dataset.iloc[0]\n",
    "    dataset = dataset.reindex(dataset.index.drop(0))"
   ]
  },
  {
   "cell_type": "code",
   "execution_count": 5,
   "metadata": {},
   "outputs": [
    {
     "data": {
      "text/html": [
       "<div>\n",
       "<style scoped>\n",
       "    .dataframe tbody tr th:only-of-type {\n",
       "        vertical-align: middle;\n",
       "    }\n",
       "\n",
       "    .dataframe tbody tr th {\n",
       "        vertical-align: top;\n",
       "    }\n",
       "\n",
       "    .dataframe thead th {\n",
       "        text-align: right;\n",
       "    }\n",
       "</style>\n",
       "<table border=\"1\" class=\"dataframe\">\n",
       "  <thead>\n",
       "    <tr style=\"text-align: right;\">\n",
       "      <th></th>\n",
       "      <th>nan</th>\n",
       "      <th>Research Group</th>\n",
       "      <th>Control</th>\n",
       "      <th>Institutions Reporting Any\n",
       "Federal Research in Past Five Years\n",
       "(in Alphabetical Order)</th>\n",
       "      <th>2014\n",
       "***\n",
       "Total Research \n",
       " x $1000</th>\n",
       "      <th>2014\n",
       "***\n",
       "National Rank</th>\n",
       "      <th>2014\n",
       "***\n",
       "Control Rank</th>\n",
       "      <th>2013\n",
       "***\n",
       "Total Research \n",
       " x $1000</th>\n",
       "      <th>2013\n",
       "***\n",
       "National Rank</th>\n",
       "      <th>2013\n",
       "***\n",
       "Control Rank</th>\n",
       "      <th>...</th>\n",
       "      <th>1993\n",
       "***\n",
       "Control Rank</th>\n",
       "      <th>1992\n",
       "***\n",
       "Total Research \n",
       " x $1000</th>\n",
       "      <th>1992\n",
       "***\n",
       "National Rank</th>\n",
       "      <th>1992\n",
       "***\n",
       "Control Rank</th>\n",
       "      <th>1991\n",
       "***\n",
       "Total Research \n",
       " x $1000</th>\n",
       "      <th>1991\n",
       "***\n",
       "National Rank</th>\n",
       "      <th>1991\n",
       "***\n",
       "Control Rank</th>\n",
       "      <th>1990\n",
       "***\n",
       "Total Research \n",
       " x $1000</th>\n",
       "      <th>1990\n",
       "***\n",
       "National Rank</th>\n",
       "      <th>1990\n",
       "***\n",
       "Control Rank</th>\n",
       "    </tr>\n",
       "  </thead>\n",
       "  <tbody>\n",
       "    <tr>\n",
       "      <th>0</th>\n",
       "      <td>NaN</td>\n",
       "      <td>Research Group</td>\n",
       "      <td>Control</td>\n",
       "      <td>Institutions Reporting Any\\nFederal Research i...</td>\n",
       "      <td>2014\\n***\\nTotal Research \\n x $1000</td>\n",
       "      <td>2014\\n***\\nNational Rank</td>\n",
       "      <td>2014\\n***\\nControl Rank</td>\n",
       "      <td>2013\\n***\\nTotal Research \\n x $1000</td>\n",
       "      <td>2013\\n***\\nNational Rank</td>\n",
       "      <td>2013\\n***\\nControl Rank</td>\n",
       "      <td>...</td>\n",
       "      <td>1993\\n***\\nControl Rank</td>\n",
       "      <td>1992\\n***\\nTotal Research \\n x $1000</td>\n",
       "      <td>1992\\n***\\nNational Rank</td>\n",
       "      <td>1992\\n***\\nControl Rank</td>\n",
       "      <td>1991\\n***\\nTotal Research \\n x $1000</td>\n",
       "      <td>1991\\n***\\nNational Rank</td>\n",
       "      <td>1991\\n***\\nControl Rank</td>\n",
       "      <td>1990\\n***\\nTotal Research \\n x $1000</td>\n",
       "      <td>1990\\n***\\nNational Rank</td>\n",
       "      <td>1990\\n***\\nControl Rank</td>\n",
       "    </tr>\n",
       "    <tr>\n",
       "      <th>1</th>\n",
       "      <td>NaN</td>\n",
       "      <td>Under $1M</td>\n",
       "      <td>Private</td>\n",
       "      <td>A.T. Still University of Health Sciences</td>\n",
       "      <td>926</td>\n",
       "      <td>603</td>\n",
       "      <td>221</td>\n",
       "      <td>744</td>\n",
       "      <td>632</td>\n",
       "      <td>235</td>\n",
       "      <td>...</td>\n",
       "      <td>137</td>\n",
       "      <td>856</td>\n",
       "      <td>395</td>\n",
       "      <td>128</td>\n",
       "      <td>624</td>\n",
       "      <td>408</td>\n",
       "      <td>133</td>\n",
       "      <td>539</td>\n",
       "      <td>423</td>\n",
       "      <td>144</td>\n",
       "    </tr>\n",
       "  </tbody>\n",
       "</table>\n",
       "<p>2 rows × 79 columns</p>\n",
       "</div>"
      ],
      "text/plain": [
       "0  NaN  Research Group  Control  \\\n",
       "0  NaN  Research Group  Control   \n",
       "1  NaN       Under $1M  Private   \n",
       "\n",
       "0 Institutions Reporting Any\\nFederal Research in Past Five Years\\n(in Alphabetical Order)  \\\n",
       "0  Institutions Reporting Any\\nFederal Research i...                                         \n",
       "1           A.T. Still University of Health Sciences                                         \n",
       "\n",
       "0  2014\\n***\\nTotal Research \\n x $1000  2014\\n***\\nNational Rank   \\\n",
       "0  2014\\n***\\nTotal Research \\n x $1000  2014\\n***\\nNational Rank    \n",
       "1                                   926                        603   \n",
       "\n",
       "0  2014\\n***\\nControl Rank   2013\\n***\\nTotal Research \\n x $1000  \\\n",
       "0  2014\\n***\\nControl Rank   2013\\n***\\nTotal Research \\n x $1000   \n",
       "1                       221                                   744   \n",
       "\n",
       "0  2013\\n***\\nNational Rank   2013\\n***\\nControl Rank   \\\n",
       "0  2013\\n***\\nNational Rank   2013\\n***\\nControl Rank    \n",
       "1                        632                       235   \n",
       "\n",
       "0            ...             1993\\n***\\nControl Rank   \\\n",
       "0            ...             1993\\n***\\nControl Rank    \n",
       "1            ...                                  137   \n",
       "\n",
       "0  1992\\n***\\nTotal Research \\n x $1000  1992\\n***\\nNational Rank   \\\n",
       "0  1992\\n***\\nTotal Research \\n x $1000  1992\\n***\\nNational Rank    \n",
       "1                                   856                        395   \n",
       "\n",
       "0  1992\\n***\\nControl Rank   1991\\n***\\nTotal Research \\n x $1000  \\\n",
       "0  1992\\n***\\nControl Rank   1991\\n***\\nTotal Research \\n x $1000   \n",
       "1                       128                                   624   \n",
       "\n",
       "0  1991\\n***\\nNational Rank   1991\\n***\\nControl Rank   \\\n",
       "0  1991\\n***\\nNational Rank   1991\\n***\\nControl Rank    \n",
       "1                        408                       133   \n",
       "\n",
       "0  1990\\n***\\nTotal Research \\n x $1000  1990\\n***\\nNational Rank   \\\n",
       "0  1990\\n***\\nTotal Research \\n x $1000  1990\\n***\\nNational Rank    \n",
       "1                                   539                        423   \n",
       "\n",
       "0  1990\\n***\\nControl Rank   \n",
       "0  1990\\n***\\nControl Rank   \n",
       "1                       144  \n",
       "\n",
       "[2 rows x 79 columns]"
      ]
     },
     "execution_count": 5,
     "metadata": {},
     "output_type": "execute_result"
    }
   ],
   "source": [
    "total_research.head(2)"
   ]
  },
  {
   "cell_type": "code",
   "execution_count": 6,
   "metadata": {},
   "outputs": [],
   "source": [
    "utsa = total_research[\"Institutions Reporting Any\\nFederal Research in Past Five Years\\n(in Alphabetical Order)\"] == 'University of Texas - San Antonio'"
   ]
  },
  {
   "cell_type": "code",
   "execution_count": 7,
   "metadata": {},
   "outputs": [
    {
     "data": {
      "text/html": [
       "<div>\n",
       "<style scoped>\n",
       "    .dataframe tbody tr th:only-of-type {\n",
       "        vertical-align: middle;\n",
       "    }\n",
       "\n",
       "    .dataframe tbody tr th {\n",
       "        vertical-align: top;\n",
       "    }\n",
       "\n",
       "    .dataframe thead th {\n",
       "        text-align: right;\n",
       "    }\n",
       "</style>\n",
       "<table border=\"1\" class=\"dataframe\">\n",
       "  <thead>\n",
       "    <tr style=\"text-align: right;\">\n",
       "      <th></th>\n",
       "      <th>nan</th>\n",
       "      <th>Research Group</th>\n",
       "      <th>Control</th>\n",
       "      <th>Institutions Reporting Any\n",
       "Federal Research in Past Five Years\n",
       "(in Alphabetical Order)</th>\n",
       "      <th>2014\n",
       "***\n",
       "Total Research \n",
       " x $1000</th>\n",
       "      <th>2014\n",
       "***\n",
       "National Rank</th>\n",
       "      <th>2014\n",
       "***\n",
       "Control Rank</th>\n",
       "      <th>2013\n",
       "***\n",
       "Total Research \n",
       " x $1000</th>\n",
       "      <th>2013\n",
       "***\n",
       "National Rank</th>\n",
       "      <th>2013\n",
       "***\n",
       "Control Rank</th>\n",
       "      <th>...</th>\n",
       "      <th>1993\n",
       "***\n",
       "Control Rank</th>\n",
       "      <th>1992\n",
       "***\n",
       "Total Research \n",
       " x $1000</th>\n",
       "      <th>1992\n",
       "***\n",
       "National Rank</th>\n",
       "      <th>1992\n",
       "***\n",
       "Control Rank</th>\n",
       "      <th>1991\n",
       "***\n",
       "Total Research \n",
       " x $1000</th>\n",
       "      <th>1991\n",
       "***\n",
       "National Rank</th>\n",
       "      <th>1991\n",
       "***\n",
       "Control Rank</th>\n",
       "      <th>1990\n",
       "***\n",
       "Total Research \n",
       " x $1000</th>\n",
       "      <th>1990\n",
       "***\n",
       "National Rank</th>\n",
       "      <th>1990\n",
       "***\n",
       "Control Rank</th>\n",
       "    </tr>\n",
       "  </thead>\n",
       "  <tbody>\n",
       "    <tr>\n",
       "      <th>862</th>\n",
       "      <td>NaN</td>\n",
       "      <td>$20-$40M</td>\n",
       "      <td>Public</td>\n",
       "      <td>University of Texas - San Antonio</td>\n",
       "      <td>42318</td>\n",
       "      <td>203</td>\n",
       "      <td>153</td>\n",
       "      <td>48599</td>\n",
       "      <td>196</td>\n",
       "      <td>147</td>\n",
       "      <td>...</td>\n",
       "      <td>212</td>\n",
       "      <td>0</td>\n",
       "      <td>571</td>\n",
       "      <td>349</td>\n",
       "      <td>0</td>\n",
       "      <td>567</td>\n",
       "      <td>349</td>\n",
       "      <td>0</td>\n",
       "      <td>570</td>\n",
       "      <td>351</td>\n",
       "    </tr>\n",
       "  </tbody>\n",
       "</table>\n",
       "<p>1 rows × 79 columns</p>\n",
       "</div>"
      ],
      "text/plain": [
       "0    NaN Research Group Control  \\\n",
       "862  NaN       $20-$40M  Public   \n",
       "\n",
       "0   Institutions Reporting Any\\nFederal Research in Past Five Years\\n(in Alphabetical Order)  \\\n",
       "862                  University of Texas - San Antonio                                         \n",
       "\n",
       "0   2014\\n***\\nTotal Research \\n x $1000 2014\\n***\\nNational Rank   \\\n",
       "862                                42318                       203   \n",
       "\n",
       "0   2014\\n***\\nControl Rank  2013\\n***\\nTotal Research \\n x $1000  \\\n",
       "862                      153                                48599   \n",
       "\n",
       "0   2013\\n***\\nNational Rank  2013\\n***\\nControl Rank   \\\n",
       "862                       196                      147   \n",
       "\n",
       "0             ...            1993\\n***\\nControl Rank   \\\n",
       "862           ...                                 212   \n",
       "\n",
       "0   1992\\n***\\nTotal Research \\n x $1000 1992\\n***\\nNational Rank   \\\n",
       "862                                    0                       571   \n",
       "\n",
       "0   1992\\n***\\nControl Rank  1991\\n***\\nTotal Research \\n x $1000  \\\n",
       "862                      349                                    0   \n",
       "\n",
       "0   1991\\n***\\nNational Rank  1991\\n***\\nControl Rank   \\\n",
       "862                       567                      349   \n",
       "\n",
       "0   1990\\n***\\nTotal Research \\n x $1000 1990\\n***\\nNational Rank   \\\n",
       "862                                    0                       570   \n",
       "\n",
       "0   1990\\n***\\nControl Rank   \n",
       "862                      351  \n",
       "\n",
       "[1 rows x 79 columns]"
      ]
     },
     "execution_count": 7,
     "metadata": {},
     "output_type": "execute_result"
    }
   ],
   "source": [
    "total_research[utsa]"
   ]
  },
  {
   "cell_type": "code",
   "execution_count": 8,
   "metadata": {},
   "outputs": [],
   "source": [
    "utsa_1st = {}\n",
    "for dataset in data_2015:\n",
    "    utsa_1st[dataset.columns[4]] = dataset[utsa].iloc[:,4].values[0]\n",
    "for dataset in data_2014:\n",
    "    utsa_1st[dataset.columns[4]] = dataset[utsa].iloc[:,4].values[0]"
   ]
  },
  {
   "cell_type": "code",
   "execution_count": 9,
   "metadata": {},
   "outputs": [
    {
     "data": {
      "text/plain": [
       "{'2015\\n***\\nEndowment Assets \\n x $1000': 121962,\n",
       " '2015\\n***\\nAnnual Giving \\n x $1000': 20309,\n",
       " '2015\\n***\\nAcademy Members': 1,\n",
       " '2015\\n***\\nFaculty Awards': 7,\n",
       " '2015\\n***\\nDoctorates': 109,\n",
       " '2014\\n***\\nTotal Research \\n x $1000': 42318,\n",
       " '2014\\n***\\nFederal Research \\n x $1000': 22518,\n",
       " '2014\\n***\\nPostdocs': 52}"
      ]
     },
     "execution_count": 9,
     "metadata": {},
     "output_type": "execute_result"
    }
   ],
   "source": [
    "utsa_1st"
   ]
  },
  {
   "cell_type": "code",
   "execution_count": 10,
   "metadata": {},
   "outputs": [
    {
     "data": {
      "text/plain": [
       "{'2014\\n***\\nEndowment Assets \\n x $1000': 113909,\n",
       " '2014\\n***\\nAnnual Giving \\n x $1000': 15457.53,\n",
       " '2014\\n***\\nAcademy Members': 0,\n",
       " '2014\\n***\\nFaculty Awards': 1,\n",
       " '2014\\n***\\nDoctorates': 106,\n",
       " '2013\\n***\\nTotal Research \\n x $1000': 48599,\n",
       " '2013\\n***\\nFederal Research \\n x $1000': 28066,\n",
       " '2013\\n***\\nPostdocs': 45}"
      ]
     },
     "execution_count": 10,
     "metadata": {},
     "output_type": "execute_result"
    }
   ],
   "source": [
    "utsa_2nd = {}\n",
    "for dataset in data_2015:\n",
    "    utsa_2nd[dataset.columns[7]] = dataset[utsa].iloc[:,7].values[0]\n",
    "for dataset in data_2014:\n",
    "    utsa_2nd[dataset.columns[7]] = dataset[utsa].iloc[:,7].values[0]\n",
    "utsa_2nd"
   ]
  },
  {
   "cell_type": "code",
   "execution_count": 11,
   "metadata": {},
   "outputs": [
    {
     "data": {
      "text/plain": [
       "{'2013\\n***\\nEndowment Assets \\n x $1000': 100825,\n",
       " '2013\\n***\\nAnnual Giving \\n x $1000': 14157,\n",
       " '2013\\n***\\nAcademy Members': 0,\n",
       " '2013\\n***\\nFaculty Awards': 1,\n",
       " '2013\\n***\\nDoctorates': 92,\n",
       " '2012\\n***\\nTotal Research \\n x $1000': 48700,\n",
       " '2012\\n***\\nFederal Research \\n x $1000': 29168,\n",
       " '2012\\n***\\nPostdocs': 48}"
      ]
     },
     "execution_count": 11,
     "metadata": {},
     "output_type": "execute_result"
    }
   ],
   "source": [
    "utsa_3rd = {}\n",
    "for dataset in data_2015:\n",
    "    utsa_3rd[dataset.columns[10]] = dataset[utsa].iloc[:,10].values[0]\n",
    "for dataset in data_2014:\n",
    "    utsa_3rd[dataset.columns[10]] = dataset[utsa].iloc[:,10].values[0]\n",
    "utsa_3rd"
   ]
  },
  {
   "cell_type": "code",
   "execution_count": 12,
   "metadata": {},
   "outputs": [
    {
     "data": {
      "text/plain": [
       "{'2012\\n***\\nEndowment Assets \\n x $1000': 89521,\n",
       " '2012\\n***\\nAnnual Giving \\n x $1000': 12179,\n",
       " '2012\\n***\\nAcademy Members': 0,\n",
       " '2012\\n***\\nFaculty Awards': 4,\n",
       " '2012\\n***\\nDoctorates': 77,\n",
       " '2011\\n***\\nTotal Research \\n x $1000': 50496,\n",
       " '2011\\n***\\nFederal Research \\n x $1000': 28011,\n",
       " '2011\\n***\\nPostdocs': 43}"
      ]
     },
     "execution_count": 12,
     "metadata": {},
     "output_type": "execute_result"
    }
   ],
   "source": [
    "utsa_4th = {}\n",
    "for dataset in data_2015:\n",
    "    utsa_4th[dataset.columns[13]] = dataset[utsa].iloc[:,13].values[0]\n",
    "for dataset in data_2014:\n",
    "    utsa_4th[dataset.columns[13]] = dataset[utsa].iloc[:,13].values[0]\n",
    "utsa_4th"
   ]
  },
  {
   "cell_type": "code",
   "execution_count": 13,
   "metadata": {},
   "outputs": [
    {
     "data": {
      "text/plain": [
       "{'2011\\n***\\nEndowment Assets \\n x $1000': 81760,\n",
       " '2011\\n***\\nAnnual Giving \\n x $1000': 30899,\n",
       " '2011\\n***\\nAcademy Members': 0,\n",
       " '2011\\n***\\nFaculty Awards': 1,\n",
       " '2011\\n***\\nDoctorates': 69,\n",
       " '2010\\n***\\nTotal Research \\n x $1000': 51480,\n",
       " '2010\\n***\\nFederal Research \\n x $1000': 27036,\n",
       " '2010\\n***\\nPostdocs': 39}"
      ]
     },
     "execution_count": 13,
     "metadata": {},
     "output_type": "execute_result"
    }
   ],
   "source": [
    "utsa_5th = {}\n",
    "for dataset in data_2015:\n",
    "    utsa_5th[dataset.columns[16]] = dataset[utsa].iloc[:,16].values[0]\n",
    "for dataset in data_2014:\n",
    "    utsa_5th[dataset.columns[16]] = dataset[utsa].iloc[:,16].values[0]\n",
    "utsa_5th"
   ]
  },
  {
   "cell_type": "code",
   "execution_count": 14,
   "metadata": {},
   "outputs": [],
   "source": [
    "index_col = ['Endowment Assets x $1000','Annual Giving x $1000','National Academy Members',\n",
    "             'Faculty Awards','Doctorates Awared','Total Research x $1000', 'Federal Research x $1000',\n",
    "             'Postdoctoral Appointees']"
   ]
  },
  {
   "cell_type": "code",
   "execution_count": 15,
   "metadata": {},
   "outputs": [
    {
     "data": {
      "text/plain": [
       "[121962, 20309, 1, 7, 109, 42318, 22518, 52]"
      ]
     },
     "execution_count": 15,
     "metadata": {},
     "output_type": "execute_result"
    }
   ],
   "source": [
    "list(utsa_1st.values())"
   ]
  },
  {
   "cell_type": "code",
   "execution_count": 16,
   "metadata": {},
   "outputs": [],
   "source": [
    "utsa_dict = { 'Measure': index_col,'Year 2015 - 2014' : list(utsa_1st.values()),\n",
    "            'Year 2014 - 2013': np.array(list(utsa_2nd.values())).astype(int),'Year 2013 - 2012': list(utsa_3rd.values()), \n",
    "            'Year 2012 - 2011': list(utsa_4th.values()),'Year 2011 - 2010': list(utsa_5th.values()),\n",
    "          }"
   ]
  },
  {
   "cell_type": "code",
   "execution_count": 17,
   "metadata": {},
   "outputs": [
    {
     "data": {
      "text/html": [
       "<div>\n",
       "<style scoped>\n",
       "    .dataframe tbody tr th:only-of-type {\n",
       "        vertical-align: middle;\n",
       "    }\n",
       "\n",
       "    .dataframe tbody tr th {\n",
       "        vertical-align: top;\n",
       "    }\n",
       "\n",
       "    .dataframe thead th {\n",
       "        text-align: right;\n",
       "    }\n",
       "</style>\n",
       "<table border=\"1\" class=\"dataframe\">\n",
       "  <thead>\n",
       "    <tr style=\"text-align: right;\">\n",
       "      <th></th>\n",
       "      <th>Measure</th>\n",
       "      <th>Year 2015 - 2014</th>\n",
       "      <th>Year 2014 - 2013</th>\n",
       "      <th>Year 2013 - 2012</th>\n",
       "      <th>Year 2012 - 2011</th>\n",
       "      <th>Year 2011 - 2010</th>\n",
       "    </tr>\n",
       "  </thead>\n",
       "  <tbody>\n",
       "    <tr>\n",
       "      <th>0</th>\n",
       "      <td>Endowment Assets x $1000</td>\n",
       "      <td>121962</td>\n",
       "      <td>113909</td>\n",
       "      <td>100825</td>\n",
       "      <td>89521</td>\n",
       "      <td>81760</td>\n",
       "    </tr>\n",
       "    <tr>\n",
       "      <th>1</th>\n",
       "      <td>Annual Giving x $1000</td>\n",
       "      <td>20309</td>\n",
       "      <td>15457</td>\n",
       "      <td>14157</td>\n",
       "      <td>12179</td>\n",
       "      <td>30899</td>\n",
       "    </tr>\n",
       "    <tr>\n",
       "      <th>2</th>\n",
       "      <td>National Academy Members</td>\n",
       "      <td>1</td>\n",
       "      <td>0</td>\n",
       "      <td>0</td>\n",
       "      <td>0</td>\n",
       "      <td>0</td>\n",
       "    </tr>\n",
       "    <tr>\n",
       "      <th>3</th>\n",
       "      <td>Faculty Awards</td>\n",
       "      <td>7</td>\n",
       "      <td>1</td>\n",
       "      <td>1</td>\n",
       "      <td>4</td>\n",
       "      <td>1</td>\n",
       "    </tr>\n",
       "    <tr>\n",
       "      <th>4</th>\n",
       "      <td>Doctorates Awared</td>\n",
       "      <td>109</td>\n",
       "      <td>106</td>\n",
       "      <td>92</td>\n",
       "      <td>77</td>\n",
       "      <td>69</td>\n",
       "    </tr>\n",
       "    <tr>\n",
       "      <th>5</th>\n",
       "      <td>Total Research x $1000</td>\n",
       "      <td>42318</td>\n",
       "      <td>48599</td>\n",
       "      <td>48700</td>\n",
       "      <td>50496</td>\n",
       "      <td>51480</td>\n",
       "    </tr>\n",
       "    <tr>\n",
       "      <th>6</th>\n",
       "      <td>Federal Research x $1000</td>\n",
       "      <td>22518</td>\n",
       "      <td>28066</td>\n",
       "      <td>29168</td>\n",
       "      <td>28011</td>\n",
       "      <td>27036</td>\n",
       "    </tr>\n",
       "    <tr>\n",
       "      <th>7</th>\n",
       "      <td>Postdoctoral Appointees</td>\n",
       "      <td>52</td>\n",
       "      <td>45</td>\n",
       "      <td>48</td>\n",
       "      <td>43</td>\n",
       "      <td>39</td>\n",
       "    </tr>\n",
       "  </tbody>\n",
       "</table>\n",
       "</div>"
      ],
      "text/plain": [
       "                    Measure  Year 2015 - 2014  Year 2014 - 2013  \\\n",
       "0  Endowment Assets x $1000            121962            113909   \n",
       "1     Annual Giving x $1000             20309             15457   \n",
       "2  National Academy Members                 1                 0   \n",
       "3            Faculty Awards                 7                 1   \n",
       "4         Doctorates Awared               109               106   \n",
       "5    Total Research x $1000             42318             48599   \n",
       "6  Federal Research x $1000             22518             28066   \n",
       "7   Postdoctoral Appointees                52                45   \n",
       "\n",
       "   Year 2013 - 2012  Year 2012 - 2011  Year 2011 - 2010  \n",
       "0            100825             89521             81760  \n",
       "1             14157             12179             30899  \n",
       "2                 0                 0                 0  \n",
       "3                 1                 4                 1  \n",
       "4                92                77                69  \n",
       "5             48700             50496             51480  \n",
       "6             29168             28011             27036  \n",
       "7                48                43                39  "
      ]
     },
     "execution_count": 17,
     "metadata": {},
     "output_type": "execute_result"
    }
   ],
   "source": [
    "pd.DataFrame.from_dict(utsa_dict)"
   ]
  },
  {
   "cell_type": "code",
   "execution_count": 18,
   "metadata": {},
   "outputs": [],
   "source": [
    "AAU_df = pd.read_excel('AAU.xlsx',sheet_name='Total Research 2008')"
   ]
  },
  {
   "cell_type": "code",
   "execution_count": 19,
   "metadata": {},
   "outputs": [
    {
     "data": {
      "text/html": [
       "<div>\n",
       "<style scoped>\n",
       "    .dataframe tbody tr th:only-of-type {\n",
       "        vertical-align: middle;\n",
       "    }\n",
       "\n",
       "    .dataframe tbody tr th {\n",
       "        vertical-align: top;\n",
       "    }\n",
       "\n",
       "    .dataframe thead th {\n",
       "        text-align: right;\n",
       "    }\n",
       "</style>\n",
       "<table border=\"1\" class=\"dataframe\">\n",
       "  <thead>\n",
       "    <tr style=\"text-align: right;\">\n",
       "      <th></th>\n",
       "      <th>Percentile</th>\n",
       "      <th>Total Research x $1000</th>\n",
       "      <th>Unnamed: 2</th>\n",
       "      <th>Institution</th>\n",
       "      <th>Total Research x $1000.1</th>\n",
       "      <th>Average</th>\n",
       "    </tr>\n",
       "  </thead>\n",
       "  <tbody>\n",
       "    <tr>\n",
       "      <th>0</th>\n",
       "      <td>20th</td>\n",
       "      <td>249503</td>\n",
       "      <td>NaN</td>\n",
       "      <td>Brandeis University</td>\n",
       "      <td>49797.000000</td>\n",
       "      <td>153561.825081</td>\n",
       "    </tr>\n",
       "    <tr>\n",
       "      <th>1</th>\n",
       "      <td>40th</td>\n",
       "      <td>379182</td>\n",
       "      <td>NaN</td>\n",
       "      <td>University of Oregon</td>\n",
       "      <td>67378.000000</td>\n",
       "      <td>NaN</td>\n",
       "    </tr>\n",
       "    <tr>\n",
       "      <th>2</th>\n",
       "      <td>60th</td>\n",
       "      <td>515890</td>\n",
       "      <td>NaN</td>\n",
       "      <td>Rice University</td>\n",
       "      <td>74254.000000</td>\n",
       "      <td>NaN</td>\n",
       "    </tr>\n",
       "    <tr>\n",
       "      <th>3</th>\n",
       "      <td>80th</td>\n",
       "      <td>649362</td>\n",
       "      <td>NaN</td>\n",
       "      <td>University of Kansas - Lawrence</td>\n",
       "      <td>111510.436196</td>\n",
       "      <td>NaN</td>\n",
       "    </tr>\n",
       "    <tr>\n",
       "      <th>4</th>\n",
       "      <td>NaN</td>\n",
       "      <td>NaN</td>\n",
       "      <td>NaN</td>\n",
       "      <td>Indiana University - Bloomington</td>\n",
       "      <td>150788.464770</td>\n",
       "      <td>NaN</td>\n",
       "    </tr>\n",
       "  </tbody>\n",
       "</table>\n",
       "</div>"
      ],
      "text/plain": [
       "  Percentile Total Research x $1000  Unnamed: 2  \\\n",
       "0       20th                 249503         NaN   \n",
       "1       40th                 379182         NaN   \n",
       "2       60th                 515890         NaN   \n",
       "3       80th                 649362         NaN   \n",
       "4        NaN                    NaN         NaN   \n",
       "\n",
       "                        Institution  Total Research x $1000.1        Average  \n",
       "0               Brandeis University              49797.000000  153561.825081  \n",
       "1              University of Oregon              67378.000000            NaN  \n",
       "2                   Rice University              74254.000000            NaN  \n",
       "3   University of Kansas - Lawrence             111510.436196            NaN  \n",
       "4  Indiana University - Bloomington             150788.464770            NaN  "
      ]
     },
     "execution_count": 19,
     "metadata": {},
     "output_type": "execute_result"
    }
   ],
   "source": [
    "AAU_df.head()"
   ]
  },
  {
   "cell_type": "code",
   "execution_count": 20,
   "metadata": {},
   "outputs": [],
   "source": [
    "AAU_list = AAU_df['Institution'].values"
   ]
  },
  {
   "cell_type": "code",
   "execution_count": 21,
   "metadata": {},
   "outputs": [
    {
     "data": {
      "text/plain": [
       "array(['Brandeis University', 'University of Oregon', 'Rice University',\n",
       "       'University of Kansas - Lawrence',\n",
       "       'Indiana University - Bloomington', 'Tulane University',\n",
       "       'Brown University', 'Princeton University',\n",
       "       'University of California - Santa Barbara',\n",
       "       'Carnegie Mellon University', 'Iowa State University',\n",
       "       'University of Missouri - Columbia', 'Stony Brook University',\n",
       "       'University of Virginia', 'University of Colorado - Boulder',\n",
       "       'California Institute of Technology', 'University of Iowa',\n",
       "       'Rutgers the State University of NJ - New Brunswick',\n",
       "       'New York University', 'University of California - Irvine',\n",
       "       'University at Buffalo', 'Michigan State University',\n",
       "       'University of Chicago', 'University of Rochester',\n",
       "       'University of Maryland - College Park',\n",
       "       'Case Western Reserve University', 'Vanderbilt University',\n",
       "       'Purdue University - West Lafayette', 'Emory University',\n",
       "       'Harvard University', 'Cornell University',\n",
       "       'Northwestern University', 'Yale University',\n",
       "       'University of Texas - Austin',\n",
       "       'University of Illinois - Urbana-Champaign',\n",
       "       'University of Southern California',\n",
       "       'Georgia Institute of Technology',\n",
       "       'University of North Carolina - Chapel Hill',\n",
       "       'University of Arizona', 'Columbia University',\n",
       "       'Washington University in St. Louis', 'Texas A&M University',\n",
       "       'University of Florida', 'University of California - Berkeley',\n",
       "       'University of Pittsburgh - Pittsburgh',\n",
       "       'Pennsylvania State University - University Park',\n",
       "       'University of California - Davis',\n",
       "       'Massachusetts Institute of Technology',\n",
       "       'University of Minnesota - Twin Cities', 'Stanford University',\n",
       "       'Ohio State University - Columbus', 'University of Pennsylvania',\n",
       "       'University of Washington - Seattle', 'Duke University',\n",
       "       'University of California - San Diego',\n",
       "       'University of California - Los Angeles',\n",
       "       'University of Michigan - Ann Arbor',\n",
       "       'University of Wisconsin - Madison', 'Johns Hopkins University'],\n",
       "      dtype=object)"
      ]
     },
     "execution_count": 21,
     "metadata": {},
     "output_type": "execute_result"
    }
   ],
   "source": [
    "AAU_list"
   ]
  },
  {
   "cell_type": "code",
   "execution_count": 22,
   "metadata": {},
   "outputs": [],
   "source": [
    "col_name = \"Institutions Reporting Any\\nFederal Research in Past Five Years\\n(in Alphabetical Order)\""
   ]
  },
  {
   "cell_type": "markdown",
   "metadata": {},
   "source": [
    "**Get different dataframe for AAU list**"
   ]
  },
  {
   "cell_type": "code",
   "execution_count": 23,
   "metadata": {},
   "outputs": [],
   "source": [
    "AAU_total_research = total_research[total_research[col_name].isin(AAU_list)].copy()"
   ]
  },
  {
   "cell_type": "code",
   "execution_count": 24,
   "metadata": {},
   "outputs": [],
   "source": [
    "AAU_total_research.drop(AAU_total_research.columns[0],axis=1,inplace=True)"
   ]
  },
  {
   "cell_type": "code",
   "execution_count": 25,
   "metadata": {},
   "outputs": [],
   "source": [
    "AAU_fed_research = federal_research[federal_research[col_name].isin(AAU_list)].copy().drop(federal_research.columns[0],axis=1)"
   ]
  },
  {
   "cell_type": "code",
   "execution_count": 26,
   "metadata": {},
   "outputs": [],
   "source": [
    "AAU_endow_assets = endowment_asserts[endowment_asserts[col_name].isin(AAU_list)].copy()"
   ]
  },
  {
   "cell_type": "code",
   "execution_count": 27,
   "metadata": {},
   "outputs": [],
   "source": [
    "AAU_endow_assets.drop(AAU_endow_assets.columns[0],axis=1,inplace=True)"
   ]
  },
  {
   "cell_type": "code",
   "execution_count": 28,
   "metadata": {},
   "outputs": [],
   "source": [
    "AAU_annual_giving = annual_giving[annual_giving[col_name].isin(AAU_list)].copy()"
   ]
  },
  {
   "cell_type": "code",
   "execution_count": 29,
   "metadata": {},
   "outputs": [],
   "source": [
    "AAU_annual_giving.drop(AAU_annual_giving.columns[0],axis=1,inplace=True)"
   ]
  },
  {
   "cell_type": "code",
   "execution_count": 30,
   "metadata": {},
   "outputs": [],
   "source": [
    "AAU_nat_member = natl_academy[natl_academy[col_name].isin(AAU_list)].copy()"
   ]
  },
  {
   "cell_type": "code",
   "execution_count": 31,
   "metadata": {},
   "outputs": [],
   "source": [
    "AAU_nat_member.drop(AAU_nat_member.columns[0],axis=1,inplace=True)"
   ]
  },
  {
   "cell_type": "code",
   "execution_count": 32,
   "metadata": {},
   "outputs": [],
   "source": [
    "AAU_fac_award = faculty_awards[faculty_awards[col_name].isin(AAU_list)].copy()"
   ]
  },
  {
   "cell_type": "code",
   "execution_count": 33,
   "metadata": {},
   "outputs": [],
   "source": [
    "AAU_fac_award.drop(AAU_fac_award.columns[0],axis=1,inplace=True)"
   ]
  },
  {
   "cell_type": "code",
   "execution_count": 34,
   "metadata": {},
   "outputs": [],
   "source": [
    "AAU_doc_award = dr_awards[dr_awards[col_name].isin(AAU_list)].copy()"
   ]
  },
  {
   "cell_type": "code",
   "execution_count": 35,
   "metadata": {},
   "outputs": [],
   "source": [
    "AAU_doc_award.drop(AAU_doc_award.columns[0],axis=1,inplace=True)"
   ]
  },
  {
   "cell_type": "code",
   "execution_count": 36,
   "metadata": {},
   "outputs": [],
   "source": [
    "AAU_postdoc = postdocs[postdocs[col_name].isin(AAU_list)].copy()"
   ]
  },
  {
   "cell_type": "code",
   "execution_count": 37,
   "metadata": {},
   "outputs": [],
   "source": [
    "AAU_postdoc.drop(AAU_postdoc.columns[0],axis=1,inplace=True)"
   ]
  },
  {
   "cell_type": "markdown",
   "metadata": {},
   "source": [
    "**Total Research for AAU In Year 15-14**"
   ]
  },
  {
   "cell_type": "code",
   "execution_count": 38,
   "metadata": {},
   "outputs": [],
   "source": [
    "search_string = '2014\\n***\\nTotal Research \\n x $1000'"
   ]
  },
  {
   "cell_type": "code",
   "execution_count": 39,
   "metadata": {},
   "outputs": [],
   "source": [
    "TResearch_1514_20th = np.percentile(AAU_total_research[search_string],[0,20])"
   ]
  },
  {
   "cell_type": "code",
   "execution_count": 40,
   "metadata": {},
   "outputs": [
    {
     "data": {
      "text/plain": [
       "189320"
      ]
     },
     "execution_count": 40,
     "metadata": {},
     "output_type": "execute_result"
    }
   ],
   "source": [
    "#Average Total Research for AAU Univerisiies in 2014 (0th-20th)\n",
    "AAU_total_research[(AAU_total_research[search_string] >= TResearch_1514_20th[0]) & (AAU_total_research[search_string] <= TResearch_1514_20th[1])][search_string].mean().astype(int)"
   ]
  },
  {
   "cell_type": "code",
   "execution_count": 43,
   "metadata": {},
   "outputs": [],
   "source": [
    "TResearch_1514_40th = np.percentile(AAU_total_research[search_string],[21,40])"
   ]
  },
  {
   "cell_type": "code",
   "execution_count": 44,
   "metadata": {},
   "outputs": [
    {
     "data": {
      "text/plain": [
       "372768"
      ]
     },
     "execution_count": 44,
     "metadata": {},
     "output_type": "execute_result"
    }
   ],
   "source": [
    "#Average Total Research for AAU Univerisiies in 2014 (21st-40th)\n",
    "AAU_total_research[(AAU_total_research[search_string] >= TResearch_1514_40th[0]) & (AAU_total_research[search_string] <= TResearch_1514_40th[1])][search_string].mean().astype(int)"
   ]
  },
  {
   "cell_type": "code",
   "execution_count": 46,
   "metadata": {},
   "outputs": [],
   "source": [
    "TResearch_1514_60th = np.percentile(AAU_total_research[search_string],[41,60])"
   ]
  },
  {
   "cell_type": "code",
   "execution_count": 47,
   "metadata": {},
   "outputs": [
    {
     "data": {
      "text/plain": [
       "567036"
      ]
     },
     "execution_count": 47,
     "metadata": {},
     "output_type": "execute_result"
    }
   ],
   "source": [
    "#Average Total Research for AAU Univerisiies in 2014 (41st-60th)\n",
    "AAU_total_research[(AAU_total_research[search_string] >= TResearch_1514_60th[0]) & (AAU_total_research[search_string] <= TResearch_1514_60th[1])][search_string].mean().astype(int)"
   ]
  },
  {
   "cell_type": "code",
   "execution_count": 48,
   "metadata": {},
   "outputs": [],
   "source": [
    "TResearch_1514_80th = np.percentile(AAU_total_research[search_string],[61,80])"
   ]
  },
  {
   "cell_type": "code",
   "execution_count": 49,
   "metadata": {},
   "outputs": [
    {
     "data": {
      "text/plain": [
       "745075"
      ]
     },
     "execution_count": 49,
     "metadata": {},
     "output_type": "execute_result"
    }
   ],
   "source": [
    "#Average Total Research for AAU Univerisiies in 2014 (61st-80th)\n",
    "AAU_total_research[(AAU_total_research[search_string] >= TResearch_1514_80th[0]) & (AAU_total_research[search_string] <= TResearch_1514_80th[1])][search_string].mean().astype(int)"
   ]
  },
  {
   "cell_type": "code",
   "execution_count": 50,
   "metadata": {},
   "outputs": [],
   "source": [
    "TResearch_1514_100th = np.percentile(AAU_total_research[search_string],[81,100])"
   ]
  },
  {
   "cell_type": "code",
   "execution_count": 51,
   "metadata": {},
   "outputs": [
    {
     "data": {
      "text/plain": [
       "1108144"
      ]
     },
     "execution_count": 51,
     "metadata": {},
     "output_type": "execute_result"
    }
   ],
   "source": [
    "#Average Total Research for AAU Univerisiies in 2014 (61st-80th)\n",
    "AAU_total_research[(AAU_total_research[search_string] >= TResearch_1514_100th[0]) & (AAU_total_research[search_string] <= TResearch_1514_100th[1])][search_string].mean().astype(int)"
   ]
  },
  {
   "cell_type": "markdown",
   "metadata": {},
   "source": [
    "**Federal Research for AAU In Year 15-14**"
   ]
  },
  {
   "cell_type": "code",
   "execution_count": 68,
   "metadata": {},
   "outputs": [],
   "source": [
    "search_string_1 = '2014\\n***\\nFederal Research \\n x $1000'"
   ]
  },
  {
   "cell_type": "code",
   "execution_count": 69,
   "metadata": {},
   "outputs": [],
   "source": [
    "FResearch_1514_20th = np.percentile(AAU_fed_research[search_string_1],[0,20])"
   ]
  },
  {
   "cell_type": "code",
   "execution_count": 70,
   "metadata": {},
   "outputs": [
    {
     "data": {
      "text/plain": [
       "98634"
      ]
     },
     "execution_count": 70,
     "metadata": {},
     "output_type": "execute_result"
    }
   ],
   "source": [
    "#Average Federal Research for AAU Univerisiies in 2014 (0th-20th)\n",
    "AAU_fed_research[(AAU_fed_research[search_string_1] >= FResearch_1514_20th[0]) & (AAU_fed_research[search_string_1] <= FResearch_1514_20th[1])][search_string_1].mean().astype(int)"
   ]
  },
  {
   "cell_type": "code",
   "execution_count": 72,
   "metadata": {},
   "outputs": [],
   "source": [
    "FResearch_1514_40th = np.percentile(AAU_fed_research[search_string_1],[21,40])"
   ]
  },
  {
   "cell_type": "code",
   "execution_count": 73,
   "metadata": {},
   "outputs": [
    {
     "data": {
      "text/plain": [
       "233178"
      ]
     },
     "execution_count": 73,
     "metadata": {},
     "output_type": "execute_result"
    }
   ],
   "source": [
    "#Average Federal Research for AAU Univerisiies in 2014 (21st-40th)\n",
    "AAU_fed_research[(AAU_fed_research[search_string_1] >= FResearch_1514_40th[0]) & (AAU_fed_research[search_string_1] <= FResearch_1514_40th[1])][search_string_1].mean().astype(int)"
   ]
  },
  {
   "cell_type": "code",
   "execution_count": 74,
   "metadata": {},
   "outputs": [],
   "source": [
    "FResearch_1514_60th = np.percentile(AAU_fed_research[search_string_1],[41,60])"
   ]
  },
  {
   "cell_type": "code",
   "execution_count": 75,
   "metadata": {},
   "outputs": [
    {
     "data": {
      "text/plain": [
       "316114"
      ]
     },
     "execution_count": 75,
     "metadata": {},
     "output_type": "execute_result"
    }
   ],
   "source": [
    "#Average Federal Research for AAU Univerisiies in 2014 (-60th)\n",
    "AAU_fed_research[(AAU_fed_research[search_string_1] >= FResearch_1514_60th[0]) & (AAU_fed_research[search_string_1] <= FResearch_1514_60th[1])][search_string_1].mean().astype(int)"
   ]
  },
  {
   "cell_type": "code",
   "execution_count": 77,
   "metadata": {},
   "outputs": [],
   "source": [
    "FResearch_1514_80th = np.percentile(AAU_fed_research[search_string_1],[61,80])"
   ]
  },
  {
   "cell_type": "code",
   "execution_count": 78,
   "metadata": {},
   "outputs": [
    {
     "data": {
      "text/plain": [
       "452751"
      ]
     },
     "execution_count": 78,
     "metadata": {},
     "output_type": "execute_result"
    }
   ],
   "source": [
    "#Average Federal Research for AAU Univerisiies in 2014 (41th-60th)\n",
    "AAU_fed_research[(AAU_fed_research[search_string_1] >= FResearch_1514_80th[0]) & (AAU_fed_research[search_string_1] <= FResearch_1514_80th[1])][search_string_1].mean().astype(int)"
   ]
  },
  {
   "cell_type": "code",
   "execution_count": 79,
   "metadata": {},
   "outputs": [],
   "source": [
    "FResearch_1514_100th = np.percentile(AAU_fed_research[search_string_1],[81,100])"
   ]
  },
  {
   "cell_type": "code",
   "execution_count": null,
   "metadata": {},
   "outputs": [],
   "source": [
    "#Average Federal Research for AAU Univerisiies in 2014 (41th-60th)\n",
    "AAU_fed_research[(AAU_fed_research[search_string_1] >= FResearch_1514_80th[0]) & (AAU_fed_research[search_string_1] <= FResearch_1514_80th[1])][search_string_1].mean().astype(int)"
   ]
  }
 ],
 "metadata": {
  "kernelspec": {
   "display_name": "Python 3",
   "language": "python",
   "name": "python3"
  },
  "language_info": {
   "codemirror_mode": {
    "name": "ipython",
    "version": 3
   },
   "file_extension": ".py",
   "mimetype": "text/x-python",
   "name": "python",
   "nbconvert_exporter": "python",
   "pygments_lexer": "ipython3",
   "version": "3.6.5"
  }
 },
 "nbformat": 4,
 "nbformat_minor": 2
}
