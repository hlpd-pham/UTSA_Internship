{
 "cells": [
  {
   "cell_type": "code",
   "execution_count": 1,
   "metadata": {},
   "outputs": [],
   "source": [
    "import pandas as pd \n",
    "import numpy as np"
   ]
  },
  {
   "cell_type": "code",
   "execution_count": 2,
   "metadata": {},
   "outputs": [],
   "source": [
    "bac = pd.read_csv('Bachelor.csv')\n",
    "fte = pd.read_csv('fteFallEnroll.csv')"
   ]
  },
  {
   "cell_type": "code",
   "execution_count": 3,
   "metadata": {},
   "outputs": [],
   "source": [
    "datasets = [bac, fte]"
   ]
  },
  {
   "cell_type": "markdown",
   "metadata": {},
   "source": [
    "__Drop unnecessary columns__"
   ]
  },
  {
   "cell_type": "code",
   "execution_count": 4,
   "metadata": {},
   "outputs": [],
   "source": [
    "for dset in datasets:\n",
    "    dset.drop(['Unnamed: 6','UnitID'], axis=1, inplace=True)"
   ]
  },
  {
   "cell_type": "markdown",
   "metadata": {},
   "source": [
    "**Get sub-dataframe for extracting**"
   ]
  },
  {
   "cell_type": "code",
   "execution_count": 5,
   "metadata": {},
   "outputs": [],
   "source": [
    "peers_bac = bac[bac['Institution Name'] != 'The University of Texas at San Antonio'].drop('Institution Name',axis=1)"
   ]
  },
  {
   "cell_type": "code",
   "execution_count": 6,
   "metadata": {},
   "outputs": [],
   "source": [
    "peers_fte = fte[fte['Institution Name'] != 'The University of Texas at San Antonio'].drop('Institution Name',axis=1)"
   ]
  },
  {
   "cell_type": "code",
   "execution_count": 7,
   "metadata": {},
   "outputs": [],
   "source": [
    "median_bac = { 'Year':[], 'Median':[] }\n",
    "median_fte = { 'Year':[], 'Median':[] }"
   ]
  },
  {
   "cell_type": "markdown",
   "metadata": {},
   "source": [
    "**Calculate medians for granted degrees and fte students and put them into dictionaries**"
   ]
  },
  {
   "cell_type": "code",
   "execution_count": 8,
   "metadata": {},
   "outputs": [],
   "source": [
    "median_bac['Year'] = list(peers_bac.columns.values)\n",
    "for column in peers_bac:\n",
    "    median_bac['Median'].append(peers_bac[column].median())"
   ]
  },
  {
   "cell_type": "code",
   "execution_count": 9,
   "metadata": {},
   "outputs": [
    {
     "data": {
      "text/plain": [
       "{'Year': [\"Bachelor's degree (DRVC2012_RV)\",\n",
       "  \"Bachelor's degree (DRVC2011_RV)\",\n",
       "  \"Bachelor's degree (DRVC2010_RV)\",\n",
       "  \"Bachelor's degree (DRVC2009_RV)\"],\n",
       " 'Median': [4349.0, 4031.0, 3812.5, 3651.0]}"
      ]
     },
     "execution_count": 9,
     "metadata": {},
     "output_type": "execute_result"
    }
   ],
   "source": [
    "median_bac"
   ]
  },
  {
   "cell_type": "code",
   "execution_count": 10,
   "metadata": {},
   "outputs": [],
   "source": [
    "median_fte['Year'] = list(peers_fte.columns.values)\n",
    "for column in peers_fte:\n",
    "    median_fte['Median'].append(peers_fte[column].median())"
   ]
  },
  {
   "cell_type": "code",
   "execution_count": 11,
   "metadata": {
    "scrolled": false
   },
   "outputs": [
    {
     "data": {
      "text/plain": [
       "{'Year': ['Full-time equivalent fall enrollment (DRVEF2011_RV)',\n",
       "  'Full-time equivalent fall enrollment (DRVEF2010_RV)',\n",
       "  'Full-time equivalent fall enrollment (DRVEF2009_RV)',\n",
       "  'Full-time equivalent enrollment: Fall 2008 (DRVEF2008_RV)'],\n",
       " 'Median': [24002.0, 22954.0, 22179.5, 20964.0]}"
      ]
     },
     "execution_count": 11,
     "metadata": {},
     "output_type": "execute_result"
    }
   ],
   "source": [
    "median_fte"
   ]
  },
  {
   "cell_type": "markdown",
   "metadata": {},
   "source": [
    "**Transform dictionaries into dataframes**"
   ]
  },
  {
   "cell_type": "code",
   "execution_count": 12,
   "metadata": {},
   "outputs": [
    {
     "data": {
      "text/html": [
       "<div>\n",
       "<style scoped>\n",
       "    .dataframe tbody tr th:only-of-type {\n",
       "        vertical-align: middle;\n",
       "    }\n",
       "\n",
       "    .dataframe tbody tr th {\n",
       "        vertical-align: top;\n",
       "    }\n",
       "\n",
       "    .dataframe thead th {\n",
       "        text-align: right;\n",
       "    }\n",
       "</style>\n",
       "<table border=\"1\" class=\"dataframe\">\n",
       "  <thead>\n",
       "    <tr style=\"text-align: right;\">\n",
       "      <th></th>\n",
       "      <th>Year</th>\n",
       "      <th>Median</th>\n",
       "    </tr>\n",
       "  </thead>\n",
       "  <tbody>\n",
       "    <tr>\n",
       "      <th>0</th>\n",
       "      <td>Bachelor's degree (DRVC2012_RV)</td>\n",
       "      <td>4349.0</td>\n",
       "    </tr>\n",
       "    <tr>\n",
       "      <th>1</th>\n",
       "      <td>Bachelor's degree (DRVC2011_RV)</td>\n",
       "      <td>4031.0</td>\n",
       "    </tr>\n",
       "    <tr>\n",
       "      <th>2</th>\n",
       "      <td>Bachelor's degree (DRVC2010_RV)</td>\n",
       "      <td>3812.5</td>\n",
       "    </tr>\n",
       "    <tr>\n",
       "      <th>3</th>\n",
       "      <td>Bachelor's degree (DRVC2009_RV)</td>\n",
       "      <td>3651.0</td>\n",
       "    </tr>\n",
       "  </tbody>\n",
       "</table>\n",
       "</div>"
      ],
      "text/plain": [
       "                              Year  Median\n",
       "0  Bachelor's degree (DRVC2012_RV)  4349.0\n",
       "1  Bachelor's degree (DRVC2011_RV)  4031.0\n",
       "2  Bachelor's degree (DRVC2010_RV)  3812.5\n",
       "3  Bachelor's degree (DRVC2009_RV)  3651.0"
      ]
     },
     "execution_count": 12,
     "metadata": {},
     "output_type": "execute_result"
    }
   ],
   "source": [
    "bac_df = pd.DataFrame(median_bac)\n",
    "bac_df"
   ]
  },
  {
   "cell_type": "code",
   "execution_count": 13,
   "metadata": {
    "scrolled": true
   },
   "outputs": [
    {
     "data": {
      "text/html": [
       "<div>\n",
       "<style scoped>\n",
       "    .dataframe tbody tr th:only-of-type {\n",
       "        vertical-align: middle;\n",
       "    }\n",
       "\n",
       "    .dataframe tbody tr th {\n",
       "        vertical-align: top;\n",
       "    }\n",
       "\n",
       "    .dataframe thead th {\n",
       "        text-align: right;\n",
       "    }\n",
       "</style>\n",
       "<table border=\"1\" class=\"dataframe\">\n",
       "  <thead>\n",
       "    <tr style=\"text-align: right;\">\n",
       "      <th></th>\n",
       "      <th>Year</th>\n",
       "      <th>Median</th>\n",
       "    </tr>\n",
       "  </thead>\n",
       "  <tbody>\n",
       "    <tr>\n",
       "      <th>0</th>\n",
       "      <td>Full-time equivalent fall enrollment (DRVEF201...</td>\n",
       "      <td>24002.0</td>\n",
       "    </tr>\n",
       "    <tr>\n",
       "      <th>1</th>\n",
       "      <td>Full-time equivalent fall enrollment (DRVEF201...</td>\n",
       "      <td>22954.0</td>\n",
       "    </tr>\n",
       "    <tr>\n",
       "      <th>2</th>\n",
       "      <td>Full-time equivalent fall enrollment (DRVEF200...</td>\n",
       "      <td>22179.5</td>\n",
       "    </tr>\n",
       "    <tr>\n",
       "      <th>3</th>\n",
       "      <td>Full-time equivalent enrollment: Fall 2008 (DR...</td>\n",
       "      <td>20964.0</td>\n",
       "    </tr>\n",
       "  </tbody>\n",
       "</table>\n",
       "</div>"
      ],
      "text/plain": [
       "                                                Year   Median\n",
       "0  Full-time equivalent fall enrollment (DRVEF201...  24002.0\n",
       "1  Full-time equivalent fall enrollment (DRVEF201...  22954.0\n",
       "2  Full-time equivalent fall enrollment (DRVEF200...  22179.5\n",
       "3  Full-time equivalent enrollment: Fall 2008 (DR...  20964.0"
      ]
     },
     "execution_count": 13,
     "metadata": {},
     "output_type": "execute_result"
    }
   ],
   "source": [
    "fte_df = pd.DataFrame(median_fte)\n",
    "fte_df"
   ]
  },
  {
   "cell_type": "markdown",
   "metadata": {},
   "source": [
    "**Extract similar columns for UTSA (fte and bac)"
   ]
  },
  {
   "cell_type": "code",
   "execution_count": 14,
   "metadata": {},
   "outputs": [
    {
     "data": {
      "text/html": [
       "<div>\n",
       "<style scoped>\n",
       "    .dataframe tbody tr th:only-of-type {\n",
       "        vertical-align: middle;\n",
       "    }\n",
       "\n",
       "    .dataframe tbody tr th {\n",
       "        vertical-align: top;\n",
       "    }\n",
       "\n",
       "    .dataframe thead th {\n",
       "        text-align: right;\n",
       "    }\n",
       "</style>\n",
       "<table border=\"1\" class=\"dataframe\">\n",
       "  <thead>\n",
       "    <tr style=\"text-align: right;\">\n",
       "      <th></th>\n",
       "      <th>Full-time equivalent fall enrollment (DRVEF2011_RV)</th>\n",
       "      <th>Full-time equivalent fall enrollment (DRVEF2010_RV)</th>\n",
       "      <th>Full-time equivalent fall enrollment (DRVEF2009_RV)</th>\n",
       "      <th>Full-time equivalent enrollment: Fall 2008 (DRVEF2008_RV)</th>\n",
       "    </tr>\n",
       "  </thead>\n",
       "  <tbody>\n",
       "    <tr>\n",
       "      <th>5</th>\n",
       "      <td>26320</td>\n",
       "      <td>25521</td>\n",
       "      <td>24302</td>\n",
       "      <td>23792</td>\n",
       "    </tr>\n",
       "  </tbody>\n",
       "</table>\n",
       "</div>"
      ],
      "text/plain": [
       "   Full-time equivalent fall enrollment (DRVEF2011_RV)  \\\n",
       "5                                              26320     \n",
       "\n",
       "   Full-time equivalent fall enrollment (DRVEF2010_RV)  \\\n",
       "5                                              25521     \n",
       "\n",
       "   Full-time equivalent fall enrollment (DRVEF2009_RV)  \\\n",
       "5                                              24302     \n",
       "\n",
       "   Full-time equivalent enrollment: Fall 2008 (DRVEF2008_RV)  \n",
       "5                                              23792          "
      ]
     },
     "execution_count": 14,
     "metadata": {},
     "output_type": "execute_result"
    }
   ],
   "source": [
    "utsa_fte = fte[fte['Institution Name'] == 'The University of Texas at San Antonio'].drop('Institution Name',axis=1)\n",
    "utsa_fte"
   ]
  },
  {
   "cell_type": "code",
   "execution_count": 15,
   "metadata": {},
   "outputs": [
    {
     "data": {
      "text/html": [
       "<div>\n",
       "<style scoped>\n",
       "    .dataframe tbody tr th:only-of-type {\n",
       "        vertical-align: middle;\n",
       "    }\n",
       "\n",
       "    .dataframe tbody tr th {\n",
       "        vertical-align: top;\n",
       "    }\n",
       "\n",
       "    .dataframe thead th {\n",
       "        text-align: right;\n",
       "    }\n",
       "</style>\n",
       "<table border=\"1\" class=\"dataframe\">\n",
       "  <thead>\n",
       "    <tr style=\"text-align: right;\">\n",
       "      <th></th>\n",
       "      <th>Bachelor's degree (DRVC2012_RV)</th>\n",
       "      <th>Bachelor's degree (DRVC2011_RV)</th>\n",
       "      <th>Bachelor's degree (DRVC2010_RV)</th>\n",
       "      <th>Bachelor's degree (DRVC2009_RV)</th>\n",
       "    </tr>\n",
       "  </thead>\n",
       "  <tbody>\n",
       "    <tr>\n",
       "      <th>5</th>\n",
       "      <td>4225</td>\n",
       "      <td>4138</td>\n",
       "      <td>3881</td>\n",
       "      <td>3801</td>\n",
       "    </tr>\n",
       "  </tbody>\n",
       "</table>\n",
       "</div>"
      ],
      "text/plain": [
       "   Bachelor's degree (DRVC2012_RV)  Bachelor's degree (DRVC2011_RV)  \\\n",
       "5                             4225                             4138   \n",
       "\n",
       "   Bachelor's degree (DRVC2010_RV)  Bachelor's degree (DRVC2009_RV)  \n",
       "5                             3881                             3801  "
      ]
     },
     "execution_count": 15,
     "metadata": {},
     "output_type": "execute_result"
    }
   ],
   "source": [
    "utsa_bac = bac[bac['Institution Name'] == 'The University of Texas at San Antonio'].drop('Institution Name',axis=1)\n",
    "utsa_bac"
   ]
  },
  {
   "cell_type": "code",
   "execution_count": 16,
   "metadata": {},
   "outputs": [],
   "source": [
    "utsa_fte_list = list(utsa_fte.loc[5])"
   ]
  },
  {
   "cell_type": "code",
   "execution_count": 17,
   "metadata": {},
   "outputs": [],
   "source": [
    "utsa_bac_list = list(utsa_bac.loc[5])"
   ]
  },
  {
   "cell_type": "markdown",
   "metadata": {},
   "source": [
    "**And merge the information into the two dataframes created previously**"
   ]
  },
  {
   "cell_type": "code",
   "execution_count": 19,
   "metadata": {},
   "outputs": [
    {
     "data": {
      "text/html": [
       "<div>\n",
       "<style scoped>\n",
       "    .dataframe tbody tr th:only-of-type {\n",
       "        vertical-align: middle;\n",
       "    }\n",
       "\n",
       "    .dataframe tbody tr th {\n",
       "        vertical-align: top;\n",
       "    }\n",
       "\n",
       "    .dataframe thead th {\n",
       "        text-align: right;\n",
       "    }\n",
       "</style>\n",
       "<table border=\"1\" class=\"dataframe\">\n",
       "  <thead>\n",
       "    <tr style=\"text-align: right;\">\n",
       "      <th></th>\n",
       "      <th>Year</th>\n",
       "      <th>Median</th>\n",
       "      <th>UTSA</th>\n",
       "    </tr>\n",
       "  </thead>\n",
       "  <tbody>\n",
       "    <tr>\n",
       "      <th>0</th>\n",
       "      <td>Bachelor's degree (DRVC2012_RV)</td>\n",
       "      <td>4349.0</td>\n",
       "      <td>4225</td>\n",
       "    </tr>\n",
       "    <tr>\n",
       "      <th>1</th>\n",
       "      <td>Bachelor's degree (DRVC2011_RV)</td>\n",
       "      <td>4031.0</td>\n",
       "      <td>4138</td>\n",
       "    </tr>\n",
       "    <tr>\n",
       "      <th>2</th>\n",
       "      <td>Bachelor's degree (DRVC2010_RV)</td>\n",
       "      <td>3812.5</td>\n",
       "      <td>3881</td>\n",
       "    </tr>\n",
       "    <tr>\n",
       "      <th>3</th>\n",
       "      <td>Bachelor's degree (DRVC2009_RV)</td>\n",
       "      <td>3651.0</td>\n",
       "      <td>3801</td>\n",
       "    </tr>\n",
       "  </tbody>\n",
       "</table>\n",
       "</div>"
      ],
      "text/plain": [
       "                              Year  Median  UTSA\n",
       "0  Bachelor's degree (DRVC2012_RV)  4349.0  4225\n",
       "1  Bachelor's degree (DRVC2011_RV)  4031.0  4138\n",
       "2  Bachelor's degree (DRVC2010_RV)  3812.5  3881\n",
       "3  Bachelor's degree (DRVC2009_RV)  3651.0  3801"
      ]
     },
     "execution_count": 19,
     "metadata": {},
     "output_type": "execute_result"
    }
   ],
   "source": [
    "bac_df['UTSA'] = utsa_bac_list\n",
    "bac_df"
   ]
  },
  {
   "cell_type": "code",
   "execution_count": 20,
   "metadata": {},
   "outputs": [
    {
     "data": {
      "text/html": [
       "<div>\n",
       "<style scoped>\n",
       "    .dataframe tbody tr th:only-of-type {\n",
       "        vertical-align: middle;\n",
       "    }\n",
       "\n",
       "    .dataframe tbody tr th {\n",
       "        vertical-align: top;\n",
       "    }\n",
       "\n",
       "    .dataframe thead th {\n",
       "        text-align: right;\n",
       "    }\n",
       "</style>\n",
       "<table border=\"1\" class=\"dataframe\">\n",
       "  <thead>\n",
       "    <tr style=\"text-align: right;\">\n",
       "      <th></th>\n",
       "      <th>Year</th>\n",
       "      <th>Median</th>\n",
       "      <th>UTSA</th>\n",
       "    </tr>\n",
       "  </thead>\n",
       "  <tbody>\n",
       "    <tr>\n",
       "      <th>0</th>\n",
       "      <td>Full-time equivalent fall enrollment (DRVEF201...</td>\n",
       "      <td>24002.0</td>\n",
       "      <td>26320</td>\n",
       "    </tr>\n",
       "    <tr>\n",
       "      <th>1</th>\n",
       "      <td>Full-time equivalent fall enrollment (DRVEF201...</td>\n",
       "      <td>22954.0</td>\n",
       "      <td>25521</td>\n",
       "    </tr>\n",
       "    <tr>\n",
       "      <th>2</th>\n",
       "      <td>Full-time equivalent fall enrollment (DRVEF200...</td>\n",
       "      <td>22179.5</td>\n",
       "      <td>24302</td>\n",
       "    </tr>\n",
       "    <tr>\n",
       "      <th>3</th>\n",
       "      <td>Full-time equivalent enrollment: Fall 2008 (DR...</td>\n",
       "      <td>20964.0</td>\n",
       "      <td>23792</td>\n",
       "    </tr>\n",
       "  </tbody>\n",
       "</table>\n",
       "</div>"
      ],
      "text/plain": [
       "                                                Year   Median   UTSA\n",
       "0  Full-time equivalent fall enrollment (DRVEF201...  24002.0  26320\n",
       "1  Full-time equivalent fall enrollment (DRVEF201...  22954.0  25521\n",
       "2  Full-time equivalent fall enrollment (DRVEF200...  22179.5  24302\n",
       "3  Full-time equivalent enrollment: Fall 2008 (DR...  20964.0  23792"
      ]
     },
     "execution_count": 20,
     "metadata": {},
     "output_type": "execute_result"
    }
   ],
   "source": [
    "fte_df['UTSA'] = utsa_fte_list\n",
    "fte_df"
   ]
  },
  {
   "cell_type": "code",
   "execution_count": 32,
   "metadata": {},
   "outputs": [],
   "source": [
    "for item in range(4):\n",
    "    bac_df.loc[item,'Year'] = str(item + 2012)"
   ]
  },
  {
   "cell_type": "code",
   "execution_count": 34,
   "metadata": {},
   "outputs": [],
   "source": [
    "for item in range(4):\n",
    "    fte_df.loc[item,'Year'] = str(item + 2012)"
   ]
  },
  {
   "cell_type": "code",
   "execution_count": null,
   "metadata": {},
   "outputs": [],
   "source": []
  }
 ],
 "metadata": {
  "kernelspec": {
   "display_name": "Python 3",
   "language": "python",
   "name": "python3"
  },
  "language_info": {
   "codemirror_mode": {
    "name": "ipython",
    "version": 3
   },
   "file_extension": ".py",
   "mimetype": "text/x-python",
   "name": "python",
   "nbconvert_exporter": "python",
   "pygments_lexer": "ipython3",
   "version": "3.6.5"
  }
 },
 "nbformat": 4,
 "nbformat_minor": 2
}
