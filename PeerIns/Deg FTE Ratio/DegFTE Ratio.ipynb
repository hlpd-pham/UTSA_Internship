{
 "cells": [
  {
   "cell_type": "code",
   "execution_count": 1,
   "metadata": {},
   "outputs": [],
   "source": [
    "import pandas as pd \n",
    "import numpy as np\n",
    "import matplotlib.pyplot as plt\n",
    "import seaborn as sns"
   ]
  },
  {
   "cell_type": "code",
   "execution_count": 2,
   "metadata": {},
   "outputs": [],
   "source": [
    "sns.set_style('darkgrid')"
   ]
  },
  {
   "cell_type": "code",
   "execution_count": 3,
   "metadata": {},
   "outputs": [],
   "source": [
    "bac = pd.read_csv('Bachelor.csv')\n",
    "fte = pd.read_csv('fteFallEnroll.csv')"
   ]
  },
  {
   "cell_type": "code",
   "execution_count": 4,
   "metadata": {},
   "outputs": [],
   "source": [
    "datasets = [bac, fte]"
   ]
  },
  {
   "cell_type": "markdown",
   "metadata": {},
   "source": [
    "__Drop unnecessary columns__"
   ]
  },
  {
   "cell_type": "code",
   "execution_count": 5,
   "metadata": {},
   "outputs": [],
   "source": [
    "for dset in datasets:\n",
    "    dset.drop(['Unnamed: 7','UnitID'], axis=1, inplace=True)"
   ]
  },
  {
   "cell_type": "markdown",
   "metadata": {},
   "source": [
    "**Get sub-dataframe for extracting**"
   ]
  },
  {
   "cell_type": "code",
   "execution_count": 6,
   "metadata": {},
   "outputs": [],
   "source": [
    "peers_bac = bac[bac['Institution Name'] != 'The University of Texas at San Antonio'].drop('Institution Name',axis=1)"
   ]
  },
  {
   "cell_type": "code",
   "execution_count": 7,
   "metadata": {},
   "outputs": [],
   "source": [
    "peers_fte = fte[fte['Institution Name'] != 'The University of Texas at San Antonio'].drop('Institution Name',axis=1)"
   ]
  },
  {
   "cell_type": "code",
   "execution_count": 8,
   "metadata": {},
   "outputs": [],
   "source": [
    "median_bac = { 'Year':[], 'Median':[] }\n",
    "median_fte = { 'Year':[], 'Median':[] }"
   ]
  },
  {
   "cell_type": "markdown",
   "metadata": {},
   "source": [
    "**Calculate medians for granted degrees and fte students and put them into dictionaries**"
   ]
  },
  {
   "cell_type": "code",
   "execution_count": 9,
   "metadata": {},
   "outputs": [],
   "source": [
    "median_bac['Year'] = list(peers_bac.columns.values)\n",
    "for column in peers_bac:\n",
    "    median_bac['Median'].append(peers_bac[column].median())"
   ]
  },
  {
   "cell_type": "code",
   "execution_count": 10,
   "metadata": {},
   "outputs": [
    {
     "data": {
      "text/plain": [
       "{'Year': [\"Number of students receiving a Bachelor's degree (DRVC2016)\",\n",
       "  \"Number of students receiving a Bachelor's degree (DRVC2015_RV)\",\n",
       "  \"Number of students receiving a Bachelor's degree (DRVC2014_RV)\",\n",
       "  \"Number of students receiving a Bachelor's degree (DRVC2013_RV)\",\n",
       "  \"Number of students receiving a Bachelor's degree (DRVC2012_RV)\"],\n",
       " 'Median': [4589.5, 4644.5, 4599.0, 4512.5, 4285.0]}"
      ]
     },
     "execution_count": 10,
     "metadata": {},
     "output_type": "execute_result"
    }
   ],
   "source": [
    "median_bac"
   ]
  },
  {
   "cell_type": "code",
   "execution_count": 11,
   "metadata": {},
   "outputs": [],
   "source": [
    "median_fte['Year'] = list(peers_fte.columns.values)\n",
    "for column in peers_fte:\n",
    "    median_fte['Median'].append(peers_fte[column].median())"
   ]
  },
  {
   "cell_type": "code",
   "execution_count": 12,
   "metadata": {
    "scrolled": false
   },
   "outputs": [
    {
     "data": {
      "text/plain": [
       "{'Year': ['Reported full-time equivalent (FTE) undergraduate enrollment  2012-13 (EFIA2013_RV)',\n",
       "  'Reported full-time equivalent (FTE) undergraduate enrollment  2011-12 (EFIA2012_RV)',\n",
       "  'Reported full-time equivalent (FTE) undergraduate enrollment  2010-11 (EFIA2011_RV)',\n",
       "  'Reported full-time equivalent (FTE) undergraduate enrollment  2009-10 (EFIA2010_RV)',\n",
       "  'Reported full-time equivalent (FTE) undergraduate enrollment  2008-09 (EFIA2009_RV)'],\n",
       " 'Median': [19835.5, 19856.0, 18921.0, 18053.0, 17122.5]}"
      ]
     },
     "execution_count": 12,
     "metadata": {},
     "output_type": "execute_result"
    }
   ],
   "source": [
    "median_fte"
   ]
  },
  {
   "cell_type": "markdown",
   "metadata": {},
   "source": [
    "**Transform dictionaries into dataframes**"
   ]
  },
  {
   "cell_type": "code",
   "execution_count": 13,
   "metadata": {},
   "outputs": [
    {
     "data": {
      "text/html": [
       "<div>\n",
       "<style scoped>\n",
       "    .dataframe tbody tr th:only-of-type {\n",
       "        vertical-align: middle;\n",
       "    }\n",
       "\n",
       "    .dataframe tbody tr th {\n",
       "        vertical-align: top;\n",
       "    }\n",
       "\n",
       "    .dataframe thead th {\n",
       "        text-align: right;\n",
       "    }\n",
       "</style>\n",
       "<table border=\"1\" class=\"dataframe\">\n",
       "  <thead>\n",
       "    <tr style=\"text-align: right;\">\n",
       "      <th></th>\n",
       "      <th>Year</th>\n",
       "      <th>Median</th>\n",
       "    </tr>\n",
       "  </thead>\n",
       "  <tbody>\n",
       "    <tr>\n",
       "      <th>0</th>\n",
       "      <td>Number of students receiving a Bachelor's degr...</td>\n",
       "      <td>4589.5</td>\n",
       "    </tr>\n",
       "    <tr>\n",
       "      <th>1</th>\n",
       "      <td>Number of students receiving a Bachelor's degr...</td>\n",
       "      <td>4644.5</td>\n",
       "    </tr>\n",
       "    <tr>\n",
       "      <th>2</th>\n",
       "      <td>Number of students receiving a Bachelor's degr...</td>\n",
       "      <td>4599.0</td>\n",
       "    </tr>\n",
       "    <tr>\n",
       "      <th>3</th>\n",
       "      <td>Number of students receiving a Bachelor's degr...</td>\n",
       "      <td>4512.5</td>\n",
       "    </tr>\n",
       "    <tr>\n",
       "      <th>4</th>\n",
       "      <td>Number of students receiving a Bachelor's degr...</td>\n",
       "      <td>4285.0</td>\n",
       "    </tr>\n",
       "  </tbody>\n",
       "</table>\n",
       "</div>"
      ],
      "text/plain": [
       "                                                Year  Median\n",
       "0  Number of students receiving a Bachelor's degr...  4589.5\n",
       "1  Number of students receiving a Bachelor's degr...  4644.5\n",
       "2  Number of students receiving a Bachelor's degr...  4599.0\n",
       "3  Number of students receiving a Bachelor's degr...  4512.5\n",
       "4  Number of students receiving a Bachelor's degr...  4285.0"
      ]
     },
     "execution_count": 13,
     "metadata": {},
     "output_type": "execute_result"
    }
   ],
   "source": [
    "bac_df = pd.DataFrame(median_bac)\n",
    "bac_df"
   ]
  },
  {
   "cell_type": "code",
   "execution_count": 14,
   "metadata": {
    "scrolled": true
   },
   "outputs": [
    {
     "data": {
      "text/html": [
       "<div>\n",
       "<style scoped>\n",
       "    .dataframe tbody tr th:only-of-type {\n",
       "        vertical-align: middle;\n",
       "    }\n",
       "\n",
       "    .dataframe tbody tr th {\n",
       "        vertical-align: top;\n",
       "    }\n",
       "\n",
       "    .dataframe thead th {\n",
       "        text-align: right;\n",
       "    }\n",
       "</style>\n",
       "<table border=\"1\" class=\"dataframe\">\n",
       "  <thead>\n",
       "    <tr style=\"text-align: right;\">\n",
       "      <th></th>\n",
       "      <th>Year</th>\n",
       "      <th>Median</th>\n",
       "    </tr>\n",
       "  </thead>\n",
       "  <tbody>\n",
       "    <tr>\n",
       "      <th>0</th>\n",
       "      <td>Reported full-time equivalent (FTE) undergradu...</td>\n",
       "      <td>19835.5</td>\n",
       "    </tr>\n",
       "    <tr>\n",
       "      <th>1</th>\n",
       "      <td>Reported full-time equivalent (FTE) undergradu...</td>\n",
       "      <td>19856.0</td>\n",
       "    </tr>\n",
       "    <tr>\n",
       "      <th>2</th>\n",
       "      <td>Reported full-time equivalent (FTE) undergradu...</td>\n",
       "      <td>18921.0</td>\n",
       "    </tr>\n",
       "    <tr>\n",
       "      <th>3</th>\n",
       "      <td>Reported full-time equivalent (FTE) undergradu...</td>\n",
       "      <td>18053.0</td>\n",
       "    </tr>\n",
       "    <tr>\n",
       "      <th>4</th>\n",
       "      <td>Reported full-time equivalent (FTE) undergradu...</td>\n",
       "      <td>17122.5</td>\n",
       "    </tr>\n",
       "  </tbody>\n",
       "</table>\n",
       "</div>"
      ],
      "text/plain": [
       "                                                Year   Median\n",
       "0  Reported full-time equivalent (FTE) undergradu...  19835.5\n",
       "1  Reported full-time equivalent (FTE) undergradu...  19856.0\n",
       "2  Reported full-time equivalent (FTE) undergradu...  18921.0\n",
       "3  Reported full-time equivalent (FTE) undergradu...  18053.0\n",
       "4  Reported full-time equivalent (FTE) undergradu...  17122.5"
      ]
     },
     "execution_count": 14,
     "metadata": {},
     "output_type": "execute_result"
    }
   ],
   "source": [
    "fte_df = pd.DataFrame(median_fte)\n",
    "fte_df"
   ]
  },
  {
   "cell_type": "markdown",
   "metadata": {},
   "source": [
    "**Extract similar columns for UTSA (fte and bac)**"
   ]
  },
  {
   "cell_type": "code",
   "execution_count": 15,
   "metadata": {},
   "outputs": [
    {
     "data": {
      "text/html": [
       "<div>\n",
       "<style scoped>\n",
       "    .dataframe tbody tr th:only-of-type {\n",
       "        vertical-align: middle;\n",
       "    }\n",
       "\n",
       "    .dataframe tbody tr th {\n",
       "        vertical-align: top;\n",
       "    }\n",
       "\n",
       "    .dataframe thead th {\n",
       "        text-align: right;\n",
       "    }\n",
       "</style>\n",
       "<table border=\"1\" class=\"dataframe\">\n",
       "  <thead>\n",
       "    <tr style=\"text-align: right;\">\n",
       "      <th></th>\n",
       "      <th>Reported full-time equivalent (FTE) undergraduate enrollment  2012-13 (EFIA2013_RV)</th>\n",
       "      <th>Reported full-time equivalent (FTE) undergraduate enrollment  2011-12 (EFIA2012_RV)</th>\n",
       "      <th>Reported full-time equivalent (FTE) undergraduate enrollment  2010-11 (EFIA2011_RV)</th>\n",
       "      <th>Reported full-time equivalent (FTE) undergraduate enrollment  2009-10 (EFIA2010_RV)</th>\n",
       "      <th>Reported full-time equivalent (FTE) undergraduate enrollment  2008-09 (EFIA2009_RV)</th>\n",
       "    </tr>\n",
       "  </thead>\n",
       "  <tbody>\n",
       "    <tr>\n",
       "      <th>5</th>\n",
       "      <td>22635</td>\n",
       "      <td>22898</td>\n",
       "      <td>22284</td>\n",
       "      <td>21590</td>\n",
       "      <td>20939</td>\n",
       "    </tr>\n",
       "  </tbody>\n",
       "</table>\n",
       "</div>"
      ],
      "text/plain": [
       "   Reported full-time equivalent (FTE) undergraduate enrollment  2012-13 (EFIA2013_RV)  \\\n",
       "5                                              22635                                     \n",
       "\n",
       "   Reported full-time equivalent (FTE) undergraduate enrollment  2011-12 (EFIA2012_RV)  \\\n",
       "5                                              22898                                     \n",
       "\n",
       "   Reported full-time equivalent (FTE) undergraduate enrollment  2010-11 (EFIA2011_RV)  \\\n",
       "5                                              22284                                     \n",
       "\n",
       "   Reported full-time equivalent (FTE) undergraduate enrollment  2009-10 (EFIA2010_RV)  \\\n",
       "5                                              21590                                     \n",
       "\n",
       "   Reported full-time equivalent (FTE) undergraduate enrollment  2008-09 (EFIA2009_RV)  \n",
       "5                                              20939                                    "
      ]
     },
     "execution_count": 15,
     "metadata": {},
     "output_type": "execute_result"
    }
   ],
   "source": [
    "utsa_fte = fte[fte['Institution Name'] == 'The University of Texas at San Antonio'].drop('Institution Name',axis=1)\n",
    "utsa_fte"
   ]
  },
  {
   "cell_type": "code",
   "execution_count": 16,
   "metadata": {},
   "outputs": [
    {
     "data": {
      "text/html": [
       "<div>\n",
       "<style scoped>\n",
       "    .dataframe tbody tr th:only-of-type {\n",
       "        vertical-align: middle;\n",
       "    }\n",
       "\n",
       "    .dataframe tbody tr th {\n",
       "        vertical-align: top;\n",
       "    }\n",
       "\n",
       "    .dataframe thead th {\n",
       "        text-align: right;\n",
       "    }\n",
       "</style>\n",
       "<table border=\"1\" class=\"dataframe\">\n",
       "  <thead>\n",
       "    <tr style=\"text-align: right;\">\n",
       "      <th></th>\n",
       "      <th>Number of students receiving a Bachelor's degree (DRVC2016)</th>\n",
       "      <th>Number of students receiving a Bachelor's degree (DRVC2015_RV)</th>\n",
       "      <th>Number of students receiving a Bachelor's degree (DRVC2014_RV)</th>\n",
       "      <th>Number of students receiving a Bachelor's degree (DRVC2013_RV)</th>\n",
       "      <th>Number of students receiving a Bachelor's degree (DRVC2012_RV)</th>\n",
       "    </tr>\n",
       "  </thead>\n",
       "  <tbody>\n",
       "    <tr>\n",
       "      <th>5</th>\n",
       "      <td>4685</td>\n",
       "      <td>4657</td>\n",
       "      <td>4521</td>\n",
       "      <td>4371</td>\n",
       "      <td>4204</td>\n",
       "    </tr>\n",
       "  </tbody>\n",
       "</table>\n",
       "</div>"
      ],
      "text/plain": [
       "   Number of students receiving a Bachelor's degree (DRVC2016)  \\\n",
       "5                                               4685             \n",
       "\n",
       "   Number of students receiving a Bachelor's degree (DRVC2015_RV)  \\\n",
       "5                                               4657                \n",
       "\n",
       "   Number of students receiving a Bachelor's degree (DRVC2014_RV)  \\\n",
       "5                                               4521                \n",
       "\n",
       "   Number of students receiving a Bachelor's degree (DRVC2013_RV)  \\\n",
       "5                                               4371                \n",
       "\n",
       "   Number of students receiving a Bachelor's degree (DRVC2012_RV)  \n",
       "5                                               4204               "
      ]
     },
     "execution_count": 16,
     "metadata": {},
     "output_type": "execute_result"
    }
   ],
   "source": [
    "utsa_bac = bac[bac['Institution Name'] == 'The University of Texas at San Antonio'].drop('Institution Name',axis=1)\n",
    "utsa_bac"
   ]
  },
  {
   "cell_type": "code",
   "execution_count": 17,
   "metadata": {},
   "outputs": [],
   "source": [
    "utsa_fte_list = list(utsa_fte.loc[5])"
   ]
  },
  {
   "cell_type": "code",
   "execution_count": 18,
   "metadata": {},
   "outputs": [],
   "source": [
    "utsa_bac_list = list(utsa_bac.loc[5])"
   ]
  },
  {
   "cell_type": "markdown",
   "metadata": {},
   "source": [
    "**And merge the information into the two dataframes created previously**"
   ]
  },
  {
   "cell_type": "code",
   "execution_count": 19,
   "metadata": {
    "scrolled": false
   },
   "outputs": [
    {
     "data": {
      "text/html": [
       "<div>\n",
       "<style scoped>\n",
       "    .dataframe tbody tr th:only-of-type {\n",
       "        vertical-align: middle;\n",
       "    }\n",
       "\n",
       "    .dataframe tbody tr th {\n",
       "        vertical-align: top;\n",
       "    }\n",
       "\n",
       "    .dataframe thead th {\n",
       "        text-align: right;\n",
       "    }\n",
       "</style>\n",
       "<table border=\"1\" class=\"dataframe\">\n",
       "  <thead>\n",
       "    <tr style=\"text-align: right;\">\n",
       "      <th></th>\n",
       "      <th>Year</th>\n",
       "      <th>Median</th>\n",
       "      <th>UTSA</th>\n",
       "    </tr>\n",
       "  </thead>\n",
       "  <tbody>\n",
       "    <tr>\n",
       "      <th>0</th>\n",
       "      <td>Number of students receiving a Bachelor's degr...</td>\n",
       "      <td>4589.5</td>\n",
       "      <td>4685</td>\n",
       "    </tr>\n",
       "    <tr>\n",
       "      <th>1</th>\n",
       "      <td>Number of students receiving a Bachelor's degr...</td>\n",
       "      <td>4644.5</td>\n",
       "      <td>4657</td>\n",
       "    </tr>\n",
       "    <tr>\n",
       "      <th>2</th>\n",
       "      <td>Number of students receiving a Bachelor's degr...</td>\n",
       "      <td>4599.0</td>\n",
       "      <td>4521</td>\n",
       "    </tr>\n",
       "    <tr>\n",
       "      <th>3</th>\n",
       "      <td>Number of students receiving a Bachelor's degr...</td>\n",
       "      <td>4512.5</td>\n",
       "      <td>4371</td>\n",
       "    </tr>\n",
       "    <tr>\n",
       "      <th>4</th>\n",
       "      <td>Number of students receiving a Bachelor's degr...</td>\n",
       "      <td>4285.0</td>\n",
       "      <td>4204</td>\n",
       "    </tr>\n",
       "  </tbody>\n",
       "</table>\n",
       "</div>"
      ],
      "text/plain": [
       "                                                Year  Median  UTSA\n",
       "0  Number of students receiving a Bachelor's degr...  4589.5  4685\n",
       "1  Number of students receiving a Bachelor's degr...  4644.5  4657\n",
       "2  Number of students receiving a Bachelor's degr...  4599.0  4521\n",
       "3  Number of students receiving a Bachelor's degr...  4512.5  4371\n",
       "4  Number of students receiving a Bachelor's degr...  4285.0  4204"
      ]
     },
     "execution_count": 19,
     "metadata": {},
     "output_type": "execute_result"
    }
   ],
   "source": [
    "bac_df['UTSA'] = utsa_bac_list\n",
    "bac_df"
   ]
  },
  {
   "cell_type": "code",
   "execution_count": 20,
   "metadata": {},
   "outputs": [
    {
     "data": {
      "text/html": [
       "<div>\n",
       "<style scoped>\n",
       "    .dataframe tbody tr th:only-of-type {\n",
       "        vertical-align: middle;\n",
       "    }\n",
       "\n",
       "    .dataframe tbody tr th {\n",
       "        vertical-align: top;\n",
       "    }\n",
       "\n",
       "    .dataframe thead th {\n",
       "        text-align: right;\n",
       "    }\n",
       "</style>\n",
       "<table border=\"1\" class=\"dataframe\">\n",
       "  <thead>\n",
       "    <tr style=\"text-align: right;\">\n",
       "      <th></th>\n",
       "      <th>Year</th>\n",
       "      <th>Median</th>\n",
       "      <th>UTSA</th>\n",
       "    </tr>\n",
       "  </thead>\n",
       "  <tbody>\n",
       "    <tr>\n",
       "      <th>0</th>\n",
       "      <td>Reported full-time equivalent (FTE) undergradu...</td>\n",
       "      <td>19835.5</td>\n",
       "      <td>22635</td>\n",
       "    </tr>\n",
       "    <tr>\n",
       "      <th>1</th>\n",
       "      <td>Reported full-time equivalent (FTE) undergradu...</td>\n",
       "      <td>19856.0</td>\n",
       "      <td>22898</td>\n",
       "    </tr>\n",
       "    <tr>\n",
       "      <th>2</th>\n",
       "      <td>Reported full-time equivalent (FTE) undergradu...</td>\n",
       "      <td>18921.0</td>\n",
       "      <td>22284</td>\n",
       "    </tr>\n",
       "    <tr>\n",
       "      <th>3</th>\n",
       "      <td>Reported full-time equivalent (FTE) undergradu...</td>\n",
       "      <td>18053.0</td>\n",
       "      <td>21590</td>\n",
       "    </tr>\n",
       "    <tr>\n",
       "      <th>4</th>\n",
       "      <td>Reported full-time equivalent (FTE) undergradu...</td>\n",
       "      <td>17122.5</td>\n",
       "      <td>20939</td>\n",
       "    </tr>\n",
       "  </tbody>\n",
       "</table>\n",
       "</div>"
      ],
      "text/plain": [
       "                                                Year   Median   UTSA\n",
       "0  Reported full-time equivalent (FTE) undergradu...  19835.5  22635\n",
       "1  Reported full-time equivalent (FTE) undergradu...  19856.0  22898\n",
       "2  Reported full-time equivalent (FTE) undergradu...  18921.0  22284\n",
       "3  Reported full-time equivalent (FTE) undergradu...  18053.0  21590\n",
       "4  Reported full-time equivalent (FTE) undergradu...  17122.5  20939"
      ]
     },
     "execution_count": 20,
     "metadata": {},
     "output_type": "execute_result"
    }
   ],
   "source": [
    "fte_df['UTSA'] = utsa_fte_list\n",
    "fte_df"
   ]
  },
  {
   "cell_type": "code",
   "execution_count": 21,
   "metadata": {},
   "outputs": [],
   "source": [
    "for item in range(5):\n",
    "    bac_df.loc[item,'Year'] = str(2016 - item)"
   ]
  },
  {
   "cell_type": "code",
   "execution_count": 22,
   "metadata": {},
   "outputs": [],
   "source": [
    "for item in range(5):\n",
    "    fte_df.loc[item,'Year'] = str(2016 - item)"
   ]
  },
  {
   "cell_type": "code",
   "execution_count": 23,
   "metadata": {},
   "outputs": [],
   "source": [
    "bac_df.columns = ['Year','Median Degrees','UTSA Degrees']\n",
    "fte_df.columns = ['Year','Median FTE','UTSA FTE']"
   ]
  },
  {
   "cell_type": "code",
   "execution_count": 24,
   "metadata": {},
   "outputs": [],
   "source": [
    "found = pd.merge(bac_df,fte_df,how='inner',on='Year')"
   ]
  },
  {
   "cell_type": "code",
   "execution_count": 25,
   "metadata": {
    "scrolled": true
   },
   "outputs": [
    {
     "data": {
      "text/html": [
       "<div>\n",
       "<style scoped>\n",
       "    .dataframe tbody tr th:only-of-type {\n",
       "        vertical-align: middle;\n",
       "    }\n",
       "\n",
       "    .dataframe tbody tr th {\n",
       "        vertical-align: top;\n",
       "    }\n",
       "\n",
       "    .dataframe thead th {\n",
       "        text-align: right;\n",
       "    }\n",
       "</style>\n",
       "<table border=\"1\" class=\"dataframe\">\n",
       "  <thead>\n",
       "    <tr style=\"text-align: right;\">\n",
       "      <th></th>\n",
       "      <th>Year</th>\n",
       "      <th>Median Degrees</th>\n",
       "      <th>UTSA Degrees</th>\n",
       "      <th>Median FTE</th>\n",
       "      <th>UTSA FTE</th>\n",
       "    </tr>\n",
       "  </thead>\n",
       "  <tbody>\n",
       "    <tr>\n",
       "      <th>0</th>\n",
       "      <td>2016</td>\n",
       "      <td>4589.5</td>\n",
       "      <td>4685</td>\n",
       "      <td>19835.5</td>\n",
       "      <td>22635</td>\n",
       "    </tr>\n",
       "    <tr>\n",
       "      <th>1</th>\n",
       "      <td>2015</td>\n",
       "      <td>4644.5</td>\n",
       "      <td>4657</td>\n",
       "      <td>19856.0</td>\n",
       "      <td>22898</td>\n",
       "    </tr>\n",
       "    <tr>\n",
       "      <th>2</th>\n",
       "      <td>2014</td>\n",
       "      <td>4599.0</td>\n",
       "      <td>4521</td>\n",
       "      <td>18921.0</td>\n",
       "      <td>22284</td>\n",
       "    </tr>\n",
       "    <tr>\n",
       "      <th>3</th>\n",
       "      <td>2013</td>\n",
       "      <td>4512.5</td>\n",
       "      <td>4371</td>\n",
       "      <td>18053.0</td>\n",
       "      <td>21590</td>\n",
       "    </tr>\n",
       "    <tr>\n",
       "      <th>4</th>\n",
       "      <td>2012</td>\n",
       "      <td>4285.0</td>\n",
       "      <td>4204</td>\n",
       "      <td>17122.5</td>\n",
       "      <td>20939</td>\n",
       "    </tr>\n",
       "  </tbody>\n",
       "</table>\n",
       "</div>"
      ],
      "text/plain": [
       "   Year  Median Degrees  UTSA Degrees  Median FTE  UTSA FTE\n",
       "0  2016          4589.5          4685     19835.5     22635\n",
       "1  2015          4644.5          4657     19856.0     22898\n",
       "2  2014          4599.0          4521     18921.0     22284\n",
       "3  2013          4512.5          4371     18053.0     21590\n",
       "4  2012          4285.0          4204     17122.5     20939"
      ]
     },
     "execution_count": 25,
     "metadata": {},
     "output_type": "execute_result"
    }
   ],
   "source": [
    "found"
   ]
  },
  {
   "cell_type": "code",
   "execution_count": 26,
   "metadata": {},
   "outputs": [],
   "source": [
    "median_ratio = found[['Median Degrees','Median FTE','Year']]\n",
    "UTSA_ratio = found[['UTSA Degrees','UTSA FTE','Year']]"
   ]
  },
  {
   "cell_type": "code",
   "execution_count": 27,
   "metadata": {},
   "outputs": [
    {
     "name": "stderr",
     "output_type": "stream",
     "text": [
      "C:\\Users\\rzz934\\AppData\\Local\\Continuum\\anaconda3\\lib\\site-packages\\pandas\\core\\indexing.py:362: SettingWithCopyWarning: \n",
      "A value is trying to be set on a copy of a slice from a DataFrame.\n",
      "Try using .loc[row_indexer,col_indexer] = value instead\n",
      "\n",
      "See the caveats in the documentation: http://pandas.pydata.org/pandas-docs/stable/indexing.html#indexing-view-versus-copy\n",
      "  self.obj[key] = _infer_fill_value(value)\n",
      "C:\\Users\\rzz934\\AppData\\Local\\Continuum\\anaconda3\\lib\\site-packages\\pandas\\core\\indexing.py:543: SettingWithCopyWarning: \n",
      "A value is trying to be set on a copy of a slice from a DataFrame.\n",
      "Try using .loc[row_indexer,col_indexer] = value instead\n",
      "\n",
      "See the caveats in the documentation: http://pandas.pydata.org/pandas-docs/stable/indexing.html#indexing-view-versus-copy\n",
      "  self.obj[item] = s\n"
     ]
    }
   ],
   "source": [
    "for item in range(5):\n",
    "    median_ratio.loc[item,'Ratio'] = median_ratio.loc[item,'Median Degrees'] / median_ratio.loc[item,'Median FTE']\n",
    "    UTSA_ratio.loc[item,'Ratio'] = UTSA_ratio.loc[item,'UTSA Degrees'] / UTSA_ratio.loc[item,'UTSA FTE']"
   ]
  },
  {
   "cell_type": "code",
   "execution_count": 28,
   "metadata": {},
   "outputs": [],
   "source": [
    "median_ratio = median_ratio.sort_values(by=['Year'])"
   ]
  },
  {
   "cell_type": "code",
   "execution_count": 29,
   "metadata": {},
   "outputs": [],
   "source": [
    "UTSA_ratio = UTSA_ratio.sort_values(by=['Year'])"
   ]
  },
  {
   "cell_type": "code",
   "execution_count": 30,
   "metadata": {
    "scrolled": true
   },
   "outputs": [
    {
     "data": {
      "text/plain": [
       "<matplotlib.legend.Legend at 0x16f58f16550>"
      ]
     },
     "execution_count": 30,
     "metadata": {},
     "output_type": "execute_result"
    },
    {
     "data": {
      "image/png": "[encoded data removed]",
      "text/plain": [
       "<Figure size 432x288 with 1 Axes>"
      ]
     },
     "metadata": {},
     "output_type": "display_data"
    }
   ],
   "source": [
    "plt.plot(UTSA_ratio['Year'],UTSA_ratio['Ratio'],label='UTSA')\n",
    "plt.plot(median_ratio['Year'],median_ratio['Ratio'],label='Peers')\n",
    "plt.legend()"
   ]
  },
  {
   "cell_type": "code",
   "execution_count": 31,
   "metadata": {},
   "outputs": [],
   "source": [
    "# writer = pd.ExcelWriter('UTSA and Peers.xlsx')\n",
    "# median_ratio.to_excel(writer,'Median')\n",
    "# UTSA_ratio.to_excel(writer,'UTSA')\n",
    "# writer.save()"
   ]
  },
  {
   "cell_type": "code",
   "execution_count": null,
   "metadata": {},
   "outputs": [],
   "source": []
  }
 ],
 "metadata": {
  "kernelspec": {
   "display_name": "Python 3",
   "language": "python",
   "name": "python3"
  },
  "language_info": {
   "codemirror_mode": {
    "name": "ipython",
    "version": 3
   },
   "file_extension": ".py",
   "mimetype": "text/x-python",
   "name": "python",
   "nbconvert_exporter": "python",
   "pygments_lexer": "ipython3",
   "version": "3.6.5"
  }
 },
 "nbformat": 4,
 "nbformat_minor": 2
}
