{
 "cells": [
  {
   "cell_type": "code",
   "execution_count": 1,
   "metadata": {},
   "outputs": [],
   "source": [
    "import pandas as pd\n",
    "import numpy as np"
   ]
  },
  {
   "cell_type": "code",
   "execution_count": 2,
   "metadata": {},
   "outputs": [],
   "source": [
    "salary = pd.read_csv('FTE_Salary.csv')"
   ]
  },
  {
   "cell_type": "code",
   "execution_count": 3,
   "metadata": {},
   "outputs": [
    {
     "name": "stdout",
     "output_type": "stream",
     "text": [
      "<class 'pandas.core.frame.DataFrame'>\n",
      "RangeIndex: 11 entries, 0 to 10\n",
      "Data columns (total 6 columns):\n",
      "Institution Name                                                                                  11 non-null object\n",
      "Average salary equated to 9 months of full-time instructional staff - all ranks (DRVHR2016)       11 non-null int64\n",
      "Average salary equated to 9 months of full-time instructional staff - all ranks (DRVHR2015_RV)    11 non-null int64\n",
      "Average salary equated to 9 months of full-time instructional staff - all ranks (DRVHR2014_RV)    11 non-null int64\n",
      "Average salary equated to 9 months of full-time instructional staff - all ranks (DRVHR2013_RV)    11 non-null int64\n",
      "Average salary equated to 9 months of full-time instructional staff - all ranks (DRVHR2012_RV)    11 non-null int64\n",
      "dtypes: int64(5), object(1)\n",
      "memory usage: 608.0+ bytes\n"
     ]
    }
   ],
   "source": [
    "salary.info()"
   ]
  },
  {
   "cell_type": "code",
   "execution_count": 4,
   "metadata": {},
   "outputs": [],
   "source": [
    "col_names = ['Institution Name', '2016', '2015', '2014', '2013', '2012']"
   ]
  },
  {
   "cell_type": "code",
   "execution_count": 5,
   "metadata": {},
   "outputs": [],
   "source": [
    "salary.columns = col_names"
   ]
  },
  {
   "cell_type": "code",
   "execution_count": 6,
   "metadata": {},
   "outputs": [
    {
     "data": {
      "text/html": [
       "<div>\n",
       "<style scoped>\n",
       "    .dataframe tbody tr th:only-of-type {\n",
       "        vertical-align: middle;\n",
       "    }\n",
       "\n",
       "    .dataframe tbody tr th {\n",
       "        vertical-align: top;\n",
       "    }\n",
       "\n",
       "    .dataframe thead th {\n",
       "        text-align: right;\n",
       "    }\n",
       "</style>\n",
       "<table border=\"1\" class=\"dataframe\">\n",
       "  <thead>\n",
       "    <tr style=\"text-align: right;\">\n",
       "      <th></th>\n",
       "      <th>Institution Name</th>\n",
       "      <th>2016</th>\n",
       "      <th>2015</th>\n",
       "      <th>2014</th>\n",
       "      <th>2013</th>\n",
       "      <th>2012</th>\n",
       "    </tr>\n",
       "  </thead>\n",
       "  <tbody>\n",
       "    <tr>\n",
       "      <th>0</th>\n",
       "      <td>Arizona State University-Tempe</td>\n",
       "      <td>99711</td>\n",
       "      <td>98469</td>\n",
       "      <td>95823</td>\n",
       "      <td>93645</td>\n",
       "      <td>86580</td>\n",
       "    </tr>\n",
       "    <tr>\n",
       "      <th>1</th>\n",
       "      <td>Florida International University</td>\n",
       "      <td>90981</td>\n",
       "      <td>89307</td>\n",
       "      <td>87003</td>\n",
       "      <td>86877</td>\n",
       "      <td>83736</td>\n",
       "    </tr>\n",
       "    <tr>\n",
       "      <th>2</th>\n",
       "      <td>George Mason University</td>\n",
       "      <td>95081</td>\n",
       "      <td>95508</td>\n",
       "      <td>94194</td>\n",
       "      <td>94716</td>\n",
       "      <td>91620</td>\n",
       "    </tr>\n",
       "    <tr>\n",
       "      <th>3</th>\n",
       "      <td>Georgia State University</td>\n",
       "      <td>77508</td>\n",
       "      <td>77220</td>\n",
       "      <td>74223</td>\n",
       "      <td>64341</td>\n",
       "      <td>70470</td>\n",
       "    </tr>\n",
       "    <tr>\n",
       "      <th>4</th>\n",
       "      <td>Portland State University</td>\n",
       "      <td>78640</td>\n",
       "      <td>78912</td>\n",
       "      <td>73089</td>\n",
       "      <td>74574</td>\n",
       "      <td>72522</td>\n",
       "    </tr>\n",
       "  </tbody>\n",
       "</table>\n",
       "</div>"
      ],
      "text/plain": [
       "                   Institution Name   2016   2015   2014   2013   2012\n",
       "0    Arizona State University-Tempe  99711  98469  95823  93645  86580\n",
       "1  Florida International University  90981  89307  87003  86877  83736\n",
       "2           George Mason University  95081  95508  94194  94716  91620\n",
       "3          Georgia State University  77508  77220  74223  64341  70470\n",
       "4         Portland State University  78640  78912  73089  74574  72522"
      ]
     },
     "execution_count": 6,
     "metadata": {},
     "output_type": "execute_result"
    }
   ],
   "source": [
    "salary.head()"
   ]
  },
  {
   "cell_type": "code",
   "execution_count": 7,
   "metadata": {},
   "outputs": [],
   "source": [
    "peers = salary[salary['Institution Name'] != 'The University of Texas at San Antonio'].drop('Institution Name',axis=1)"
   ]
  },
  {
   "cell_type": "code",
   "execution_count": 8,
   "metadata": {},
   "outputs": [],
   "source": [
    "medians = { 'Institution Name': 'Median'}"
   ]
  },
  {
   "cell_type": "code",
   "execution_count": 9,
   "metadata": {},
   "outputs": [],
   "source": [
    "for column in peers:\n",
    "    medians[column] = peers[column].median()"
   ]
  },
  {
   "cell_type": "code",
   "execution_count": 10,
   "metadata": {
    "scrolled": false
   },
   "outputs": [
    {
     "data": {
      "text/plain": [
       "{'Institution Name': 'Median',\n",
       " '2016': 93031.0,\n",
       " '2015': 92407.5,\n",
       " '2014': 90684.0,\n",
       " '2013': 90261.0,\n",
       " '2012': 85158.0}"
      ]
     },
     "execution_count": 10,
     "metadata": {},
     "output_type": "execute_result"
    }
   ],
   "source": [
    "medians"
   ]
  },
  {
   "cell_type": "code",
   "execution_count": 11,
   "metadata": {},
   "outputs": [],
   "source": [
    "median_df = pd.DataFrame([medians])"
   ]
  },
  {
   "cell_type": "code",
   "execution_count": 12,
   "metadata": {},
   "outputs": [],
   "source": [
    "UTSA = salary[salary['Institution Name'] == 'The University of Texas at San Antonio']"
   ]
  },
  {
   "cell_type": "code",
   "execution_count": 13,
   "metadata": {},
   "outputs": [
    {
     "data": {
      "text/html": [
       "<div>\n",
       "<style scoped>\n",
       "    .dataframe tbody tr th:only-of-type {\n",
       "        vertical-align: middle;\n",
       "    }\n",
       "\n",
       "    .dataframe tbody tr th {\n",
       "        vertical-align: top;\n",
       "    }\n",
       "\n",
       "    .dataframe thead th {\n",
       "        text-align: right;\n",
       "    }\n",
       "</style>\n",
       "<table border=\"1\" class=\"dataframe\">\n",
       "  <thead>\n",
       "    <tr style=\"text-align: right;\">\n",
       "      <th></th>\n",
       "      <th>Institution Name</th>\n",
       "      <th>2016</th>\n",
       "      <th>2015</th>\n",
       "      <th>2014</th>\n",
       "      <th>2013</th>\n",
       "      <th>2012</th>\n",
       "    </tr>\n",
       "  </thead>\n",
       "  <tbody>\n",
       "    <tr>\n",
       "      <th>5</th>\n",
       "      <td>The University of Texas at San Antonio</td>\n",
       "      <td>79403</td>\n",
       "      <td>84483</td>\n",
       "      <td>68103</td>\n",
       "      <td>83448</td>\n",
       "      <td>80991</td>\n",
       "    </tr>\n",
       "  </tbody>\n",
       "</table>\n",
       "</div>"
      ],
      "text/plain": [
       "                         Institution Name   2016   2015   2014   2013   2012\n",
       "5  The University of Texas at San Antonio  79403  84483  68103  83448  80991"
      ]
     },
     "execution_count": 13,
     "metadata": {},
     "output_type": "execute_result"
    }
   ],
   "source": [
    "UTSA"
   ]
  },
  {
   "cell_type": "code",
   "execution_count": 14,
   "metadata": {
    "scrolled": true
   },
   "outputs": [
    {
     "name": "stderr",
     "output_type": "stream",
     "text": [
      "C:\\Users\\rzz934\\AppData\\Local\\Continuum\\anaconda3\\lib\\site-packages\\pandas\\core\\frame.py:6201: FutureWarning: Sorting because non-concatenation axis is not aligned. A future version\n",
      "of pandas will change to not sort by default.\n",
      "\n",
      "To accept the future behavior, pass 'sort=True'.\n",
      "\n",
      "To retain the current behavior and silence the warning, pass sort=False\n",
      "\n",
      "  sort=sort)\n"
     ]
    }
   ],
   "source": [
    "median_df = median_df.append(UTSA)"
   ]
  },
  {
   "cell_type": "code",
   "execution_count": 15,
   "metadata": {
    "scrolled": true
   },
   "outputs": [
    {
     "data": {
      "text/html": [
       "<div>\n",
       "<style scoped>\n",
       "    .dataframe tbody tr th:only-of-type {\n",
       "        vertical-align: middle;\n",
       "    }\n",
       "\n",
       "    .dataframe tbody tr th {\n",
       "        vertical-align: top;\n",
       "    }\n",
       "\n",
       "    .dataframe thead th {\n",
       "        text-align: right;\n",
       "    }\n",
       "</style>\n",
       "<table border=\"1\" class=\"dataframe\">\n",
       "  <thead>\n",
       "    <tr style=\"text-align: right;\">\n",
       "      <th></th>\n",
       "      <th>2012</th>\n",
       "      <th>2013</th>\n",
       "      <th>2014</th>\n",
       "      <th>2015</th>\n",
       "      <th>2016</th>\n",
       "      <th>Institution Name</th>\n",
       "    </tr>\n",
       "  </thead>\n",
       "  <tbody>\n",
       "    <tr>\n",
       "      <th>0</th>\n",
       "      <td>85158.0</td>\n",
       "      <td>90261.0</td>\n",
       "      <td>90684.0</td>\n",
       "      <td>92407.5</td>\n",
       "      <td>93031.0</td>\n",
       "      <td>Median</td>\n",
       "    </tr>\n",
       "    <tr>\n",
       "      <th>5</th>\n",
       "      <td>80991.0</td>\n",
       "      <td>83448.0</td>\n",
       "      <td>68103.0</td>\n",
       "      <td>84483.0</td>\n",
       "      <td>79403.0</td>\n",
       "      <td>The University of Texas at San Antonio</td>\n",
       "    </tr>\n",
       "  </tbody>\n",
       "</table>\n",
       "</div>"
      ],
      "text/plain": [
       "      2012     2013     2014     2015     2016  \\\n",
       "0  85158.0  90261.0  90684.0  92407.5  93031.0   \n",
       "5  80991.0  83448.0  68103.0  84483.0  79403.0   \n",
       "\n",
       "                         Institution Name  \n",
       "0                                  Median  \n",
       "5  The University of Texas at San Antonio  "
      ]
     },
     "execution_count": 15,
     "metadata": {},
     "output_type": "execute_result"
    }
   ],
   "source": [
    "median_df"
   ]
  },
  {
   "cell_type": "code",
   "execution_count": 16,
   "metadata": {},
   "outputs": [],
   "source": [
    "test_df = pd.melt(median_df, id_vars=\"Institution Name\", var_name='Year', value_name='FTE Salary')"
   ]
  },
  {
   "cell_type": "code",
   "execution_count": 17,
   "metadata": {},
   "outputs": [],
   "source": [
    "test_df = test_df.sort_values(['Institution Name'])"
   ]
  },
  {
   "cell_type": "code",
   "execution_count": 18,
   "metadata": {},
   "outputs": [
    {
     "data": {
      "text/html": [
       "<div>\n",
       "<style scoped>\n",
       "    .dataframe tbody tr th:only-of-type {\n",
       "        vertical-align: middle;\n",
       "    }\n",
       "\n",
       "    .dataframe tbody tr th {\n",
       "        vertical-align: top;\n",
       "    }\n",
       "\n",
       "    .dataframe thead th {\n",
       "        text-align: right;\n",
       "    }\n",
       "</style>\n",
       "<table border=\"1\" class=\"dataframe\">\n",
       "  <thead>\n",
       "    <tr style=\"text-align: right;\">\n",
       "      <th></th>\n",
       "      <th>Institution Name</th>\n",
       "      <th>Year</th>\n",
       "      <th>FTE Salary</th>\n",
       "    </tr>\n",
       "  </thead>\n",
       "  <tbody>\n",
       "    <tr>\n",
       "      <th>0</th>\n",
       "      <td>Median</td>\n",
       "      <td>2012</td>\n",
       "      <td>85158.0</td>\n",
       "    </tr>\n",
       "    <tr>\n",
       "      <th>2</th>\n",
       "      <td>Median</td>\n",
       "      <td>2013</td>\n",
       "      <td>90261.0</td>\n",
       "    </tr>\n",
       "    <tr>\n",
       "      <th>4</th>\n",
       "      <td>Median</td>\n",
       "      <td>2014</td>\n",
       "      <td>90684.0</td>\n",
       "    </tr>\n",
       "    <tr>\n",
       "      <th>6</th>\n",
       "      <td>Median</td>\n",
       "      <td>2015</td>\n",
       "      <td>92407.5</td>\n",
       "    </tr>\n",
       "    <tr>\n",
       "      <th>8</th>\n",
       "      <td>Median</td>\n",
       "      <td>2016</td>\n",
       "      <td>93031.0</td>\n",
       "    </tr>\n",
       "    <tr>\n",
       "      <th>1</th>\n",
       "      <td>The University of Texas at San Antonio</td>\n",
       "      <td>2012</td>\n",
       "      <td>80991.0</td>\n",
       "    </tr>\n",
       "    <tr>\n",
       "      <th>3</th>\n",
       "      <td>The University of Texas at San Antonio</td>\n",
       "      <td>2013</td>\n",
       "      <td>83448.0</td>\n",
       "    </tr>\n",
       "    <tr>\n",
       "      <th>5</th>\n",
       "      <td>The University of Texas at San Antonio</td>\n",
       "      <td>2014</td>\n",
       "      <td>68103.0</td>\n",
       "    </tr>\n",
       "    <tr>\n",
       "      <th>7</th>\n",
       "      <td>The University of Texas at San Antonio</td>\n",
       "      <td>2015</td>\n",
       "      <td>84483.0</td>\n",
       "    </tr>\n",
       "    <tr>\n",
       "      <th>9</th>\n",
       "      <td>The University of Texas at San Antonio</td>\n",
       "      <td>2016</td>\n",
       "      <td>79403.0</td>\n",
       "    </tr>\n",
       "  </tbody>\n",
       "</table>\n",
       "</div>"
      ],
      "text/plain": [
       "                         Institution Name  Year  FTE Salary\n",
       "0                                  Median  2012     85158.0\n",
       "2                                  Median  2013     90261.0\n",
       "4                                  Median  2014     90684.0\n",
       "6                                  Median  2015     92407.5\n",
       "8                                  Median  2016     93031.0\n",
       "1  The University of Texas at San Antonio  2012     80991.0\n",
       "3  The University of Texas at San Antonio  2013     83448.0\n",
       "5  The University of Texas at San Antonio  2014     68103.0\n",
       "7  The University of Texas at San Antonio  2015     84483.0\n",
       "9  The University of Texas at San Antonio  2016     79403.0"
      ]
     },
     "execution_count": 18,
     "metadata": {},
     "output_type": "execute_result"
    }
   ],
   "source": [
    "test_df"
   ]
  },
  {
   "cell_type": "code",
   "execution_count": 19,
   "metadata": {},
   "outputs": [],
   "source": [
    "test_df['Median'] = test_df[test_df['Institution Name']=='Median']['FTE Salary']"
   ]
  },
  {
   "cell_type": "code",
   "execution_count": 20,
   "metadata": {},
   "outputs": [],
   "source": [
    "test_df['The University of Texas at San Antonio'] = test_df[test_df['Institution Name']=='The University of Texas at San Antonio']['FTE Salary']"
   ]
  },
  {
   "cell_type": "code",
   "execution_count": 21,
   "metadata": {},
   "outputs": [
    {
     "data": {
      "text/html": [
       "<div>\n",
       "<style scoped>\n",
       "    .dataframe tbody tr th:only-of-type {\n",
       "        vertical-align: middle;\n",
       "    }\n",
       "\n",
       "    .dataframe tbody tr th {\n",
       "        vertical-align: top;\n",
       "    }\n",
       "\n",
       "    .dataframe thead th {\n",
       "        text-align: right;\n",
       "    }\n",
       "</style>\n",
       "<table border=\"1\" class=\"dataframe\">\n",
       "  <thead>\n",
       "    <tr style=\"text-align: right;\">\n",
       "      <th></th>\n",
       "      <th>Institution Name</th>\n",
       "      <th>Year</th>\n",
       "      <th>FTE Salary</th>\n",
       "      <th>Median</th>\n",
       "      <th>The University of Texas at San Antonio</th>\n",
       "    </tr>\n",
       "  </thead>\n",
       "  <tbody>\n",
       "    <tr>\n",
       "      <th>0</th>\n",
       "      <td>Median</td>\n",
       "      <td>2012</td>\n",
       "      <td>85158.0</td>\n",
       "      <td>85158.0</td>\n",
       "      <td>NaN</td>\n",
       "    </tr>\n",
       "    <tr>\n",
       "      <th>2</th>\n",
       "      <td>Median</td>\n",
       "      <td>2013</td>\n",
       "      <td>90261.0</td>\n",
       "      <td>90261.0</td>\n",
       "      <td>NaN</td>\n",
       "    </tr>\n",
       "    <tr>\n",
       "      <th>4</th>\n",
       "      <td>Median</td>\n",
       "      <td>2014</td>\n",
       "      <td>90684.0</td>\n",
       "      <td>90684.0</td>\n",
       "      <td>NaN</td>\n",
       "    </tr>\n",
       "    <tr>\n",
       "      <th>6</th>\n",
       "      <td>Median</td>\n",
       "      <td>2015</td>\n",
       "      <td>92407.5</td>\n",
       "      <td>92407.5</td>\n",
       "      <td>NaN</td>\n",
       "    </tr>\n",
       "    <tr>\n",
       "      <th>8</th>\n",
       "      <td>Median</td>\n",
       "      <td>2016</td>\n",
       "      <td>93031.0</td>\n",
       "      <td>93031.0</td>\n",
       "      <td>NaN</td>\n",
       "    </tr>\n",
       "    <tr>\n",
       "      <th>1</th>\n",
       "      <td>The University of Texas at San Antonio</td>\n",
       "      <td>2012</td>\n",
       "      <td>80991.0</td>\n",
       "      <td>NaN</td>\n",
       "      <td>80991.0</td>\n",
       "    </tr>\n",
       "    <tr>\n",
       "      <th>3</th>\n",
       "      <td>The University of Texas at San Antonio</td>\n",
       "      <td>2013</td>\n",
       "      <td>83448.0</td>\n",
       "      <td>NaN</td>\n",
       "      <td>83448.0</td>\n",
       "    </tr>\n",
       "    <tr>\n",
       "      <th>5</th>\n",
       "      <td>The University of Texas at San Antonio</td>\n",
       "      <td>2014</td>\n",
       "      <td>68103.0</td>\n",
       "      <td>NaN</td>\n",
       "      <td>68103.0</td>\n",
       "    </tr>\n",
       "    <tr>\n",
       "      <th>7</th>\n",
       "      <td>The University of Texas at San Antonio</td>\n",
       "      <td>2015</td>\n",
       "      <td>84483.0</td>\n",
       "      <td>NaN</td>\n",
       "      <td>84483.0</td>\n",
       "    </tr>\n",
       "    <tr>\n",
       "      <th>9</th>\n",
       "      <td>The University of Texas at San Antonio</td>\n",
       "      <td>2016</td>\n",
       "      <td>79403.0</td>\n",
       "      <td>NaN</td>\n",
       "      <td>79403.0</td>\n",
       "    </tr>\n",
       "  </tbody>\n",
       "</table>\n",
       "</div>"
      ],
      "text/plain": [
       "                         Institution Name  Year  FTE Salary   Median  \\\n",
       "0                                  Median  2012     85158.0  85158.0   \n",
       "2                                  Median  2013     90261.0  90261.0   \n",
       "4                                  Median  2014     90684.0  90684.0   \n",
       "6                                  Median  2015     92407.5  92407.5   \n",
       "8                                  Median  2016     93031.0  93031.0   \n",
       "1  The University of Texas at San Antonio  2012     80991.0      NaN   \n",
       "3  The University of Texas at San Antonio  2013     83448.0      NaN   \n",
       "5  The University of Texas at San Antonio  2014     68103.0      NaN   \n",
       "7  The University of Texas at San Antonio  2015     84483.0      NaN   \n",
       "9  The University of Texas at San Antonio  2016     79403.0      NaN   \n",
       "\n",
       "   The University of Texas at San Antonio  \n",
       "0                                     NaN  \n",
       "2                                     NaN  \n",
       "4                                     NaN  \n",
       "6                                     NaN  \n",
       "8                                     NaN  \n",
       "1                                 80991.0  \n",
       "3                                 83448.0  \n",
       "5                                 68103.0  \n",
       "7                                 84483.0  \n",
       "9                                 79403.0  "
      ]
     },
     "execution_count": 21,
     "metadata": {},
     "output_type": "execute_result"
    }
   ],
   "source": [
    "test_df"
   ]
  },
  {
   "cell_type": "code",
   "execution_count": 22,
   "metadata": {},
   "outputs": [],
   "source": [
    "median = test_df.drop(['Institution Name','FTE Salary','The University of Texas at San Antonio'],axis=1)"
   ]
  },
  {
   "cell_type": "code",
   "execution_count": 23,
   "metadata": {},
   "outputs": [],
   "source": [
    "UTSA = test_df.drop(['Institution Name','FTE Salary','Median'],axis=1)"
   ]
  },
  {
   "cell_type": "code",
   "execution_count": 26,
   "metadata": {},
   "outputs": [],
   "source": [
    "UTSA.dropna(axis=0,inplace=True)\n",
    "median.dropna(axis=0,inplace=True)"
   ]
  },
  {
   "cell_type": "code",
   "execution_count": 28,
   "metadata": {},
   "outputs": [],
   "source": [
    "median_df = pd.merge(median,UTSA,how='inner',on='Year')"
   ]
  },
  {
   "cell_type": "code",
   "execution_count": 29,
   "metadata": {},
   "outputs": [],
   "source": [
    "median_df = median_df.sort_values('Year')"
   ]
  },
  {
   "cell_type": "code",
   "execution_count": 31,
   "metadata": {},
   "outputs": [],
   "source": [
    "median_col = ['Year', 'Median','UTSA']"
   ]
  },
  {
   "cell_type": "code",
   "execution_count": 32,
   "metadata": {},
   "outputs": [],
   "source": [
    "median_df.columns = median_col"
   ]
  },
  {
   "cell_type": "code",
   "execution_count": 35,
   "metadata": {},
   "outputs": [],
   "source": [
    "# writer = pd.ExcelWriter('FTE Salary.xlsx')\n",
    "# median_df.to_excel(writer,'FTE Sal')\n",
    "# writer.save()"
   ]
  },
  {
   "cell_type": "code",
   "execution_count": null,
   "metadata": {},
   "outputs": [],
   "source": []
  }
 ],
 "metadata": {
  "kernelspec": {
   "display_name": "Python 3",
   "language": "python",
   "name": "python3"
  },
  "language_info": {
   "codemirror_mode": {
    "name": "ipython",
    "version": 3
   },
   "file_extension": ".py",
   "mimetype": "text/x-python",
   "name": "python",
   "nbconvert_exporter": "python",
   "pygments_lexer": "ipython3",
   "version": "3.6.5"
  }
 },
 "nbformat": 4,
 "nbformat_minor": 2
}
